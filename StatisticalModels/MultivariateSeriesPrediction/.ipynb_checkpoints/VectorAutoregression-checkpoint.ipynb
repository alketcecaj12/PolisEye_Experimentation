{
 "cells": [
  {
   "cell_type": "markdown",
   "metadata": {},
   "source": [
    "### Vector Autoregression\n",
    "\n",
    "<p>The Vector Autoregression (VAR) method models the next step in each time series using an AR model. \n",
    "It is the generalization of AR to multiple parallel time series, e.g. multivariate time series.\n",
    "\n",
    "The notation for the model involves specifying the order for the AR(p) model as \n",
    "parameters to a VAR function, e.g. VAR(p). </p>"
   ]
  },
  {
   "cell_type": "code",
   "execution_count": 8,
   "metadata": {},
   "outputs": [],
   "source": [
    "import matplotlib.pyplot as plt \n",
    "import pandas as pd\n",
    "import numpy as np\n",
    "from sklearn.metrics import mean_squared_error\n",
    "from math import sqrt\n",
    "from statsmodels.tsa.ar_model import AR\n",
    "import warnings\n",
    "from statsmodels.tsa.vector_ar.var_model import VAR\n",
    "from random import random\n",
    "warnings.filterwarnings('ignore')"
   ]
  },
  {
   "cell_type": "markdown",
   "metadata": {},
   "source": [
    "### Carica i dati e crea dataset per VAR"
   ]
  },
  {
   "cell_type": "code",
   "execution_count": 9,
   "metadata": {},
   "outputs": [],
   "source": [
    "data = pd.read_csv('/Users/alket/Desktop/dati/new_data_backfill_forwfill.csv',index_col = 0)"
   ]
  },
  {
   "cell_type": "code",
   "execution_count": 10,
   "metadata": {},
   "outputs": [],
   "source": [
    "gbc = data.groupby(by = data['cell_num'])\n",
    "\n",
    "cell_1 = gbc.get_group('486-1258')\n",
    "cell_2 = gbc.get_group('498-1268')\n",
    "cell_3 = gbc.get_group('498-1262')\n",
    "cell_4 = gbc.get_group('498-1266')\n",
    "cell_5 = gbc.get_group('498-1267')\n",
    "cell_6 = gbc.get_group('486-1260')\n",
    "cell_7 = gbc.get_group('498-1261')\n",
    "cell_8 = gbc.get_group('498-1263')\n",
    "cell_9 = gbc.get_group('498-1265')\n",
    "\n",
    "serie2 = cell_2['nr_people'].tolist()\n",
    "serie1 = cell_1['nr_people'].tolist()\n",
    "serie3 = cell_3['nr_people'].tolist()\n",
    "serie4 = cell_4['nr_people'].tolist()\n",
    "serie5 = cell_5['nr_people'].tolist()\n",
    "serie6 = cell_6['nr_people'].tolist()\n",
    "serie7 = cell_7['nr_people'].tolist()\n",
    "serie8 = cell_8['nr_people'].tolist()\n",
    "serie9 = cell_9['nr_people'].tolist()\n",
    "\n",
    "data = list()\n",
    "count = 0\n",
    "for i in range(len(serie1)):        \n",
    "    v1 = serie1[count]\n",
    "    v2 = serie2[count]\n",
    "    v3 = serie3[count]\n",
    "    v4 = serie4[count]\n",
    "    v5 = serie5[count]\n",
    "    v6 = serie6[count]\n",
    "    v7 = serie7[count]\n",
    "    v8 = serie8[count]\n",
    "    v9 = serie9[count]\n",
    "    count +=1\n",
    "    row = [v1, v2, v3, v4, v5, v6, v7, v8, v9]\n",
    "    data.append(row)"
   ]
  },
  {
   "cell_type": "markdown",
   "metadata": {},
   "source": [
    "### Modello VAR"
   ]
  },
  {
   "cell_type": "code",
   "execution_count": 11,
   "metadata": {},
   "outputs": [],
   "source": [
    "model = VAR(data)\n",
    "model_fit = model.fit()"
   ]
  },
  {
   "cell_type": "markdown",
   "metadata": {},
   "source": [
    "### Dimostra una prima previsione"
   ]
  },
  {
   "cell_type": "code",
   "execution_count": 12,
   "metadata": {},
   "outputs": [
    {
     "name": "stdout",
     "output_type": "stream",
     "text": [
      "[[33.06493606 32.00441262 14.17307148 15.17330878 94.40175545 33.1157888\n",
      "  73.45747461 13.99676004 15.02346394]\n",
      " [33.11875333 32.06781207 14.27996261 15.29868066 94.73732261 33.21090728\n",
      "  73.88049496 14.02809684 15.08522604]\n",
      " [33.160982   32.15178976 14.3628561  15.40126138 95.05053477 33.28862996\n",
      "  74.27991591 14.07586683 15.16002753]\n",
      " [33.19450086 32.24281502 14.43670339 15.4917005  95.3553313  33.35360335\n",
      "  74.66034922 14.13176688 15.23779578]\n",
      " [33.22229401 32.3359437  14.50656565 15.57467274 95.65558142 33.40973336\n",
      "  75.024056   14.19163244 15.31458123]\n",
      " [33.24673483 32.42924673 14.57400503 15.65234242 95.95193784 33.45993126\n",
      "  75.37238417 14.25316545 15.38891091]\n",
      " [33.26955906 32.52189341 14.63940721 15.72579373 96.2441581  33.50628216\n",
      "  75.70630883 14.31499468 15.4603125 ]\n",
      " [33.29198919 32.61348202 14.70280494 15.79563157 96.53185466 33.55025648\n",
      "  76.02663919 14.37626098 15.52871368]\n",
      " [33.31486518 32.70379801 14.76415665 15.8622389  96.81471002 33.59288225\n",
      "  76.3340991  14.43641589 15.59419675]\n",
      " [33.33874966 32.79272086 14.82343125 15.92588968 97.09251701 33.63487195\n",
      "  76.62935908 14.49511252 15.65689864]\n",
      " [33.36400661 32.8801839  14.88062691 15.98679985 97.36516742 33.67671346\n",
      "  76.9130493  14.55213994 15.71697052]\n",
      " [33.39085856 32.96615442 14.93576937 16.0451513  97.63262966 33.71873477\n",
      "  77.18576528 14.60738064 15.77456202]\n",
      " [33.41942792 33.05062229 14.98890527 16.10110364 97.89492771 33.76115022\n",
      "  77.44807062 14.66078165 15.82981547]\n",
      " [33.44976662 33.13359267 15.04009558 16.15480046 98.15212441 33.80409343\n",
      "  77.70049877 14.71233434 15.88286432]\n",
      " [33.48187752 33.21508117 15.08941028 16.20637282 98.40430879 33.84764098\n",
      "  77.94355441 14.76206021 15.93383302]\n",
      " [33.51572958 33.29511036 15.13692435 16.2559415  98.65158695 33.89182932\n",
      "  78.17771474 14.81000081 15.98283758]\n",
      " [33.55126893 33.37370743 15.18271499 16.30361838 98.89407546 33.93666689\n",
      "  78.40343069 14.85621055 16.02998622]\n",
      " [33.58842664 33.45090242 15.22685965 16.34950759 99.13189669 33.98214281\n",
      "  78.62112828 14.90075172 16.07538001]\n",
      " [33.62712432 33.52672702 15.26943465 16.39370623 99.3651755  34.02823314\n",
      "  78.83120978 14.94369088 16.11911345]\n",
      " [33.66727812 33.60121372 15.31051436 16.43630513 99.59403702 34.07490527\n",
      "  79.034055   14.98509641 16.16127507]]\n"
     ]
    }
   ],
   "source": [
    "yhat = model_fit.forecast(model_fit.y, steps=20)\n",
    "print(yhat)"
   ]
  },
  {
   "cell_type": "markdown",
   "metadata": {},
   "source": [
    "### Calcola errore di previsone"
   ]
  },
  {
   "cell_type": "code",
   "execution_count": 13,
   "metadata": {},
   "outputs": [
    {
     "name": "stdout",
     "output_type": "stream",
     "text": [
      "[[33. 32. 14. 15. 94. 33. 73. 14. 15.]\n",
      " [33. 32. 14. 15. 94. 33. 73. 14. 15.]\n",
      " [33. 32. 14. 15. 94. 33. 73. 14. 15.]\n",
      " [33. 32. 14. 15. 94. 33. 73. 14. 15.]\n",
      " [33. 32. 14. 15. 94. 33. 73. 14. 15.]\n",
      " [33. 32. 14. 15. 94. 33. 73. 14. 15.]]\n",
      "[[ 42.  35.  17.  17. 104.  41.  89.  17.  17.]\n",
      " [ 42.  36.  17.  17. 106.  41.  91.  17.  17.]\n",
      " [ 40.  36.  17.  17. 107.  40.  89.  17.  17.]\n",
      " [ 39.  35.  17.  17. 106.  38.  88.  16.  17.]\n",
      " [ 37.  35.  17.  17. 105.  37.  88.  16.  16.]\n",
      " [ 37.  35.  17.  17. 105.  36.  88.  16.  17.]]\n"
     ]
    }
   ],
   "source": [
    "predicted = []\n",
    "expected = np.array(data)\n",
    "expected.shape\n",
    "\n",
    "for i in range(len(data)):\n",
    "    yhat = model_fit.forecast(model_fit.y, steps=20)\n",
    "    predicted.append(np.rint(yhat[0]))\n",
    "    \n",
    "predicted = np.asarray(predicted)\n",
    "print(predicted[0:6])\n",
    "print(expected[0:6])    "
   ]
  },
  {
   "cell_type": "markdown",
   "metadata": {},
   "source": [
    "### Visualizza grafico errore per ogni cella"
   ]
  },
  {
   "cell_type": "code",
   "execution_count": 14,
   "metadata": {},
   "outputs": [
    {
     "name": "stdout",
     "output_type": "stream",
     "text": [
      "(11808, 9)\n"
     ]
    },
    {
     "data": {
      "image/png": "[encoded data removed]",
      "text/plain": [
       "<Figure size 1008x288 with 1 Axes>"
      ]
     },
     "metadata": {
      "needs_background": "light"
     },
     "output_type": "display_data"
    },
    {
     "name": "stdout",
     "output_type": "stream",
     "text": [
      "(106272, 1)\n"
     ]
    }
   ],
   "source": [
    "## boxlot \n",
    "d = abs(predicted-expected)\n",
    "print(d.shape)\n",
    "\n",
    "plt.figure(figsize = (14,4))\n",
    "plt.boxplot(d, vert= False);\n",
    "plt.show()\n",
    "\n",
    "\n",
    "d = np.resize(d, (106272, 1))\n",
    "print(d.shape)"
   ]
  },
  {
   "cell_type": "markdown",
   "metadata": {},
   "source": [
    "### Grafico distribuzione errore complessivo"
   ]
  },
  {
   "cell_type": "code",
   "execution_count": 15,
   "metadata": {},
   "outputs": [
    {
     "data": {
      "image/png": "[encoded data removed]",
      "text/plain": [
       "<Figure size 1008x144 with 1 Axes>"
      ]
     },
     "metadata": {
      "needs_background": "light"
     },
     "output_type": "display_data"
    }
   ],
   "source": [
    "plt.figure(figsize = (14,2))\n",
    "plt.boxplot(d, vert= False);\n",
    "plt.show()"
   ]
  },
  {
   "cell_type": "code",
   "execution_count": null,
   "metadata": {},
   "outputs": [],
   "source": []
  },
  {
   "cell_type": "code",
   "execution_count": null,
   "metadata": {},
   "outputs": [],
   "source": []
  },
  {
   "cell_type": "code",
   "execution_count": null,
   "metadata": {},
   "outputs": [],
   "source": []
  },
  {
   "cell_type": "code",
   "execution_count": null,
   "metadata": {},
   "outputs": [],
   "source": []
  },
  {
   "cell_type": "code",
   "execution_count": null,
   "metadata": {},
   "outputs": [],
   "source": []
  }
 ],
 "metadata": {
  "kernelspec": {
   "display_name": "Python 3",
   "language": "python",
   "name": "python3"
  },
  "language_info": {
   "codemirror_mode": {
    "name": "ipython",
    "version": 3
   },
   "file_extension": ".py",
   "mimetype": "text/x-python",
   "name": "python",
   "nbconvert_exporter": "python",
   "pygments_lexer": "ipython3",
   "version": "3.7.4"
  }
 },
 "nbformat": 4,
 "nbformat_minor": 2
}
