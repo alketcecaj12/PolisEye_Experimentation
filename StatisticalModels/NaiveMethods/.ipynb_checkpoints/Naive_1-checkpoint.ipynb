{
 "cells": [
  {
   "cell_type": "markdown",
   "metadata": {},
   "source": [
    "### Naive methods"
   ]
  },
  {
   "cell_type": "code",
   "execution_count": 22,
   "metadata": {},
   "outputs": [],
   "source": [
    "import matplotlib.pyplot as plt\n",
    "import pandas as pd\n",
    "import numpy as np\n",
    "\n",
    "import warnings\n",
    "warnings.filterwarnings('ignore')"
   ]
  },
  {
   "cell_type": "code",
   "execution_count": 23,
   "metadata": {},
   "outputs": [
    {
     "name": "stdout",
     "output_type": "stream",
     "text": [
      "[10.0, 20.0, 30.0, 40.0, 50.0, 60.0, 70.0, 80.0, 90.0, 100.0]\n",
      "100.0\n",
      "90.0\n",
      "80.0\n",
      "70.0\n",
      "60.0\n",
      "50.0\n",
      "40.0\n",
      "30.0\n",
      "20.0\n",
      "10.0\n"
     ]
    }
   ],
   "source": [
    "# example of a one-step naive forecast\n",
    "def naive_forecast(history, n):\n",
    "    return history[-n]\n",
    "\n",
    "# define dataset\n",
    "data = [10.0, 20.0, 30.0, 40.0, 50.0, 60.0, 70.0, 80.0, 90.0, 100.0]\n",
    "print(data)\n",
    "\n",
    "# test naive forecast\n",
    "for i in range(1, len(data)+1):\n",
    "    print(naive_forecast(data, i))"
   ]
  },
  {
   "cell_type": "code",
   "execution_count": 32,
   "metadata": {},
   "outputs": [
    {
     "name": "stdout",
     "output_type": "stream",
     "text": [
      "[10.0, 20.0, 30.0, 40.0, 50.0, 60.0, 70.0, 80.0, 90.0, 100.0]\n",
      "1 20.0\n",
      "60.0\n",
      "2 30.0\n",
      "65.0\n",
      "3 40.0\n",
      "70.0\n",
      "4 50.0\n",
      "75.0\n",
      "5 60.0\n",
      "80.0\n",
      "6 70.0\n",
      "85.0\n",
      "7 80.0\n",
      "90.0\n",
      "8 90.0\n",
      "95.0\n",
      "9 100.0\n",
      "100.0\n"
     ]
    }
   ],
   "source": [
    "# one-step average forecast\n",
    "def average_forecast(history, config): \n",
    "    n, avg_type = config\n",
    "    # mean of last n values\n",
    "    if avg_type is 'mean':\n",
    "        return np.mean(history[n:])\n",
    "        # median of last n values\n",
    "    return np.median(history[n:])\n",
    "\n",
    "\n",
    "# define dataset\n",
    "data = [10.0, 20.0, 30.0, 40.0, 50.0, 60.0, 70.0, 80.0, 90.0, 100.0]\n",
    "print(data)\n",
    "# test naive forecast\n",
    "for i in range(1, len(data)):\n",
    "    print(i, data[i])\n",
    "    print(average_forecast(data, (i, 'mean')))"
   ]
  },
  {
   "cell_type": "code",
   "execution_count": 33,
   "metadata": {},
   "outputs": [
    {
     "name": "stdout",
     "output_type": "stream",
     "text": [
      "[80.0, 90.0, 100.0]\n",
      "[20.0, 30.0, 40.0, 50.0, 60.0, 70.0, 80.0, 90.0, 100.0]\n"
     ]
    }
   ],
   "source": [
    "print(data[-3:])\n",
    "print(data[1:])"
   ]
  },
  {
   "cell_type": "code",
   "execution_count": 34,
   "metadata": {},
   "outputs": [
    {
     "name": "stdout",
     "output_type": "stream",
     "text": [
      "90.0\n",
      "[80.0, 90.0, 100.0]\n"
     ]
    }
   ],
   "source": [
    "print(mean(data[-3:]))\n",
    "print(data[-3:])"
   ]
  },
  {
   "cell_type": "code",
   "execution_count": 35,
   "metadata": {},
   "outputs": [
    {
     "data": {
      "text/plain": [
       "80.0"
      ]
     },
     "execution_count": 35,
     "metadata": {},
     "output_type": "execute_result"
    }
   ],
   "source": [
    "median(data[-3])"
   ]
  },
  {
   "cell_type": "markdown",
   "metadata": {},
   "source": [
    "### We can update the function to support averaging over seasonal data, respecting the seasonal offset"
   ]
  },
  {
   "cell_type": "code",
   "execution_count": 48,
   "metadata": {},
   "outputs": [
    {
     "name": "stdout",
     "output_type": "stream",
     "text": [
      "[10.0, 20.0, 30.0, 50, 10.0, 20.0, 30.0, 50, 10.0, 20.0, 30.0, 50]\n",
      "[30.0]\n",
      "30.0\n",
      "[30.0]\n",
      "[30.0, 10.0]\n",
      "20.0\n",
      "[30.0]\n",
      "[30.0, 10.0]\n",
      "[30.0, 10.0, 30.0]\n",
      "30.0\n",
      "[30.0]\n",
      "[30.0, 10.0]\n",
      "[30.0, 10.0, 30.0]\n",
      "[30.0, 10.0, 30.0, 10.0]\n",
      "20.0\n"
     ]
    }
   ],
   "source": [
    "# one-step average forecast\n",
    "def average_forecast(history, config):\n",
    "    n, offset, avg_type = config\n",
    "    values = list()\n",
    "    \n",
    "    if offset == 1:\n",
    "        values = history[-n:]\n",
    "        print(values)\n",
    "    else:\n",
    "        # skip bad configs\n",
    "        if n*offset > len(history):\n",
    "            raise Exception('Config beyond end of data: %d %d' % (n,offset))\n",
    "         # try and collect n values using offset\n",
    "        for i in range(1, n+1):\n",
    "            ix = i * offset\n",
    "            values.append(history[-ix])\n",
    "            print(values)\n",
    "    # mean of last n values\n",
    "    if avg_type is 'mean': \n",
    "        return mean(values)\n",
    "        # median of last n values\n",
    "    return median(values)\n",
    "\n",
    "# define dataset\n",
    "data = [10.0, 20.0, 30.0, 50, 10.0, 20.0, 30.0, 50, 10.0, 20.0, 30.0, 50]\n",
    "print(data)\n",
    "\n",
    "# test naive forecast\n",
    "for i in [1, 2, 3, 4]:\n",
    "    print(average_forecast(data, (i, 2 , 'median')))"
   ]
  },
  {
   "cell_type": "code",
   "execution_count": null,
   "metadata": {},
   "outputs": [],
   "source": []
  },
  {
   "cell_type": "code",
   "execution_count": null,
   "metadata": {},
   "outputs": [],
   "source": []
  },
  {
   "cell_type": "code",
   "execution_count": null,
   "metadata": {},
   "outputs": [],
   "source": []
  },
  {
   "cell_type": "code",
   "execution_count": null,
   "metadata": {},
   "outputs": [],
   "source": []
  },
  {
   "cell_type": "code",
   "execution_count": null,
   "metadata": {},
   "outputs": [],
   "source": []
  },
  {
   "cell_type": "code",
   "execution_count": null,
   "metadata": {},
   "outputs": [],
   "source": []
  },
  {
   "cell_type": "code",
   "execution_count": null,
   "metadata": {},
   "outputs": [],
   "source": []
  }
 ],
 "metadata": {
  "kernelspec": {
   "display_name": "Python 3",
   "language": "python",
   "name": "python3"
  },
  "language_info": {
   "codemirror_mode": {
    "name": "ipython",
    "version": 3
   },
   "file_extension": ".py",
   "mimetype": "text/x-python",
   "name": "python",
   "nbconvert_exporter": "python",
   "pygments_lexer": "ipython3",
   "version": "3.7.4"
  }
 },
 "nbformat": 4,
 "nbformat_minor": 2
}
