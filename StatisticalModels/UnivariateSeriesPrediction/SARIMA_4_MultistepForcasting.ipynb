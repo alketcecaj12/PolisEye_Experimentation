{
 "cells": [
  {
   "cell_type": "code",
   "execution_count": 40,
   "metadata": {},
   "outputs": [],
   "source": [
    "import matplotlib.pyplot as plt \n",
    "from statsmodels.tsa.seasonal import seasonal_decompose\n",
    "from statsmodels.tsa.stattools import adfuller\n",
    "import pandas as pd\n",
    "import numpy as np\n",
    "from pandas import datetime\n",
    "from random import random\n",
    "from pandas.plotting import lag_plot\n",
    "from pandas.plotting import autocorrelation_plot\n",
    "from statsmodels.graphics.tsaplots import plot_acf\n",
    "from sklearn.metrics import mean_squared_error\n",
    "from math import sqrt\n",
    "from statsmodels.tsa.ar_model import AR\n",
    "import warnings\n",
    "from statsmodels.tsa.arima_model import ARIMA\n",
    "from statsmodels.tsa.statespace.sarimax import SARIMAX\n",
    "warnings.filterwarnings('ignore')\n",
    "\n",
    "import time\n",
    "\n",
    "from pandas import read_csv\n",
    "from matplotlib import pyplot\n",
    "from statsmodels.tsa.arima_model import ARIMA\n",
    "from math import sqrt"
   ]
  },
  {
   "cell_type": "code",
   "execution_count": 46,
   "metadata": {},
   "outputs": [],
   "source": [
    "data = pd.read_csv('/Users/alket/Desktop/dati/new_data_backfill_forwfill.csv',index_col = 0)\n",
    "high_activity_data = pd.read_csv('/Users/alket/Desktop/dati/very_high_activity_data.csv',index_col = 0)\n",
    "gbc = data.groupby(by = data['cell_num'])\n",
    "cell_1 = gbc.get_group('488-1254')\n",
    "cell_2 = gbc.get_group('498-1268')\n",
    "serie_dati = cell_1\n",
    "high_activity = high_activity_data"
   ]
  },
  {
   "cell_type": "code",
   "execution_count": 48,
   "metadata": {},
   "outputs": [
    {
     "name": "stdout",
     "output_type": "stream",
     "text": [
      "0\n"
     ]
    }
   ],
   "source": [
    "counter = 0\n",
    "dict2data = {}\n",
    "error_list = []\n",
    "\n",
    "print(counter)\n",
    "counter +=1\n",
    "dates4dec = []\n",
    "cell_values = []\n",
    "\n",
    "for index, row in serie_dati.iterrows():\n",
    "    \n",
    "        date = row['date']\n",
    "        h = str(row['hours'])\n",
    "   \n",
    "        h = h.split('.')\n",
    "    \n",
    "        if len(h[0])<2:\n",
    "            h = h[1]+h[0]\n",
    "        else: \n",
    "            h = h[0]\n",
    "   \n",
    "        minutes = str(row['minutes'])\n",
    "        m = ''\n",
    "        minutes = minutes.split('.')\n",
    "        if len(minutes[0])<2: \n",
    "            m = minutes[0] +'0'\n",
    "        else: \n",
    "            m = minutes[0]\n",
    "        #print(date, h, m)\n",
    "        data_f = date+' '+h+':'+m+':'+'00'\n",
    "        #print(data_f)\n",
    "        cell_values.append(row['nr_people'])\n",
    "        dates4dec.append(data_f)      "
   ]
  },
  {
   "cell_type": "code",
   "execution_count": 49,
   "metadata": {},
   "outputs": [
    {
     "data": {
      "text/html": [
       "<div>\n",
       "<style scoped>\n",
       "    .dataframe tbody tr th:only-of-type {\n",
       "        vertical-align: middle;\n",
       "    }\n",
       "\n",
       "    .dataframe tbody tr th {\n",
       "        vertical-align: top;\n",
       "    }\n",
       "\n",
       "    .dataframe thead th {\n",
       "        text-align: right;\n",
       "    }\n",
       "</style>\n",
       "<table border=\"1\" class=\"dataframe\">\n",
       "  <thead>\n",
       "    <tr style=\"text-align: right;\">\n",
       "      <th></th>\n",
       "      <th>ds</th>\n",
       "      <th>y</th>\n",
       "    </tr>\n",
       "  </thead>\n",
       "  <tbody>\n",
       "    <tr>\n",
       "      <td>0</td>\n",
       "      <td>2017-04-16 00:00:00</td>\n",
       "      <td>84.0</td>\n",
       "    </tr>\n",
       "    <tr>\n",
       "      <td>1</td>\n",
       "      <td>2017-04-16 00:15:00</td>\n",
       "      <td>83.0</td>\n",
       "    </tr>\n",
       "    <tr>\n",
       "      <td>2</td>\n",
       "      <td>2017-04-16 00:30:00</td>\n",
       "      <td>78.0</td>\n",
       "    </tr>\n",
       "    <tr>\n",
       "      <td>3</td>\n",
       "      <td>2017-04-16 00:45:00</td>\n",
       "      <td>76.0</td>\n",
       "    </tr>\n",
       "    <tr>\n",
       "      <td>4</td>\n",
       "      <td>2017-04-16 01:00:00</td>\n",
       "      <td>73.0</td>\n",
       "    </tr>\n",
       "  </tbody>\n",
       "</table>\n",
       "</div>"
      ],
      "text/plain": [
       "                    ds     y\n",
       "0  2017-04-16 00:00:00  84.0\n",
       "1  2017-04-16 00:15:00  83.0\n",
       "2  2017-04-16 00:30:00  78.0\n",
       "3  2017-04-16 00:45:00  76.0\n",
       "4  2017-04-16 01:00:00  73.0"
      ]
     },
     "execution_count": 49,
     "metadata": {},
     "output_type": "execute_result"
    }
   ],
   "source": [
    "dict_i = {'ds': dates4dec, 'y':cell_values}\n",
    "data4deco = pd.DataFrame(dict_i, index=None, columns=None)  \n",
    "data4deco.head()"
   ]
  },
  {
   "cell_type": "code",
   "execution_count": 50,
   "metadata": {},
   "outputs": [
    {
     "data": {
      "text/html": [
       "<div>\n",
       "<style scoped>\n",
       "    .dataframe tbody tr th:only-of-type {\n",
       "        vertical-align: middle;\n",
       "    }\n",
       "\n",
       "    .dataframe tbody tr th {\n",
       "        vertical-align: top;\n",
       "    }\n",
       "\n",
       "    .dataframe thead th {\n",
       "        text-align: right;\n",
       "    }\n",
       "</style>\n",
       "<table border=\"1\" class=\"dataframe\">\n",
       "  <thead>\n",
       "    <tr style=\"text-align: right;\">\n",
       "      <th></th>\n",
       "      <th>ds</th>\n",
       "      <th>y</th>\n",
       "    </tr>\n",
       "  </thead>\n",
       "  <tbody>\n",
       "    <tr>\n",
       "      <td>0</td>\n",
       "      <td>2017-04-16 00:00:00</td>\n",
       "      <td>84.0</td>\n",
       "    </tr>\n",
       "    <tr>\n",
       "      <td>1</td>\n",
       "      <td>2017-04-16 00:15:00</td>\n",
       "      <td>83.0</td>\n",
       "    </tr>\n",
       "    <tr>\n",
       "      <td>2</td>\n",
       "      <td>2017-04-16 00:30:00</td>\n",
       "      <td>78.0</td>\n",
       "    </tr>\n",
       "    <tr>\n",
       "      <td>3</td>\n",
       "      <td>2017-04-16 00:45:00</td>\n",
       "      <td>76.0</td>\n",
       "    </tr>\n",
       "    <tr>\n",
       "      <td>4</td>\n",
       "      <td>2017-04-16 01:00:00</td>\n",
       "      <td>73.0</td>\n",
       "    </tr>\n",
       "  </tbody>\n",
       "</table>\n",
       "</div>"
      ],
      "text/plain": [
       "                   ds     y\n",
       "0 2017-04-16 00:00:00  84.0\n",
       "1 2017-04-16 00:15:00  83.0\n",
       "2 2017-04-16 00:30:00  78.0\n",
       "3 2017-04-16 00:45:00  76.0\n",
       "4 2017-04-16 01:00:00  73.0"
      ]
     },
     "execution_count": 50,
     "metadata": {},
     "output_type": "execute_result"
    }
   ],
   "source": [
    "data4deco['ds'] = pd.to_datetime(data4deco['ds'])\n",
    "data4deco.head()"
   ]
  },
  {
   "cell_type": "code",
   "execution_count": 51,
   "metadata": {},
   "outputs": [],
   "source": [
    "# one-step sarima forecast\n",
    "def sarima_forecast(history, config):\n",
    "    order, sorder, trend = config\n",
    "    # define model\n",
    "    print(order, sorder, trend)\n",
    "    model = SARIMAX(history, order=order, seasonal_order=sorder, trend=trend,\n",
    "      enforce_stationarity=False, enforce_invertibility=False)\n",
    "    # fit model\n",
    "    model_fit = model.fit(disp=False)\n",
    "    # make one step forecast\n",
    "    yhat = model_fit.predict(len(history), len(history))\n",
    "    return yhat"
   ]
  },
  {
   "cell_type": "code",
   "execution_count": 52,
   "metadata": {},
   "outputs": [],
   "source": [
    "# one-step sarima forecast\n",
    "def sarima_forecast_multistep(history, config, steps):\n",
    "    order, sorder, trend = config\n",
    "    # define model\n",
    "    print(order, sorder, trend)\n",
    "    model = SARIMAX(history, order=order, seasonal_order=sorder, trend=trend,\n",
    "      enforce_stationarity=False, enforce_invertibility=False)\n",
    "    # fit model\n",
    "    model_fit = model.fit(disp=False)\n",
    "    # make one step forecast\n",
    "    yhat = model_fit.forecast(steps)\n",
    "    return yhat"
   ]
  },
  {
   "cell_type": "code",
   "execution_count": 71,
   "metadata": {},
   "outputs": [
    {
     "name": "stdout",
     "output_type": "stream",
     "text": [
      "11800\n",
      "Started:  2020-01-27 12:47:41.551158\n",
      "(2, 0, 1) (0, 0, 2, 0) n\n",
      "Time elapsed (hh:mm:ss.ms) 0:00:05.559845\n"
     ]
    }
   ],
   "source": [
    "config = [(2, 0, 1), (0, 0, 2, 0), 'n']\n",
    "steps = 8\n",
    "split_point = len(data4deco) - steps\n",
    "print(split_point)\n",
    "train, test = data4deco[:split_point], data4deco[split_point:]\n",
    "train = train['y'].values\n",
    "test = test['y'].values\n",
    "\n",
    "from datetime import datetime \n",
    "\n",
    "start_time = datetime.now()\n",
    "print('Started: ', start_time)\n",
    "\n",
    "l = sarima_forecast_multistep(train, config, steps)\n",
    "\n",
    "time_elapsed = datetime.now() - start_time \n",
    "\n",
    "print('Time elapsed (hh:mm:ss.ms) {}'.format(time_elapsed))"
   ]
  },
  {
   "cell_type": "code",
   "execution_count": 72,
   "metadata": {},
   "outputs": [
    {
     "name": "stdout",
     "output_type": "stream",
     "text": [
      "MSE  3.866010072600849\n"
     ]
    },
    {
     "data": {
      "image/png": "[encoded data removed]",
      "text/plain": [
       "<Figure size 1152x72 with 1 Axes>"
      ]
     },
     "metadata": {
      "needs_background": "light"
     },
     "output_type": "display_data"
    }
   ],
   "source": [
    "predicted = []\n",
    "for i in range(len(l)):\n",
    "    predicted.append(l[i])\n",
    "predicted = np.array(predicted)\n",
    "\n",
    "error = abs(test - predicted)\n",
    "\n",
    "print('MSE ', error.mean())\n",
    "\n",
    "plt.figure(figsize=(16, 1))\n",
    "plt.boxplot(error, vert = False);\n",
    "plt.show()"
   ]
  },
  {
   "cell_type": "code",
   "execution_count": 73,
   "metadata": {},
   "outputs": [
    {
     "data": {
      "image/png": "[encoded data removed]",
      "text/plain": [
       "<Figure size 1152x72 with 1 Axes>"
      ]
     },
     "metadata": {
      "needs_background": "light"
     },
     "output_type": "display_data"
    }
   ],
   "source": [
    "plt.figure(figsize=(16, 1))\n",
    "plt.boxplot(data4deco['y'], vert = False);\n",
    "plt.show()"
   ]
  },
  {
   "cell_type": "code",
   "execution_count": 92,
   "metadata": {},
   "outputs": [
    {
     "name": "stdout",
     "output_type": "stream",
     "text": [
      "[[ 1  1  9  6  4 10]\n",
      " [ 1  9  6  4 10  0]\n",
      " [ 9  6  4 10  0  0]\n",
      " [ 6  4 10  0  0  9]\n",
      " [ 4 10  0  0  9  1]\n",
      " [10  0  0  9  1  4]\n",
      " [ 0  0  9  1  4  2]\n",
      " [ 0  9  1  4  2  2]\n",
      " [ 9  1  4  2  2  6]\n",
      " [ 1  4  2  2  6  4]\n",
      " [ 4  2  2  6  4  5]\n",
      " [ 2  2  6  4  5 10]\n",
      " [ 2  6  4  5 10  2]\n",
      " [ 6  4  5 10  2 10]\n",
      " [ 4  5 10  2 10 10]]\n"
     ]
    },
    {
     "data": {
      "image/png": "[encoded data removed]",
      "text/plain": [
       "<Figure size 1152x72 with 1 Axes>"
      ]
     },
     "metadata": {
      "needs_background": "light"
     },
     "output_type": "display_data"
    }
   ],
   "source": [
    "l1 = [1, 2, 13, 4, 5, 16, 7, 8, 19, 11, 17, 13, 20, 23, 45, 60, 70, 75, 85, 90]\n",
    "l2 = [2, 3,  4, 10, 9, 6, 7, 8, 10, 12, 13, 15, 22, 29, 49, 55, 80, 73, 95, 100]\n",
    "\n",
    "step_size = 6\n",
    "error_set = np.array([])\n",
    "expected = []\n",
    "predicted = []\n",
    "for i in range(len(l1)):\n",
    "    s1 = l1[i:i+step_size]\n",
    "    s2 = l2[i:i+step_size]\n",
    "    expected.append(s1)\n",
    "    predicted.append(s2)\n",
    "    if i+step_size >= len(l1): break\n",
    "\n",
    "expected = np.array(expected)\n",
    "predicted = np.array(predicted)\n",
    "\n",
    "error_set = abs(expected - predicted)         \n",
    "print(error_set)        \n",
    "plt.figure(figsize=(16, 1))\n",
    "plt.boxplot(error_set, vert = False);\n",
    "plt.show()"
   ]
  },
  {
   "cell_type": "code",
   "execution_count": 74,
   "metadata": {},
   "outputs": [
    {
     "data": {
      "text/plain": [
       "[2, 3, 4]"
      ]
     },
     "execution_count": 74,
     "metadata": {},
     "output_type": "execute_result"
    }
   ],
   "source": [
    "l2 = [2, 3, 4, 5, 5, 6, 7, 8, 10, 12, 13, 15]\n",
    "l2[0:3]"
   ]
  },
  {
   "cell_type": "code",
   "execution_count": null,
   "metadata": {},
   "outputs": [],
   "source": []
  },
  {
   "cell_type": "code",
   "execution_count": null,
   "metadata": {},
   "outputs": [],
   "source": []
  },
  {
   "cell_type": "code",
   "execution_count": null,
   "metadata": {},
   "outputs": [],
   "source": []
  }
 ],
 "metadata": {
  "kernelspec": {
   "display_name": "Python 3",
   "language": "python",
   "name": "python3"
  },
  "language_info": {
   "codemirror_mode": {
    "name": "ipython",
    "version": 3
   },
   "file_extension": ".py",
   "mimetype": "text/x-python",
   "name": "python",
   "nbconvert_exporter": "python",
   "pygments_lexer": "ipython3",
   "version": "3.7.4"
  }
 },
 "nbformat": 4,
 "nbformat_minor": 2
}
