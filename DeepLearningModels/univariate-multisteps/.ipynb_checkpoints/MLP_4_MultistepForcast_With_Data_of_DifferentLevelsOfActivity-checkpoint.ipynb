{
 "cells": [
  {
   "cell_type": "code",
   "execution_count": 1,
   "metadata": {},
   "outputs": [
    {
     "name": "stderr",
     "output_type": "stream",
     "text": [
      "Using TensorFlow backend.\n"
     ]
    }
   ],
   "source": [
    "import pandas as pd\n",
    "import numpy as np\n",
    "import matplotlib.pyplot as plt\n",
    "import datetime\n",
    "import time\n",
    "from pandas.plotting import lag_plot\n",
    "from pandas.plotting import autocorrelation_plot\n",
    "from sklearn.metrics import mean_absolute_error\n",
    "from sklearn.metrics import mean_squared_error \n",
    "from math import sqrt\n",
    "from numpy import hstack\n",
    "from keras.models import Sequential\n",
    "from keras.layers import LSTM\n",
    "from keras.layers import Dense\n",
    "from keras.layers import Flatten\n",
    "from keras.layers.convolutional import Conv1D\n",
    "from keras.layers.convolutional import MaxPooling1D\n",
    "import warnings \n",
    "warnings.filterwarnings('ignore')\n",
    "from sklearn.model_selection import train_test_split\n",
    "from keras import metrics\n",
    "\n",
    "# carica dati\n",
    "data = pd.read_csv('/Users/alket/Desktop/dati/new_data_backfill_forwfill.csv',index_col = 0)\n",
    "\n",
    "# preparazione dati per due celle\n",
    "agg_by_cell = data.groupby(by = ['cell_num'])"
   ]
  },
  {
   "cell_type": "code",
   "execution_count": 2,
   "metadata": {},
   "outputs": [
    {
     "name": "stdout",
     "output_type": "stream",
     "text": [
      "211.0 77.0 34.0 150.45458865222136\n"
     ]
    }
   ],
   "source": [
    "d = data.describe()\n",
    "global_percent_75 = d['nr_people']['75%']\n",
    "global_percent_50 = d['nr_people']['50%']\n",
    "global_percent_25 = d['nr_people']['25%']\n",
    "global_mean = d['nr_people']['mean']\n",
    "global_min = d['nr_people']['min']\n",
    "global_max = d['nr_people']['max']\n",
    "print(global_percent_75, global_percent_50, global_percent_25, global_mean, min, max)"
   ]
  },
  {
   "cell_type": "code",
   "execution_count": 3,
   "metadata": {},
   "outputs": [],
   "source": [
    "count = 0\n",
    "values = []\n",
    "is_low_activity = []\n",
    "is_medium_activity = []\n",
    "is_high_activity = []\n",
    "is_very_high_activity = []\n",
    "\n",
    "cell_activity = {}\n",
    "\n",
    "count = 0\n",
    "for i,k in agg_by_cell:\n",
    "    \n",
    "    cell_i = i\n",
    "    values = k.describe()\n",
    "    max_cell = values['nr_people']['max']\n",
    "    percent_75_cell = values['nr_people']['75%']\n",
    "    percent_50_cell = values['nr_people']['50%']\n",
    "    percent_25_cell = values['nr_people']['25%']\n",
    "    mean_cell = values['nr_people']['mean']\n",
    "    \n",
    "    #for index, row in k.iterrows():   \n",
    "    if max_cell < global_percent_25 :\n",
    "            #is_low_activity.append(1)\n",
    "            #is_medium_activity.append(0)\n",
    "            #is_high_activity.append(0)\n",
    "            #is_very_high_activity.append(0)\n",
    "            cell_activity[cell_i] = 'is_low'\n",
    "            \n",
    "    if max_cell > global_percent_25 and max_cell < global_mean:\n",
    "            #is_low_activity.append(0)\n",
    "            #is_medium_activity.append(1)\n",
    "            #is_high_activity.append(0)\n",
    "            #is_very_high_activity.append(0)\n",
    "            cell_activity[cell_i] = 'is_medium'\n",
    "            \n",
    "    if max_cell > global_mean and max_cell < global_percent_75:\n",
    "            #is_low_activity.append(0)\n",
    "            #is_medium_activity.append(0)\n",
    "            #is_high_activity.append(1)\n",
    "            #is_very_high_activity.append(0)\n",
    "            cell_activity[cell_i] = 'is_high'\n",
    "        \n",
    "    if max_cell > global_mean and max_cell > global_percent_75:\n",
    "            #is_low_activity.append(0)\n",
    "            #is_medium_activity.append(0)\n",
    "            #is_high_activity.append(0)\n",
    "            #is_very_high_activity.append(1)\n",
    "            cell_activity[cell_i] = 'is_very_high'"
   ]
  },
  {
   "cell_type": "code",
   "execution_count": 4,
   "metadata": {},
   "outputs": [],
   "source": [
    "count = 0\n",
    "for index, row in data.iterrows():\n",
    "    #print(index, row)\n",
    "    \n",
    "    cell_number = row['cell_num']   \n",
    "    activity_level = cell_activity[cell_number]\n",
    "    \n",
    "    if activity_level == 'is_low':\n",
    "            is_low_activity.append(1)\n",
    "            is_medium_activity.append(0)\n",
    "            is_high_activity.append(0)\n",
    "            is_very_high_activity.append(0)\n",
    "           \n",
    "    if activity_level == 'is_medium':\n",
    "            is_low_activity.append(0)\n",
    "            is_medium_activity.append(1)\n",
    "            is_high_activity.append(0)\n",
    "            is_very_high_activity.append(0)\n",
    "             \n",
    "    if activity_level == 'is_high':\n",
    "            is_low_activity.append(0)\n",
    "            is_medium_activity.append(0)\n",
    "            is_high_activity.append(1)\n",
    "            is_very_high_activity.append(0)\n",
    "            \n",
    "    if activity_level == 'is_very_high':\n",
    "            is_low_activity.append(0)\n",
    "            is_medium_activity.append(0)\n",
    "            is_high_activity.append(0)\n",
    "            is_very_high_activity.append(1) "
   ]
  },
  {
   "cell_type": "code",
   "execution_count": 5,
   "metadata": {},
   "outputs": [],
   "source": [
    "data['is_low_activity'] = is_low_activity\n",
    "data['is_medium_activity'] = is_medium_activity\n",
    "data['is_high_activity'] = is_high_activity\n",
    "data['is_very_high_activity'] = is_very_high_activity\n",
    "\n",
    "very_high_activity_data = data[data['is_very_high_activity']==1]\n",
    "high_activity_data = data[data['is_high_activity']==1]\n",
    "medium_activity_data = data[data['is_medium_activity']==1]\n",
    "low_activity_data = data[data['is_low_activity']==1]"
   ]
  },
  {
   "cell_type": "code",
   "execution_count": 6,
   "metadata": {
    "scrolled": true
   },
   "outputs": [
    {
     "name": "stdout",
     "output_type": "stream",
     "text": [
      "very high activity data\n"
     ]
    },
    {
     "data": {
      "image/png": "[encoded data removed]",
      "text/plain": [
       "<Figure size 1008x72 with 1 Axes>"
      ]
     },
     "metadata": {
      "needs_background": "light"
     },
     "output_type": "display_data"
    },
    {
     "name": "stdout",
     "output_type": "stream",
     "text": [
      "high activity data\n"
     ]
    },
    {
     "data": {
      "image/png": "[encoded data removed]",
      "text/plain": [
       "<Figure size 1008x72 with 1 Axes>"
      ]
     },
     "metadata": {
      "needs_background": "light"
     },
     "output_type": "display_data"
    },
    {
     "name": "stdout",
     "output_type": "stream",
     "text": [
      "medium activity data\n"
     ]
    },
    {
     "data": {
      "image/png": "[encoded data removed]",
      "text/plain": [
       "<Figure size 1008x72 with 1 Axes>"
      ]
     },
     "metadata": {
      "needs_background": "light"
     },
     "output_type": "display_data"
    },
    {
     "name": "stdout",
     "output_type": "stream",
     "text": [
      "low activity data\n"
     ]
    },
    {
     "data": {
      "image/png": "[encoded data removed]",
      "text/plain": [
       "<Figure size 1008x72 with 1 Axes>"
      ]
     },
     "metadata": {
      "needs_background": "light"
     },
     "output_type": "display_data"
    }
   ],
   "source": [
    "## visylauzza dati \n",
    "print('very high activity data')\n",
    "plt.figure(figsize = (14,1))\n",
    "plt.boxplot(very_high_activity_data['nr_people'], vert= False);\n",
    "plt.show()\n",
    "print('high activity data')\n",
    "plt.figure(figsize = (14,1))\n",
    "plt.boxplot(high_activity_data['nr_people'], vert= False);\n",
    "plt.show()  \n",
    "print('medium activity data')\n",
    "plt.figure(figsize = (14,1))\n",
    "plt.boxplot(medium_activity_data['nr_people'], vert= False);\n",
    "plt.show() \n",
    "print('low activity data')\n",
    "plt.figure(figsize = (14,1))\n",
    "plt.boxplot(low_activity_data['nr_people'], vert= False);\n",
    "plt.show()"
   ]
  },
  {
   "cell_type": "code",
   "execution_count": 8,
   "metadata": {},
   "outputs": [],
   "source": [
    "#very_high_activity_data.to_csv('very_high_activity_data.csv')\n",
    "#high_activity_data.to_csv('high_activity_data.csv')\n",
    "#medium_activity_data.to_csv('medium_activity_data.csv')\n",
    "#low_activity_data.to_csv('low_activity_data.csv')"
   ]
  },
  {
   "cell_type": "code",
   "execution_count": 9,
   "metadata": {},
   "outputs": [],
   "source": [
    "series = very_high_activity_data['nr_people'].values"
   ]
  },
  {
   "cell_type": "code",
   "execution_count": 10,
   "metadata": {},
   "outputs": [],
   "source": [
    "# split a univariate sequence into samples\n",
    "def split_sequence(sequence, n_steps_in, n_steps_out):\n",
    "    X, y = list(), list()\n",
    "    for i in range(len(sequence)):\n",
    "         # find the end of this pattern\n",
    "         end_ix = i + n_steps_in\n",
    "         out_end_ix = end_ix + n_steps_out\n",
    "         # check if we are beyond the sequence\n",
    "         if out_end_ix > len(sequence):\n",
    "             break\n",
    "         # gather input and output parts of the pattern\n",
    "         seq_x, seq_y = sequence[i:end_ix], sequence[end_ix:out_end_ix]\n",
    "         X.append(seq_x)\n",
    "         y.append(seq_y)\n",
    "    return np.array(X), np.array(y)\n",
    "\n",
    "# choose a number of time steps\n",
    "n_steps_in, n_steps_out = 672, 24\n",
    "\n",
    "# split into samples\n",
    "X, y = split_sequence(series, n_steps_in, n_steps_out)\n",
    "count = 0\n",
    "#for i in range(len(X)):\n",
    "    #print(X[i], y[i])\n",
    "    #count +=1\n",
    "    #if count > 1: break"
   ]
  },
  {
   "cell_type": "code",
   "execution_count": 11,
   "metadata": {},
   "outputs": [
    {
     "name": "stdout",
     "output_type": "stream",
     "text": [
      "387315 387315 237133 237133 165993 165993\n"
     ]
    }
   ],
   "source": [
    "train_X, test_X, train_y, test_y = train_test_split(X, y, test_size=0.3, random_state=1)\n",
    "train_X, val_X, train_y, val_y = train_test_split(train_X, train_y, test_size=0.3, random_state=1)\n",
    "print(len(train_X), len(train_y), len(test_X), len(test_y), len(val_X), len(val_y))"
   ]
  },
  {
   "cell_type": "markdown",
   "metadata": {},
   "source": [
    "### Modello MLP"
   ]
  },
  {
   "cell_type": "code",
   "execution_count": 12,
   "metadata": {
    "scrolled": true
   },
   "outputs": [
    {
     "name": "stdout",
     "output_type": "stream",
     "text": [
      "Epoch 1/50\n",
      " - 18s - loss: 5915.8888 - mean_absolute_error: 45.0687 - accuracy: 0.1619\n",
      "Epoch 2/50\n",
      " - 14s - loss: 2912.2575 - mean_absolute_error: 33.9231 - accuracy: 0.2070\n",
      "Epoch 3/50\n",
      " - 14s - loss: 2375.7435 - mean_absolute_error: 30.8855 - accuracy: 0.2265\n",
      "Epoch 4/50\n",
      " - 13s - loss: 2094.4611 - mean_absolute_error: 28.9077 - accuracy: 0.2517\n",
      "Epoch 5/50\n",
      " - 13s - loss: 1931.9199 - mean_absolute_error: 27.6808 - accuracy: 0.2685\n",
      "Epoch 6/50\n",
      " - 13s - loss: 1842.2545 - mean_absolute_error: 26.9697 - accuracy: 0.2811\n",
      "Epoch 7/50\n",
      " - 13s - loss: 1745.7172 - mean_absolute_error: 26.1775 - accuracy: 0.2964\n",
      "Epoch 8/50\n",
      " - 13s - loss: 1670.8028 - mean_absolute_error: 25.6050 - accuracy: 0.3041\n",
      "Epoch 9/50\n",
      " - 13s - loss: 1637.6131 - mean_absolute_error: 25.3543 - accuracy: 0.3067\n",
      "Epoch 10/50\n",
      " - 14s - loss: 1600.2860 - mean_absolute_error: 25.0454 - accuracy: 0.3103\n",
      "Epoch 11/50\n",
      " - 13s - loss: 1523.5674 - mean_absolute_error: 24.2918 - accuracy: 0.3123\n",
      "Epoch 12/50\n",
      " - 13s - loss: 1515.8142 - mean_absolute_error: 24.2651 - accuracy: 0.3142\n",
      "Epoch 13/50\n",
      " - 14s - loss: 1474.2855 - mean_absolute_error: 23.9233 - accuracy: 0.3155\n",
      "Epoch 14/50\n",
      " - 13s - loss: 1431.9520 - mean_absolute_error: 23.5804 - accuracy: 0.3175\n",
      "Epoch 15/50\n",
      " - 16s - loss: 1435.7090 - mean_absolute_error: 23.7024 - accuracy: 0.3187\n",
      "Epoch 16/50\n",
      " - 14s - loss: 1399.5059 - mean_absolute_error: 23.2374 - accuracy: 0.3192\n",
      "Epoch 17/50\n",
      " - 13s - loss: 1398.1205 - mean_absolute_error: 23.2437 - accuracy: 0.3182\n",
      "Epoch 18/50\n",
      " - 13s - loss: 1374.2009 - mean_absolute_error: 23.0272 - accuracy: 0.3174\n",
      "Epoch 19/50\n",
      " - 15s - loss: 1363.8142 - mean_absolute_error: 22.9581 - accuracy: 0.3196\n",
      "Epoch 20/50\n",
      " - 14s - loss: 1356.6257 - mean_absolute_error: 22.9672 - accuracy: 0.3194\n",
      "Epoch 21/50\n",
      " - 14s - loss: 1316.5714 - mean_absolute_error: 22.5679 - accuracy: 0.3200\n",
      "Epoch 22/50\n",
      " - 13s - loss: 1320.8414 - mean_absolute_error: 22.5648 - accuracy: 0.3200\n",
      "Epoch 23/50\n",
      " - 13s - loss: 1309.5993 - mean_absolute_error: 22.6222 - accuracy: 0.3193\n",
      "Epoch 24/50\n",
      " - 13s - loss: 1277.2753 - mean_absolute_error: 22.1641 - accuracy: 0.3211\n",
      "Epoch 25/50\n",
      " - 14s - loss: 1319.5306 - mean_absolute_error: 22.4103 - accuracy: 0.3200\n",
      "Epoch 26/50\n",
      " - 13s - loss: 1280.4922 - mean_absolute_error: 22.0831 - accuracy: 0.3204\n",
      "Epoch 27/50\n",
      " - 13s - loss: 1286.1519 - mean_absolute_error: 22.1620 - accuracy: 0.3190\n",
      "Epoch 28/50\n",
      " - 13s - loss: 1293.5393 - mean_absolute_error: 22.3094 - accuracy: 0.3196\n",
      "Epoch 29/50\n",
      " - 13s - loss: 1269.3288 - mean_absolute_error: 22.1162 - accuracy: 0.3209\n",
      "Epoch 30/50\n",
      " - 13s - loss: 1251.4191 - mean_absolute_error: 21.8892 - accuracy: 0.3205\n",
      "Epoch 31/50\n",
      " - 13s - loss: 1238.1148 - mean_absolute_error: 21.8711 - accuracy: 0.3222\n",
      "Epoch 32/50\n",
      " - 13s - loss: 1216.5841 - mean_absolute_error: 21.6301 - accuracy: 0.3239\n",
      "Epoch 33/50\n",
      " - 13s - loss: 1236.9617 - mean_absolute_error: 21.8621 - accuracy: 0.3222\n",
      "Epoch 34/50\n",
      " - 13s - loss: 1230.1368 - mean_absolute_error: 21.7853 - accuracy: 0.3229\n",
      "Epoch 35/50\n",
      " - 12s - loss: 1211.9106 - mean_absolute_error: 21.5620 - accuracy: 0.3239\n",
      "Epoch 36/50\n",
      " - 13s - loss: 1226.0377 - mean_absolute_error: 21.8078 - accuracy: 0.3232\n",
      "Epoch 37/50\n",
      " - 13s - loss: 1201.5289 - mean_absolute_error: 21.5346 - accuracy: 0.3233\n",
      "Epoch 38/50\n",
      " - 13s - loss: 1186.9371 - mean_absolute_error: 21.4329 - accuracy: 0.3234\n",
      "Epoch 39/50\n",
      " - 13s - loss: 1207.7749 - mean_absolute_error: 21.5754 - accuracy: 0.3237\n",
      "Epoch 40/50\n",
      " - 13s - loss: 1196.8657 - mean_absolute_error: 21.5421 - accuracy: 0.3231\n",
      "Epoch 41/50\n",
      " - 13s - loss: 1191.4311 - mean_absolute_error: 21.4100 - accuracy: 0.3253\n",
      "Epoch 42/50\n",
      " - 13s - loss: 1186.6733 - mean_absolute_error: 21.3943 - accuracy: 0.3254\n",
      "Epoch 43/50\n",
      " - 13s - loss: 1177.4746 - mean_absolute_error: 21.2960 - accuracy: 0.3245\n",
      "Epoch 44/50\n",
      " - 13s - loss: 1162.5937 - mean_absolute_error: 21.2034 - accuracy: 0.3242\n",
      "Epoch 45/50\n",
      " - 13s - loss: 1161.4424 - mean_absolute_error: 21.1941 - accuracy: 0.3252\n",
      "Epoch 46/50\n",
      " - 13s - loss: 1156.7171 - mean_absolute_error: 21.1297 - accuracy: 0.3259\n",
      "Epoch 47/50\n",
      " - 13s - loss: 1151.5421 - mean_absolute_error: 21.1294 - accuracy: 0.3239\n",
      "Epoch 48/50\n",
      " - 13s - loss: 1178.8620 - mean_absolute_error: 21.3144 - accuracy: 0.3242\n",
      "Epoch 49/50\n",
      " - 13s - loss: 1159.3437 - mean_absolute_error: 21.1819 - accuracy: 0.3244\n",
      "Epoch 50/50\n",
      " - 13s - loss: 1133.0967 - mean_absolute_error: 20.8553 - accuracy: 0.3242\n"
     ]
    },
    {
     "data": {
      "text/plain": [
       "<keras.callbacks.callbacks.History at 0x1a36d8a750>"
      ]
     },
     "execution_count": 12,
     "metadata": {},
     "output_type": "execute_result"
    }
   ],
   "source": [
    "# define model\n",
    "model = Sequential()\n",
    "model.add(Dense(600, activation='relu', input_dim=n_steps_in)) \n",
    "model.add(Dense(n_steps_out))\n",
    "\n",
    "#opt = SGD(lr=0.01, momentum=0.9)\n",
    "model.compile(optimizer='adam', loss='mse', metrics=[metrics.mae, 'accuracy'])\n",
    "\n",
    "# fit model\n",
    "model.fit(train_X, train_y, batch_size=256, epochs=50, verbose=2)"
   ]
  },
  {
   "cell_type": "code",
   "execution_count": null,
   "metadata": {},
   "outputs": [],
   "source": [
    "x_input = np.array([159. ,160., 158., 156., 157. ,156. ,157., 154., 154., 153., 150., 147., 147., 142.,\n",
    " 139., 136., 135., 135., 134., 133., 132., 130., 131., 130]) # the number of elements inside numpy array should be the same as n_steps_in\n",
    "x_input = x_input.reshape((1, n_steps_in))\n",
    "yhat = model.predict(x_input, verbose=2)\n",
    "print(yhat[0])"
   ]
  },
  {
   "cell_type": "code",
   "execution_count": 13,
   "metadata": {},
   "outputs": [],
   "source": [
    "# predict and compute error\n",
    "expected = y\n",
    "predicted = []\n",
    "for i in range(len(X)):\n",
    "    x_input = X[i].reshape((1, n_steps_in))\n",
    "    yhat = model.predict(x_input, verbose=0)\n",
    "    #predicted.append(np.rint(yhat[0]))   \n",
    "    predicted.append(np.around(yhat[0], decimals=1)) "
   ]
  },
  {
   "cell_type": "code",
   "execution_count": 14,
   "metadata": {},
   "outputs": [
    {
     "name": "stdout",
     "output_type": "stream",
     "text": [
      "790441 24\n",
      "MAE  20.385174478557232\n"
     ]
    },
    {
     "data": {
      "image/png": "[encoded data removed]",
      "text/plain": [
       "<Figure size 1008x504 with 1 Axes>"
      ]
     },
     "metadata": {
      "needs_background": "light"
     },
     "output_type": "display_data"
    }
   ],
   "source": [
    "difference = abs(expected - predicted)\n",
    "print(difference.shape[0], difference.shape[1])\n",
    "\n",
    "# comment line below to see all the boxplots for every number of steps from 1 to n_steps_out\n",
    "difference2 =  np.reshape(difference, difference.shape[0] * difference.shape[1])\n",
    "print('MAE ', np.mean(difference2))\n",
    "plt.figure(figsize = (14,7))\n",
    "plt.boxplot(difference, vert= False);"
   ]
  },
  {
   "cell_type": "code",
   "execution_count": null,
   "metadata": {},
   "outputs": [],
   "source": []
  }
 ],
 "metadata": {
  "kernelspec": {
   "display_name": "Python 3",
   "language": "python",
   "name": "python3"
  },
  "language_info": {
   "codemirror_mode": {
    "name": "ipython",
    "version": 3
   },
   "file_extension": ".py",
   "mimetype": "text/x-python",
   "name": "python",
   "nbconvert_exporter": "python",
   "pygments_lexer": "ipython3",
   "version": "3.7.4"
  }
 },
 "nbformat": 4,
 "nbformat_minor": 2
}
