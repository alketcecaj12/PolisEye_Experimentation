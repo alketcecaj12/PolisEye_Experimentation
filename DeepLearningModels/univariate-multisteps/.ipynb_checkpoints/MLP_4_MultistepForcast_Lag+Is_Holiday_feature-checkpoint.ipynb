{
 "cells": [
  {
   "cell_type": "markdown",
   "metadata": {},
   "source": [
    "### Previsione Multistep con MLP. Versione Lag più 'Is_Holiday' features"
   ]
  },
  {
   "cell_type": "code",
   "execution_count": 2,
   "metadata": {},
   "outputs": [],
   "source": [
    "import pandas as pd\n",
    "import numpy as np\n",
    "import matplotlib.pyplot as plt\n",
    "import datetime\n",
    "import time\n",
    "from pandas.plotting import lag_plot\n",
    "from pandas.plotting import autocorrelation_plot\n",
    "from sklearn.metrics import mean_absolute_error\n",
    "from sklearn.metrics import mean_squared_error \n",
    "from math import sqrt\n",
    "from sklearn.model_selection import train_test_split\n",
    "from keras.models import Sequential\n",
    "from keras.layers import LSTM\n",
    "from keras.layers import Dense\n",
    "from keras.layers import Flatten\n",
    "from keras.layers.convolutional import Conv1D\n",
    "from keras.layers.convolutional import MaxPooling1D\n",
    "from keras.optimizers import SGD\n",
    "from sklearn.preprocessing import MinMaxScaler\n",
    "from keras import metrics\n",
    "\n",
    "data = pd.read_csv('/Users/alket/Desktop/dati/new_data_backfill_forwfill.csv',index_col = 0)\n",
    "#h_data = pd.read_csv('/Users/alket/Desktop/dati/high_activity_data.csv',index_col = 0)\n",
    "#h_data = h_data[0:118080]\n",
    "agg_by_cell = data.groupby(by = ['cell_num'])\n",
    "one_cell = agg_by_cell.get_group('495-1266')\n",
    "series = one_cell['nr_people'].values\n",
    "#print(type(series))\n",
    "#print(len(series))\n"
   ]
  },
  {
   "cell_type": "code",
   "execution_count": 3,
   "metadata": {},
   "outputs": [],
   "source": [
    "#len(h_data) #.head(3)"
   ]
  },
  {
   "cell_type": "markdown",
   "metadata": {},
   "source": [
    "### Crea nuove features "
   ]
  },
  {
   "cell_type": "code",
   "execution_count": 43,
   "metadata": {},
   "outputs": [
    {
     "data": {
      "text/html": [
       "<div>\n",
       "<style scoped>\n",
       "    .dataframe tbody tr th:only-of-type {\n",
       "        vertical-align: middle;\n",
       "    }\n",
       "\n",
       "    .dataframe tbody tr th {\n",
       "        vertical-align: top;\n",
       "    }\n",
       "\n",
       "    .dataframe thead th {\n",
       "        text-align: right;\n",
       "    }\n",
       "</style>\n",
       "<table border=\"1\" class=\"dataframe\">\n",
       "  <thead>\n",
       "    <tr style=\"text-align: right;\">\n",
       "      <th></th>\n",
       "      <th>date</th>\n",
       "      <th>cell_num</th>\n",
       "      <th>nr_people</th>\n",
       "      <th>hours</th>\n",
       "      <th>minutes</th>\n",
       "      <th>is_low_activity</th>\n",
       "      <th>is_medium_activity</th>\n",
       "      <th>is_high_activity</th>\n",
       "      <th>is_very_high_activity</th>\n",
       "      <th>is_holiday</th>\n",
       "    </tr>\n",
       "  </thead>\n",
       "  <tbody>\n",
       "    <tr>\n",
       "      <td>1463325</td>\n",
       "      <td>2017-06-23</td>\n",
       "      <td>490-1268</td>\n",
       "      <td>169.0</td>\n",
       "      <td>23.0</td>\n",
       "      <td>15.0</td>\n",
       "      <td>0</td>\n",
       "      <td>0</td>\n",
       "      <td>1</td>\n",
       "      <td>0</td>\n",
       "      <td>0</td>\n",
       "    </tr>\n",
       "    <tr>\n",
       "      <td>1463546</td>\n",
       "      <td>2017-06-23</td>\n",
       "      <td>490-1268</td>\n",
       "      <td>167.0</td>\n",
       "      <td>23.0</td>\n",
       "      <td>30.0</td>\n",
       "      <td>0</td>\n",
       "      <td>0</td>\n",
       "      <td>1</td>\n",
       "      <td>0</td>\n",
       "      <td>0</td>\n",
       "    </tr>\n",
       "    <tr>\n",
       "      <td>1463767</td>\n",
       "      <td>2017-06-23</td>\n",
       "      <td>490-1268</td>\n",
       "      <td>170.0</td>\n",
       "      <td>23.0</td>\n",
       "      <td>45.0</td>\n",
       "      <td>0</td>\n",
       "      <td>0</td>\n",
       "      <td>1</td>\n",
       "      <td>0</td>\n",
       "      <td>0</td>\n",
       "    </tr>\n",
       "  </tbody>\n",
       "</table>\n",
       "</div>"
      ],
      "text/plain": [
       "               date  cell_num  nr_people  hours  minutes  is_low_activity  \\\n",
       "1463325  2017-06-23  490-1268      169.0   23.0     15.0                0   \n",
       "1463546  2017-06-23  490-1268      167.0   23.0     30.0                0   \n",
       "1463767  2017-06-23  490-1268      170.0   23.0     45.0                0   \n",
       "\n",
       "         is_medium_activity  is_high_activity  is_very_high_activity  \\\n",
       "1463325                   0                 1                      0   \n",
       "1463546                   0                 1                      0   \n",
       "1463767                   0                 1                      0   \n",
       "\n",
       "         is_holiday  \n",
       "1463325           0  \n",
       "1463546           0  \n",
       "1463767           0  "
      ]
     },
     "execution_count": 43,
     "metadata": {},
     "output_type": "execute_result"
    }
   ],
   "source": [
    "# crea campo 'is_public_holiday'\n",
    "# Pasqua: domenica 16 aprile 2017\n",
    "# Lunedì dell'Angelo: lunedì 17 aprile 2017\n",
    "# Festa della Liberazione: martedì 25 aprile 2017\n",
    "# Festa del Lavoro: lunedì 1 maggio 2017\n",
    "# Festa della Repubblica: venerdi 2 giugno 2017\n",
    "# Ferragosto: martedì 15 agosto 2017\n",
    "def find_holiday_days(data):\n",
    "    holiday = []\n",
    "    for i in data['date']:\n",
    "        #print(i)\n",
    "        if ((i == '2017-04-16') | (i == '2017-04-17') | (i == '2017-04-25') | \n",
    "            (i == '2017-05-01') | (i == '2017-06-02') | (i == '2017-08-15')): \n",
    "            holiday.append(1)\n",
    "        else: \n",
    "            holiday.append(0)\n",
    "     \n",
    "    return holiday\n",
    "\n",
    "hd = find_holiday_days(h_data)\n",
    "h_data['is_holiday']= hd  \n",
    "h_data.tail(3)"
   ]
  },
  {
   "cell_type": "code",
   "execution_count": 44,
   "metadata": {},
   "outputs": [
    {
     "data": {
      "text/plain": [
       "118080"
      ]
     },
     "execution_count": 44,
     "metadata": {},
     "output_type": "execute_result"
    }
   ],
   "source": [
    "len(h_data)"
   ]
  },
  {
   "cell_type": "markdown",
   "metadata": {},
   "source": [
    "### Preparo i lag"
   ]
  },
  {
   "cell_type": "code",
   "execution_count": 36,
   "metadata": {},
   "outputs": [
    {
     "name": "stdout",
     "output_type": "stream",
     "text": [
      "[326. 330. 321. 320. 318. 318. 321. 317. 318. 318. 316. 312. 312. 312.\n",
      " 309. 306. 304. 306. 307. 308. 309. 310. 315. 312. 312. 309.] [306. 310. 305. 307. 308. 308. 308. 308. 308. 317. 319. 319.]\n"
     ]
    }
   ],
   "source": [
    "# split a univariate sequence into samples\n",
    "def split_sequence(sequence, n_steps_in, n_steps_out):\n",
    "    X, y = list(), list()\n",
    "    for i in range(len(sequence)):\n",
    "        # find the end of this pattern\n",
    "        end_ix = i + n_steps_in\n",
    "        out_end_ix = end_ix + n_steps_out\n",
    "        # check if we are beyond the sequence\n",
    "        if out_end_ix > len(sequence):\n",
    "            break\n",
    "        # gather input and output parts of the pattern\n",
    "        seq_x, seq_y = sequence[i:end_ix], sequence[end_ix:out_end_ix]\n",
    "        X.append(seq_x)\n",
    "        y.append(seq_y)\n",
    "    return np.array(X), np.array(y)\n",
    "\n",
    "# choose a number of time steps\n",
    "n_steps_in, n_steps_out = 26, 12\n",
    "\n",
    "data = series\n",
    "# split into samples\n",
    "X_lag, y_lag = split_sequence(data, n_steps_in, n_steps_out)\n",
    "count = 0\n",
    "for i in range(len(X_lag)):\n",
    "    count +=1\n",
    "    if count > 1: break\n",
    "    print(X_lag[i], y_lag[i])    "
   ]
  },
  {
   "cell_type": "code",
   "execution_count": 37,
   "metadata": {},
   "outputs": [
    {
     "name": "stdout",
     "output_type": "stream",
     "text": [
      "11771\n",
      "11771\n",
      "(11771, 12)\n"
     ]
    }
   ],
   "source": [
    "# 96 + 1 + 15 = 112 \n",
    "# 11808 - 112 = 11698 \n",
    "print(len(X_lag))\n",
    "print(len(y_lag))\n",
    "print(y_lag.shape)"
   ]
  },
  {
   "cell_type": "markdown",
   "metadata": {},
   "source": [
    "### Preparo il traning set come unione tra X e il nuovo feature 'is_holiday'"
   ]
  },
  {
   "cell_type": "code",
   "execution_count": 38,
   "metadata": {},
   "outputs": [],
   "source": [
    "#new_features = h_data[['is_holiday']]\n",
    "#X_new = new_features.values\n",
    "\n",
    "# preparo X finale\n",
    "#X_final = np.concatenate((X_lag, X_new[0:len(X_lag)]),axis=1)\n",
    "\n",
    "#y_final = y_lag[0:len(y_lag)]\n",
    "\n",
    "#train_X, test_X, train_y, test_y = train_test_split(X_final, y_final, test_size=0.2, random_state=1)\n",
    "#train_X, val_X, train_y, val_y = train_test_split(train_X, train_y, test_size=0.25, random_state=1)\n",
    "#print(len(train_X), len(train_y), len(test_X), len(test_y), len(val_X), len(val_y))"
   ]
  },
  {
   "cell_type": "code",
   "execution_count": 41,
   "metadata": {},
   "outputs": [],
   "source": [
    "train_X, test_X = X_lag[:8000], X_lag[8000:]\n",
    "train_y, test_y = y_lag[:8000], y_lag[8000:]\n",
    "#print(len(train_X), len(train_y), len(test_X), len(test_y), len(val_X), len(val_y))"
   ]
  },
  {
   "cell_type": "code",
   "execution_count": 42,
   "metadata": {},
   "outputs": [
    {
     "name": "stdout",
     "output_type": "stream",
     "text": [
      "8000\n",
      "--------------\n",
      "8000\n",
      "(8000, 26)\n"
     ]
    }
   ],
   "source": [
    "print(len(train_X))\n",
    "print('--------------')\n",
    "print(len(train_y))\n",
    "\n",
    "print(train_X.shape)"
   ]
  },
  {
   "cell_type": "code",
   "execution_count": 43,
   "metadata": {},
   "outputs": [
    {
     "name": "stdout",
     "output_type": "stream",
     "text": [
      "(8000, 12)\n",
      "(8000, 26)\n"
     ]
    }
   ],
   "source": [
    "print(train_y.shape)\n",
    "print(train_X.shape)"
   ]
  },
  {
   "cell_type": "code",
   "execution_count": 44,
   "metadata": {
    "scrolled": true
   },
   "outputs": [
    {
     "name": "stdout",
     "output_type": "stream",
     "text": [
      "12\n",
      "Epoch 1/50\n",
      " - 0s - loss: 5950.8051 - mean_absolute_error: 38.5383 - accuracy: 0.0610\n",
      "Epoch 2/50\n",
      " - 0s - loss: 337.3892 - mean_absolute_error: 14.4697 - accuracy: 0.0779\n",
      "Epoch 3/50\n",
      " - 0s - loss: 328.7127 - mean_absolute_error: 14.2383 - accuracy: 0.0782\n",
      "Epoch 4/50\n",
      " - 0s - loss: 318.7902 - mean_absolute_error: 13.9987 - accuracy: 0.0850\n",
      "Epoch 5/50\n",
      " - 0s - loss: 302.9879 - mean_absolute_error: 13.5878 - accuracy: 0.0817\n",
      "Epoch 6/50\n",
      " - 0s - loss: 290.2293 - mean_absolute_error: 13.2384 - accuracy: 0.0850\n",
      "Epoch 7/50\n",
      " - 0s - loss: 278.4243 - mean_absolute_error: 12.9142 - accuracy: 0.1069\n",
      "Epoch 8/50\n",
      " - 0s - loss: 266.4506 - mean_absolute_error: 12.5650 - accuracy: 0.1093\n",
      "Epoch 9/50\n",
      " - 0s - loss: 255.1927 - mean_absolute_error: 12.2425 - accuracy: 0.1150\n",
      "Epoch 10/50\n",
      " - 0s - loss: 250.9587 - mean_absolute_error: 12.1141 - accuracy: 0.1136\n",
      "Epoch 11/50\n",
      " - 0s - loss: 241.7850 - mean_absolute_error: 11.8464 - accuracy: 0.1166\n",
      "Epoch 12/50\n",
      " - 0s - loss: 240.5857 - mean_absolute_error: 11.8398 - accuracy: 0.1088\n",
      "Epoch 13/50\n",
      " - 0s - loss: 232.5406 - mean_absolute_error: 11.5696 - accuracy: 0.1181\n",
      "Epoch 14/50\n",
      " - 0s - loss: 233.9349 - mean_absolute_error: 11.6199 - accuracy: 0.1135\n",
      "Epoch 15/50\n",
      " - 0s - loss: 233.4738 - mean_absolute_error: 11.6161 - accuracy: 0.1081\n",
      "Epoch 16/50\n",
      " - 0s - loss: 229.1211 - mean_absolute_error: 11.4936 - accuracy: 0.1177\n",
      "Epoch 17/50\n",
      " - 0s - loss: 225.3630 - mean_absolute_error: 11.3774 - accuracy: 0.1206\n",
      "Epoch 18/50\n",
      " - 0s - loss: 226.3332 - mean_absolute_error: 11.4016 - accuracy: 0.1230\n",
      "Epoch 19/50\n",
      " - 0s - loss: 229.0062 - mean_absolute_error: 11.5254 - accuracy: 0.1154\n",
      "Epoch 20/50\n",
      " - 0s - loss: 224.3798 - mean_absolute_error: 11.3643 - accuracy: 0.1164\n",
      "Epoch 21/50\n",
      " - 0s - loss: 220.0963 - mean_absolute_error: 11.2332 - accuracy: 0.1254\n",
      "Epoch 22/50\n",
      " - 0s - loss: 221.6112 - mean_absolute_error: 11.2600 - accuracy: 0.1112\n",
      "Epoch 23/50\n",
      " - 0s - loss: 221.6244 - mean_absolute_error: 11.2807 - accuracy: 0.1179\n",
      "Epoch 24/50\n",
      " - 0s - loss: 223.2952 - mean_absolute_error: 11.3408 - accuracy: 0.1139\n",
      "Epoch 25/50\n",
      " - 0s - loss: 221.1009 - mean_absolute_error: 11.2796 - accuracy: 0.1216\n",
      "Epoch 26/50\n",
      " - 0s - loss: 219.4813 - mean_absolute_error: 11.2245 - accuracy: 0.1181\n",
      "Epoch 27/50\n",
      " - 0s - loss: 211.6312 - mean_absolute_error: 10.9466 - accuracy: 0.1233\n",
      "Epoch 28/50\n",
      " - 0s - loss: 223.5243 - mean_absolute_error: 11.3168 - accuracy: 0.1200\n",
      "Epoch 29/50\n",
      " - 0s - loss: 228.2545 - mean_absolute_error: 11.5233 - accuracy: 0.1289\n",
      "Epoch 30/50\n",
      " - 0s - loss: 217.9678 - mean_absolute_error: 11.1766 - accuracy: 0.1180\n",
      "Epoch 31/50\n",
      " - 0s - loss: 211.9861 - mean_absolute_error: 10.9792 - accuracy: 0.1221\n",
      "Epoch 32/50\n",
      " - 0s - loss: 213.8930 - mean_absolute_error: 11.0418 - accuracy: 0.1215\n",
      "Epoch 33/50\n",
      " - 0s - loss: 215.2580 - mean_absolute_error: 11.0990 - accuracy: 0.1279\n",
      "Epoch 34/50\n",
      " - 0s - loss: 213.1633 - mean_absolute_error: 11.0204 - accuracy: 0.1276\n",
      "Epoch 35/50\n",
      " - 0s - loss: 217.0718 - mean_absolute_error: 11.2006 - accuracy: 0.1243\n",
      "Epoch 36/50\n",
      " - 0s - loss: 212.6487 - mean_absolute_error: 10.9985 - accuracy: 0.1279\n",
      "Epoch 37/50\n",
      " - 0s - loss: 215.8317 - mean_absolute_error: 11.1412 - accuracy: 0.1264\n",
      "Epoch 38/50\n",
      " - 0s - loss: 221.7063 - mean_absolute_error: 11.3305 - accuracy: 0.1262\n",
      "Epoch 39/50\n",
      " - 0s - loss: 210.3334 - mean_absolute_error: 10.9551 - accuracy: 0.1270\n",
      "Epoch 40/50\n",
      " - 0s - loss: 208.3799 - mean_absolute_error: 10.8733 - accuracy: 0.1303\n",
      "Epoch 41/50\n",
      " - 0s - loss: 208.2552 - mean_absolute_error: 10.8533 - accuracy: 0.1394\n",
      "Epoch 42/50\n",
      " - 0s - loss: 215.5348 - mean_absolute_error: 11.1227 - accuracy: 0.1339\n",
      "Epoch 43/50\n",
      " - 0s - loss: 210.4251 - mean_absolute_error: 10.9718 - accuracy: 0.1250\n",
      "Epoch 44/50\n",
      " - 0s - loss: 220.5601 - mean_absolute_error: 11.3101 - accuracy: 0.1355\n",
      "Epoch 45/50\n",
      " - 0s - loss: 208.3048 - mean_absolute_error: 10.9058 - accuracy: 0.1367\n",
      "Epoch 46/50\n",
      " - 0s - loss: 211.7225 - mean_absolute_error: 11.0376 - accuracy: 0.1334\n",
      "Epoch 47/50\n",
      " - 0s - loss: 205.7639 - mean_absolute_error: 10.7993 - accuracy: 0.1277\n",
      "Epoch 48/50\n",
      " - 0s - loss: 216.3611 - mean_absolute_error: 11.1627 - accuracy: 0.1215\n",
      "Epoch 49/50\n",
      " - 0s - loss: 209.0447 - mean_absolute_error: 10.9665 - accuracy: 0.1294\n",
      "Epoch 50/50\n",
      " - 0s - loss: 206.4784 - mean_absolute_error: 10.8082 - accuracy: 0.1177\n"
     ]
    },
    {
     "data": {
      "text/plain": [
       "<keras.callbacks.callbacks.History at 0x1a3014bd50>"
      ]
     },
     "execution_count": 44,
     "metadata": {},
     "output_type": "execute_result"
    }
   ],
   "source": [
    "# define model\n",
    "print(n_steps_out)\n",
    "model = Sequential()\n",
    "model.add(Dense(500, activation='relu', input_dim=n_steps_in )) # +1 per la nuova feature aggiunta\n",
    "model.add(Dense(n_steps_out))\n",
    "\n",
    "#opt = SGD(lr=0.01, momentum=0.9)\n",
    "model.compile(optimizer='adam', loss='mse', metrics=[metrics.mae, 'accuracy'])\n",
    "\n",
    "# fit model\n",
    "model.fit(train_X, train_y, batch_size=64, epochs=50, verbose=2)"
   ]
  },
  {
   "cell_type": "markdown",
   "metadata": {},
   "source": [
    "### Calcolo l'errore "
   ]
  },
  {
   "cell_type": "code",
   "execution_count": 46,
   "metadata": {},
   "outputs": [],
   "source": [
    "# predict and compute error\n",
    "expected = test_y\n",
    "predicted = []\n",
    "for i in range(len(test_X)):\n",
    "    x_input = test_X[i].reshape((1, n_steps_in)) # + 1 per la nuova feature aggiunta\n",
    "    yhat = model.predict(x_input, verbose=0)\n",
    "    #predicted.append(np.rint(yhat[0]))   \n",
    "    predicted.append(np.around(yhat[0], decimals=1)) "
   ]
  },
  {
   "cell_type": "markdown",
   "metadata": {},
   "source": [
    "### Grafico distribuzione errore"
   ]
  },
  {
   "cell_type": "code",
   "execution_count": 47,
   "metadata": {},
   "outputs": [
    {
     "name": "stdout",
     "output_type": "stream",
     "text": [
      "<class 'numpy.ndarray'>\n",
      "3771 12\n"
     ]
    },
    {
     "data": {
      "image/png": "[encoded data removed]",
      "text/plain": [
       "<Figure size 1008x216 with 1 Axes>"
      ]
     },
     "metadata": {
      "needs_background": "light"
     },
     "output_type": "display_data"
    }
   ],
   "source": [
    "difference = abs(expected - predicted)\n",
    "print(type(difference))\n",
    "print(difference.shape[0], difference.shape[1])\n",
    "\n",
    "# comment line below to see all the boxplots for every number of steps from 1 to n_steps_out\n",
    "#difference =  np.reshape(difference, difference.shape[0] * difference.shape[1])\n",
    "\n",
    "plt.figure(figsize = (14,3))\n",
    "plt.boxplot(difference, vert= False);"
   ]
  },
  {
   "cell_type": "code",
   "execution_count": 48,
   "metadata": {},
   "outputs": [
    {
     "name": "stdout",
     "output_type": "stream",
     "text": [
      "Mean error 10.962578544795413\n"
     ]
    },
    {
     "data": {
      "image/png": "[encoded data removed]",
      "text/plain": [
       "<Figure size 1008x72 with 1 Axes>"
      ]
     },
     "metadata": {
      "needs_background": "light"
     },
     "output_type": "display_data"
    }
   ],
   "source": [
    "# comment line below to see all the boxplots for every number of steps from 1 to n_steps_out\n",
    "mean_error =  np.reshape(difference, difference.shape[0] * difference.shape[1])\n",
    "print('Mean error', np.mean(mean_error))\n",
    "plt.figure(figsize = (14,1))\n",
    "plt.boxplot(mean_error, vert= False);\n",
    "plt.show()"
   ]
  },
  {
   "cell_type": "code",
   "execution_count": null,
   "metadata": {},
   "outputs": [],
   "source": []
  }
 ],
 "metadata": {
  "kernelspec": {
   "display_name": "Python 3",
   "language": "python",
   "name": "python3"
  },
  "language_info": {
   "codemirror_mode": {
    "name": "ipython",
    "version": 3
   },
   "file_extension": ".py",
   "mimetype": "text/x-python",
   "name": "python",
   "nbconvert_exporter": "python",
   "pygments_lexer": "ipython3",
   "version": "3.7.4"
  }
 },
 "nbformat": 4,
 "nbformat_minor": 2
}
