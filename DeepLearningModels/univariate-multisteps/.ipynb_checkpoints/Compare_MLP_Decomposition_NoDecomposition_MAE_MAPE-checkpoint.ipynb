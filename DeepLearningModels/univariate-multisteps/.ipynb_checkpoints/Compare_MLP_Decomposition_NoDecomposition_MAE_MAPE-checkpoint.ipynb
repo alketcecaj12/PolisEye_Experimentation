{
 "cells": [
  {
   "cell_type": "code",
   "execution_count": 6,
   "metadata": {},
   "outputs": [],
   "source": [
    "import matplotlib.pyplot as plt\n",
    "import pandas as pd\n",
    "import numpy as np\n",
    "\n",
    "import warnings\n",
    "warnings.filterwarnings('ignore')"
   ]
  },
  {
   "cell_type": "code",
   "execution_count": 10,
   "metadata": {},
   "outputs": [],
   "source": [
    "colnames = ['min', 'Q1', 'mediana', 'Q3', 'max']\n",
    "colnames_mape = ['mape']\n",
    "# cambiare i per corsi con i propri dati\n",
    "MAE = pd.read_csv('errore_MLP_MultistepForcast_26_16.csv', names=colnames, header=None)\n",
    "\n",
    "MAPE = pd.read_csv('MAPE_error_data_4_MLP_26_16.csv', names=colnames_mape, header=None)\n",
    "\n",
    "MAEDec = pd.read_csv('error_data_4_MLP_with_STL_Decomposition_in26_out16_period_96.csv', \n",
    "                     names=colnames, header=None)\n",
    "\n",
    "MAPEDec = pd.read_csv('MAPE_data_4_MLP_with_STL_Decomposition_in26_out16_period_96.csv', \n",
    "                      names=colnames_mape, header=None)"
   ]
  },
  {
   "cell_type": "code",
   "execution_count": 37,
   "metadata": {},
   "outputs": [],
   "source": [
    "mae_max = []\n",
    "for i, row in MAE.iterrows():\n",
    "    max_i= row['max']\n",
    "    max_i = max_i[0:-2]\n",
    "    mae_max.append(float(max_i))   \n",
    "\n",
    "mae_dec_max = []\n",
    "for i, row in MAEDec.iterrows():\n",
    "    max_i= row['max']\n",
    "    max_i = max_i[0:-1]\n",
    "    mae_dec_max.append(float(max_i))\n",
    "    \n",
    "mape_dec = []\n",
    "for i, row in MAPEDec.iterrows():\n",
    "    s_i = row['mape'].split(':')\n",
    "    \n",
    "    mape_i= s_i[1]\n",
    "    max_i = mape_i[0:-1]\n",
    "    mape_dec.append(float(max_i))   \n",
    "    \n",
    "mape_no_dec = []\n",
    "for i, row in MAPE.iterrows():\n",
    "    s_i = row['mape'].split(':')\n",
    "    \n",
    "    mape_i= s_i[1]\n",
    "    max_i = mape_i[0:-1]\n",
    "    mape_no_dec.append(float(max_i))     "
   ]
  },
  {
   "cell_type": "code",
   "execution_count": 38,
   "metadata": {},
   "outputs": [],
   "source": [
    "MaeNoDec = np.array(mae_max)\n",
    "MaeDec = np.array(mae_dec_max)\n",
    "mape_dec = np.array(mape_dec)\n",
    "mape_no_dec = np.array(mape_no_dec)\n"
   ]
  },
  {
   "cell_type": "code",
   "execution_count": 52,
   "metadata": {},
   "outputs": [
    {
     "data": {
      "text/plain": [
       "[Text(0, 0, 'No STL'), Text(0, 0, 'STL')]"
      ]
     },
     "execution_count": 52,
     "metadata": {},
     "output_type": "execute_result"
    },
    {
     "data": {
      "image/png": "[encoded data removed]",
      "text/plain": [
       "<Figure size 288x432 with 1 Axes>"
      ]
     },
     "metadata": {
      "needs_background": "light"
     },
     "output_type": "display_data"
    }
   ],
   "source": [
    "mediana_plot = [MaeNoDec, MaeDec]\n",
    "\n",
    "# Create a figure instance\n",
    "fig = plt.figure(1, figsize=(4, 6))\n",
    "\n",
    "plt.xticks(fontsize=15)\n",
    "plt.yticks(fontsize=15)\n",
    "# Create an axes instance\n",
    "ax = fig.add_subplot(111)\n",
    "\n",
    "# Create the boxplot\n",
    "bp = ax.boxplot(mediana_plot, patch_artist=True)\n",
    "\n",
    "ax.set_xticklabels(['No STL', 'STL'])\n",
    "\n",
    "\n",
    "# Save the figure\n",
    "#fig.savefig('ConfrontoMetodiMaeMape.jpeg', bbox_inches='tight')"
   ]
  },
  {
   "cell_type": "code",
   "execution_count": 59,
   "metadata": {},
   "outputs": [
    {
     "data": {
      "text/plain": [
       "[Text(0, 0, 'No STL'), Text(0, 0, 'STL')]"
      ]
     },
     "execution_count": 59,
     "metadata": {},
     "output_type": "execute_result"
    },
    {
     "data": {
      "image/png": "[encoded data removed]",
      "text/plain": [
       "<Figure size 288x432 with 1 Axes>"
      ]
     },
     "metadata": {
      "needs_background": "light"
     },
     "output_type": "display_data"
    }
   ],
   "source": [
    "mediana_plot = [mape_no_dec, mape_dec]\n",
    "\n",
    "# Create a figure instance\n",
    "fig = plt.figure(1, figsize=(4, 6))\n",
    "\n",
    "# Create an axes instance\n",
    "ax = fig.add_subplot(111)\n",
    "plt.xticks(fontsize=15)\n",
    "plt.yticks(fontsize=15)\n",
    "# Create the boxplot\n",
    "bp = ax.boxplot(mediana_plot, patch_artist=True)\n",
    "\n",
    "ax.set_xticklabels([ 'No STL', 'STL'])\n",
    "\n",
    "\n",
    "# Save the figure\n",
    "#fig.savefig('ConfrontoMetodiMaeMape.jpeg', bbox_inches='tight')"
   ]
  },
  {
   "cell_type": "code",
   "execution_count": 57,
   "metadata": {},
   "outputs": [],
   "source": [
    "mae_mediana = MAE['mediana'].tolist()\n",
    "maedec_mediana = MAEDec['mediana'].tolist()"
   ]
  },
  {
   "cell_type": "code",
   "execution_count": 58,
   "metadata": {},
   "outputs": [
    {
     "data": {
      "text/plain": [
       "[Text(0, 0, 'No STL'), Text(0, 0, 'STL')]"
      ]
     },
     "execution_count": 58,
     "metadata": {},
     "output_type": "execute_result"
    },
    {
     "data": {
      "image/png": "[encoded data removed]",
      "text/plain": [
       "<Figure size 288x432 with 1 Axes>"
      ]
     },
     "metadata": {
      "needs_background": "light"
     },
     "output_type": "display_data"
    }
   ],
   "source": [
    "mediana_plot = [mae_mediana, maedec_mediana]\n",
    "\n",
    "# Create a figure instance\n",
    "fig = plt.figure(1, figsize=(4, 6))\n",
    "\n",
    "plt.xticks(fontsize=15)\n",
    "plt.yticks(fontsize=15)\n",
    "# Create an axes instance\n",
    "ax = fig.add_subplot(111)\n",
    "\n",
    "# Create the boxplot\n",
    "bp = ax.boxplot(mediana_plot, patch_artist=True)\n",
    "\n",
    "ax.set_xticklabels(['No STL', 'STL'])\n",
    "\n",
    "\n",
    "# Save the figure\n",
    "#fig.savefig('ConfrontoMetodiMaeMape.jpeg', bbox_inches='tight')"
   ]
  },
  {
   "cell_type": "code",
   "execution_count": null,
   "metadata": {},
   "outputs": [],
   "source": []
  },
  {
   "cell_type": "code",
   "execution_count": null,
   "metadata": {},
   "outputs": [],
   "source": []
  }
 ],
 "metadata": {
  "kernelspec": {
   "display_name": "Python 3",
   "language": "python",
   "name": "python3"
  },
  "language_info": {
   "codemirror_mode": {
    "name": "ipython",
    "version": 3
   },
   "file_extension": ".py",
   "mimetype": "text/x-python",
   "name": "python",
   "nbconvert_exporter": "python",
   "pygments_lexer": "ipython3",
   "version": "3.7.4"
  }
 },
 "nbformat": 4,
 "nbformat_minor": 2
}
