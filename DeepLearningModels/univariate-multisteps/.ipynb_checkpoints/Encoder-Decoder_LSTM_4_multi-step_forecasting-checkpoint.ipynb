{
 "cells": [
  {
   "cell_type": "markdown",
   "metadata": {},
   "source": [
    "### Encoder-Decoder_LSTM_4_multi-step_forecasting"
   ]
  },
  {
   "cell_type": "code",
   "execution_count": 1,
   "metadata": {},
   "outputs": [
    {
     "name": "stderr",
     "output_type": "stream",
     "text": [
      "Using TensorFlow backend.\n",
      "/Users/alket/anaconda3/lib/python3.7/site-packages/numpy/lib/arraysetops.py:568: FutureWarning: elementwise comparison failed; returning scalar instead, but in the future will perform elementwise comparison\n",
      "  mask |= (ar1 == a)\n"
     ]
    },
    {
     "name": "stdout",
     "output_type": "stream",
     "text": [
      "<class 'numpy.ndarray'>\n"
     ]
    }
   ],
   "source": [
    "from keras.models import Sequential\n",
    "from keras.layers import LSTM\n",
    "from keras.layers import Dense\n",
    "from keras.layers import RepeatVector\n",
    "from keras.layers import TimeDistributed\n",
    "\n",
    "import pandas as pd\n",
    "import numpy as np\n",
    "import matplotlib.pyplot as plt\n",
    "import datetime\n",
    "import time\n",
    "from math import sqrt\n",
    "from keras import metrics\n",
    "\n",
    "data = pd.read_csv('/Users/alket/Desktop/dati/new_data_backfill_forwfill.csv',index_col = 0)\n",
    "\n",
    "agg_by_cell = data.groupby(by = ['cell_num'])\n",
    "one_cell = agg_by_cell.get_group('495-1266')\n",
    "series = one_cell['nr_people'].values\n",
    "print(type(series))\n",
    "\n"
   ]
  },
  {
   "cell_type": "code",
   "execution_count": 6,
   "metadata": {},
   "outputs": [
    {
     "name": "stdout",
     "output_type": "stream",
     "text": [
      "[[[326.]\n",
      "  [330.]\n",
      "  [321.]\n",
      "  [320.]\n",
      "  [318.]\n",
      "  [318.]\n",
      "  [321.]\n",
      "  [317.]\n",
      "  [318.]\n",
      "  [318.]\n",
      "  [316.]\n",
      "  [312.]]\n",
      "\n",
      " [[330.]\n",
      "  [321.]\n",
      "  [320.]\n",
      "  [318.]\n",
      "  [318.]\n",
      "  [321.]\n",
      "  [317.]\n",
      "  [318.]\n",
      "  [318.]\n",
      "  [316.]\n",
      "  [312.]\n",
      "  [312.]]]\n",
      "[[[312.]\n",
      "  [312.]\n",
      "  [309.]\n",
      "  [306.]\n",
      "  [304.]\n",
      "  [306.]]\n",
      "\n",
      " [[312.]\n",
      "  [309.]\n",
      "  [306.]\n",
      "  [304.]\n",
      "  [306.]\n",
      "  [307.]]]\n"
     ]
    }
   ],
   "source": [
    "# split a univariate sequence into samples\n",
    "def split_sequence(sequence, n_steps_in, n_steps_out):\n",
    "  X, y = list(), list()\n",
    "  for i in range(len(sequence)):\n",
    "    # find the end of this pattern\n",
    "    end_ix = i + n_steps_in\n",
    "    out_end_ix = end_ix + n_steps_out\n",
    "    # check if we are beyond the sequence\n",
    "    if out_end_ix > len(sequence):\n",
    "       break\n",
    "    # gather input and output parts of the pattern\n",
    "    seq_x, seq_y = sequence[i:end_ix], sequence[end_ix:out_end_ix]\n",
    "    X.append(seq_x)\n",
    "    y.append(seq_y)\n",
    "  return np.array(X), np.array(y)\n",
    "\n",
    "\n",
    "# choose a number of time steps\n",
    "n_steps_in, n_steps_out = 12, 6\n",
    "\n",
    "# split into samples\n",
    "X, y = split_sequence(series, n_steps_in, n_steps_out)\n",
    "\n",
    "# reshape from [samples, timesteps] into [samples, timesteps, features]\n",
    "n_features = 1\n",
    "X = X.reshape((X.shape[0], X.shape[1], n_features))\n",
    "y = y.reshape((y.shape[0], y.shape[1], n_features))\n",
    "print(X[:2])\n",
    "print(y[:2])"
   ]
  },
  {
   "cell_type": "code",
   "execution_count": 7,
   "metadata": {},
   "outputs": [
    {
     "data": {
      "text/plain": [
       "8000"
      ]
     },
     "execution_count": 7,
     "metadata": {},
     "output_type": "execute_result"
    }
   ],
   "source": [
    "train_X, test_X = X[0:8000], X[8000:]\n",
    "train_y, test_y = y[:8000], y[8000:]\n",
    "len(train_X)"
   ]
  },
  {
   "cell_type": "code",
   "execution_count": 8,
   "metadata": {
    "scrolled": true
   },
   "outputs": [
    {
     "name": "stdout",
     "output_type": "stream",
     "text": [
      "Epoch 1/100\n",
      " - 4s - loss: 3372.5288 - mean_absolute_error: 29.1407 - accuracy: 0.0221\n",
      "Epoch 2/100\n",
      " - 3s - loss: 195.5013 - mean_absolute_error: 10.5527 - accuracy: 0.0342\n",
      "Epoch 3/100\n",
      " - 3s - loss: 193.2903 - mean_absolute_error: 10.3905 - accuracy: 0.0335\n",
      "Epoch 4/100\n",
      " - 3s - loss: 158.0524 - mean_absolute_error: 9.3442 - accuracy: 0.0402\n",
      "Epoch 5/100\n",
      " - 3s - loss: 151.8305 - mean_absolute_error: 9.1513 - accuracy: 0.0416\n",
      "Epoch 6/100\n",
      " - 3s - loss: 149.5133 - mean_absolute_error: 9.1171 - accuracy: 0.0424\n",
      "Epoch 7/100\n",
      " - 3s - loss: 136.7245 - mean_absolute_error: 8.6736 - accuracy: 0.0415\n",
      "Epoch 8/100\n",
      " - 4s - loss: 132.8759 - mean_absolute_error: 8.5329 - accuracy: 0.0454\n",
      "Epoch 9/100\n",
      " - 4s - loss: 143.6548 - mean_absolute_error: 8.9002 - accuracy: 0.0421\n",
      "Epoch 10/100\n",
      " - 4s - loss: 142.1850 - mean_absolute_error: 8.8494 - accuracy: 0.0420\n",
      "Epoch 11/100\n",
      " - 3s - loss: 137.6041 - mean_absolute_error: 8.7140 - accuracy: 0.0437\n",
      "Epoch 12/100\n",
      " - 3s - loss: 139.8726 - mean_absolute_error: 8.7703 - accuracy: 0.0433\n",
      "Epoch 13/100\n",
      " - 3s - loss: 136.8122 - mean_absolute_error: 8.6769 - accuracy: 0.0436\n",
      "Epoch 14/100\n",
      " - 3s - loss: 139.4600 - mean_absolute_error: 8.7780 - accuracy: 0.0435\n",
      "Epoch 15/100\n",
      " - 3s - loss: 149.3148 - mean_absolute_error: 9.1347 - accuracy: 0.0408\n",
      "Epoch 16/100\n",
      " - 3s - loss: 133.5785 - mean_absolute_error: 8.5601 - accuracy: 0.0455\n",
      "Epoch 17/100\n",
      " - 3s - loss: 140.6392 - mean_absolute_error: 8.8330 - accuracy: 0.0421\n",
      "Epoch 18/100\n",
      " - 3s - loss: 145.9150 - mean_absolute_error: 9.0556 - accuracy: 0.0397\n",
      "Epoch 19/100\n",
      " - 4s - loss: 133.4443 - mean_absolute_error: 8.5757 - accuracy: 0.0431\n",
      "Epoch 20/100\n",
      " - 4s - loss: 127.2479 - mean_absolute_error: 8.3074 - accuracy: 0.0452\n",
      "Epoch 21/100\n",
      " - 4s - loss: 134.2132 - mean_absolute_error: 8.6168 - accuracy: 0.0431\n",
      "Epoch 22/100\n",
      " - 3s - loss: 138.4680 - mean_absolute_error: 8.7760 - accuracy: 0.0405\n",
      "Epoch 23/100\n",
      " - 3s - loss: 128.7701 - mean_absolute_error: 8.3971 - accuracy: 0.0429\n",
      "Epoch 24/100\n",
      " - 4s - loss: 234.8541 - mean_absolute_error: 11.3982 - accuracy: 0.0316\n",
      "Epoch 25/100\n",
      " - 4s - loss: 167.1985 - mean_absolute_error: 9.7833 - accuracy: 0.0360\n",
      "Epoch 26/100\n",
      " - 4s - loss: 162.7854 - mean_absolute_error: 9.6410 - accuracy: 0.0384\n",
      "Epoch 27/100\n",
      " - 3s - loss: 155.4925 - mean_absolute_error: 9.3622 - accuracy: 0.0382\n",
      "Epoch 28/100\n",
      " - 3s - loss: 145.4893 - mean_absolute_error: 9.0135 - accuracy: 0.0399\n",
      "Epoch 29/100\n",
      " - 3s - loss: 147.0526 - mean_absolute_error: 9.0642 - accuracy: 0.0412\n",
      "Epoch 30/100\n",
      " - 3s - loss: 142.1546 - mean_absolute_error: 8.9353 - accuracy: 0.0399\n",
      "Epoch 31/100\n",
      " - 3s - loss: 145.6969 - mean_absolute_error: 9.0301 - accuracy: 0.0417\n",
      "Epoch 32/100\n",
      " - 3s - loss: 130.2774 - mean_absolute_error: 8.4618 - accuracy: 0.0429\n",
      "Epoch 33/100\n",
      " - 4s - loss: 134.6271 - mean_absolute_error: 8.6221 - accuracy: 0.0424\n",
      "Epoch 34/100\n",
      " - 4s - loss: 135.1009 - mean_absolute_error: 8.6608 - accuracy: 0.0407\n",
      "Epoch 35/100\n",
      " - 4s - loss: 126.1765 - mean_absolute_error: 8.2568 - accuracy: 0.0469\n",
      "Epoch 36/100\n",
      " - 4s - loss: 128.8501 - mean_absolute_error: 8.3894 - accuracy: 0.0446\n",
      "Epoch 37/100\n",
      " - 4s - loss: 127.7650 - mean_absolute_error: 8.3179 - accuracy: 0.0455\n",
      "Epoch 38/100\n",
      " - 3s - loss: 128.4959 - mean_absolute_error: 8.3715 - accuracy: 0.0468\n",
      "Epoch 39/100\n",
      " - 3s - loss: 137.9784 - mean_absolute_error: 8.7202 - accuracy: 0.0439\n",
      "Epoch 40/100\n",
      " - 3s - loss: 125.9250 - mean_absolute_error: 8.2533 - accuracy: 0.0446\n",
      "Epoch 41/100\n",
      " - 4s - loss: 131.7080 - mean_absolute_error: 8.4901 - accuracy: 0.0454\n",
      "Epoch 42/100\n",
      " - 4s - loss: 122.8432 - mean_absolute_error: 8.1181 - accuracy: 0.0483\n",
      "Epoch 43/100\n",
      " - 4s - loss: 125.3398 - mean_absolute_error: 8.2491 - accuracy: 0.0478\n",
      "Epoch 44/100\n",
      " - 4s - loss: 125.4704 - mean_absolute_error: 8.2127 - accuracy: 0.0477\n",
      "Epoch 45/100\n",
      " - 3s - loss: 130.0356 - mean_absolute_error: 8.3802 - accuracy: 0.0459\n",
      "Epoch 46/100\n",
      " - 4s - loss: 120.2201 - mean_absolute_error: 8.0041 - accuracy: 0.0500\n",
      "Epoch 47/100\n",
      " - 4s - loss: 122.5561 - mean_absolute_error: 8.1219 - accuracy: 0.0478\n",
      "Epoch 48/100\n",
      " - 4s - loss: 119.9783 - mean_absolute_error: 7.9760 - accuracy: 0.0494\n",
      "Epoch 49/100\n",
      " - 4s - loss: 128.7151 - mean_absolute_error: 8.3411 - accuracy: 0.0465\n",
      "Epoch 50/100\n",
      " - 4s - loss: 126.8332 - mean_absolute_error: 8.2873 - accuracy: 0.0469\n",
      "Epoch 51/100\n",
      " - 4s - loss: 124.3069 - mean_absolute_error: 8.1560 - accuracy: 0.0490\n",
      "Epoch 52/100\n",
      " - 4s - loss: 122.3684 - mean_absolute_error: 8.0779 - accuracy: 0.0477\n",
      "Epoch 53/100\n",
      " - 4s - loss: 120.1490 - mean_absolute_error: 8.0004 - accuracy: 0.0483\n",
      "Epoch 54/100\n",
      " - 3s - loss: 120.0502 - mean_absolute_error: 7.9775 - accuracy: 0.0524\n",
      "Epoch 55/100\n",
      " - 3s - loss: 121.7181 - mean_absolute_error: 8.0601 - accuracy: 0.0479\n",
      "Epoch 56/100\n",
      " - 4s - loss: 121.1656 - mean_absolute_error: 8.0389 - accuracy: 0.0513\n",
      "Epoch 57/100\n",
      " - 3s - loss: 125.4874 - mean_absolute_error: 8.1977 - accuracy: 0.0492\n",
      "Epoch 58/100\n",
      " - 4s - loss: 122.9260 - mean_absolute_error: 8.0958 - accuracy: 0.0519\n",
      "Epoch 59/100\n",
      " - 4s - loss: 122.8101 - mean_absolute_error: 8.0791 - accuracy: 0.0494\n",
      "Epoch 60/100\n",
      " - 4s - loss: 123.5133 - mean_absolute_error: 8.1159 - accuracy: 0.0505\n",
      "Epoch 61/100\n",
      " - 4s - loss: 120.8729 - mean_absolute_error: 7.9997 - accuracy: 0.0502\n",
      "Epoch 62/100\n",
      " - 3s - loss: 120.9941 - mean_absolute_error: 8.0093 - accuracy: 0.0490\n",
      "Epoch 63/100\n",
      " - 3s - loss: 121.2027 - mean_absolute_error: 7.9997 - accuracy: 0.0517\n",
      "Epoch 64/100\n",
      " - 3s - loss: 120.5829 - mean_absolute_error: 8.0094 - accuracy: 0.0487\n",
      "Epoch 65/100\n",
      " - 4s - loss: 123.1921 - mean_absolute_error: 8.1128 - accuracy: 0.0505\n",
      "Epoch 66/100\n",
      " - 4s - loss: 121.7786 - mean_absolute_error: 8.0357 - accuracy: 0.0497\n",
      "Epoch 67/100\n",
      " - 4s - loss: 120.8975 - mean_absolute_error: 7.9985 - accuracy: 0.0517\n",
      "Epoch 68/100\n",
      " - 4s - loss: 123.4764 - mean_absolute_error: 8.1618 - accuracy: 0.0483\n",
      "Epoch 69/100\n",
      " - 3s - loss: 123.8884 - mean_absolute_error: 8.1317 - accuracy: 0.0482\n",
      "Epoch 70/100\n",
      " - 3s - loss: 120.7730 - mean_absolute_error: 7.9795 - accuracy: 0.0524\n",
      "Epoch 71/100\n",
      " - 4s - loss: 119.9442 - mean_absolute_error: 7.9753 - accuracy: 0.0513\n",
      "Epoch 72/100\n",
      " - 4s - loss: 125.7501 - mean_absolute_error: 8.2313 - accuracy: 0.0489\n",
      "Epoch 73/100\n",
      " - 4s - loss: 119.9487 - mean_absolute_error: 7.9606 - accuracy: 0.0506\n",
      "Epoch 74/100\n",
      " - 4s - loss: 124.6638 - mean_absolute_error: 8.1589 - accuracy: 0.0478\n",
      "Epoch 75/100\n",
      " - 4s - loss: 121.6501 - mean_absolute_error: 8.0235 - accuracy: 0.0529\n",
      "Epoch 76/100\n",
      " - 4s - loss: 119.6463 - mean_absolute_error: 7.9392 - accuracy: 0.0546\n",
      "Epoch 77/100\n",
      " - 4s - loss: 124.0466 - mean_absolute_error: 8.1277 - accuracy: 0.0500\n",
      "Epoch 78/100\n",
      " - 4s - loss: 123.0814 - mean_absolute_error: 8.0901 - accuracy: 0.0530\n",
      "Epoch 79/100\n",
      " - 4s - loss: 122.2637 - mean_absolute_error: 8.0551 - accuracy: 0.0490\n",
      "Epoch 80/100\n",
      " - 4s - loss: 120.2056 - mean_absolute_error: 8.0025 - accuracy: 0.0499\n",
      "Epoch 81/100\n",
      " - 4s - loss: 115.8730 - mean_absolute_error: 7.7867 - accuracy: 0.0527\n",
      "Epoch 82/100\n",
      " - 4s - loss: 120.5805 - mean_absolute_error: 8.0007 - accuracy: 0.0510\n",
      "Epoch 83/100\n",
      " - 4s - loss: 122.3430 - mean_absolute_error: 8.0719 - accuracy: 0.0514\n",
      "Epoch 84/100\n",
      " - 3s - loss: 120.4063 - mean_absolute_error: 7.9770 - accuracy: 0.0518\n",
      "Epoch 85/100\n",
      " - 3s - loss: 116.9496 - mean_absolute_error: 7.8428 - accuracy: 0.0528\n",
      "Epoch 86/100\n",
      " - 3s - loss: 118.2746 - mean_absolute_error: 7.8829 - accuracy: 0.0541\n",
      "Epoch 87/100\n",
      " - 4s - loss: 118.1389 - mean_absolute_error: 7.8875 - accuracy: 0.0525\n",
      "Epoch 88/100\n",
      " - 3s - loss: 124.2440 - mean_absolute_error: 8.1551 - accuracy: 0.0500\n",
      "Epoch 89/100\n",
      " - 4s - loss: 116.7841 - mean_absolute_error: 7.8178 - accuracy: 0.0551\n",
      "Epoch 90/100\n",
      " - 3s - loss: 121.1855 - mean_absolute_error: 8.0471 - accuracy: 0.0496\n",
      "Epoch 91/100\n",
      " - 4s - loss: 119.5493 - mean_absolute_error: 7.9659 - accuracy: 0.0514\n",
      "Epoch 92/100\n",
      " - 3s - loss: 122.5558 - mean_absolute_error: 8.0730 - accuracy: 0.0504\n",
      "Epoch 93/100\n",
      " - 3s - loss: 119.5654 - mean_absolute_error: 7.9435 - accuracy: 0.0523\n",
      "Epoch 94/100\n",
      " - 4s - loss: 118.1787 - mean_absolute_error: 7.8768 - accuracy: 0.0531\n",
      "Epoch 95/100\n",
      " - 3s - loss: 116.8682 - mean_absolute_error: 7.8273 - accuracy: 0.0544\n",
      "Epoch 96/100\n",
      " - 4s - loss: 122.1291 - mean_absolute_error: 8.0598 - accuracy: 0.0501\n",
      "Epoch 97/100\n",
      " - 3s - loss: 119.7405 - mean_absolute_error: 7.9651 - accuracy: 0.0491\n"
     ]
    },
    {
     "name": "stdout",
     "output_type": "stream",
     "text": [
      "Epoch 98/100\n",
      " - 4s - loss: 123.5740 - mean_absolute_error: 8.1473 - accuracy: 0.0477\n",
      "Epoch 99/100\n",
      " - 4s - loss: 118.8089 - mean_absolute_error: 7.8989 - accuracy: 0.0533\n",
      "Epoch 100/100\n",
      " - 3s - loss: 121.6741 - mean_absolute_error: 8.0568 - accuracy: 0.0515\n"
     ]
    },
    {
     "data": {
      "text/plain": [
       "<keras.callbacks.callbacks.History at 0x631430f10>"
      ]
     },
     "execution_count": 8,
     "metadata": {},
     "output_type": "execute_result"
    }
   ],
   "source": [
    "# define model\n",
    "model = Sequential()\n",
    "model.add(LSTM(100, activation='relu', input_shape=(n_steps_in, n_features))) \n",
    "model.add(RepeatVector(n_steps_out))\n",
    "model.add(LSTM(100, activation='relu', return_sequences=True)) \n",
    "model.add(TimeDistributed(Dense(1)))\n",
    "model.compile(optimizer='adam', loss='mse', metrics=[metrics.mae, 'accuracy'])\n",
    "# fit model\n",
    "model.fit(train_X, train_y, epochs=100, verbose=2)\n"
   ]
  },
  {
   "cell_type": "code",
   "execution_count": 9,
   "metadata": {},
   "outputs": [
    {
     "ename": "ValueError",
     "evalue": "cannot reshape array of size 3 into shape (1,12,1)",
     "output_type": "error",
     "traceback": [
      "\u001b[0;31m---------------------------------------------------------------------------\u001b[0m",
      "\u001b[0;31mValueError\u001b[0m                                Traceback (most recent call last)",
      "\u001b[0;32m<ipython-input-9-e350a6ef5186>\u001b[0m in \u001b[0;36m<module>\u001b[0;34m\u001b[0m\n\u001b[1;32m      1\u001b[0m \u001b[0;31m# demonstrate prediction\u001b[0m\u001b[0;34m\u001b[0m\u001b[0;34m\u001b[0m\u001b[0;34m\u001b[0m\u001b[0m\n\u001b[1;32m      2\u001b[0m \u001b[0mx_input\u001b[0m \u001b[0;34m=\u001b[0m \u001b[0mnp\u001b[0m\u001b[0;34m.\u001b[0m\u001b[0marray\u001b[0m\u001b[0;34m(\u001b[0m\u001b[0;34m[\u001b[0m\u001b[0;36m29\u001b[0m\u001b[0;34m,\u001b[0m \u001b[0;36m27\u001b[0m\u001b[0;34m,\u001b[0m \u001b[0;36m27\u001b[0m\u001b[0;34m]\u001b[0m\u001b[0;34m)\u001b[0m\u001b[0;34m\u001b[0m\u001b[0;34m\u001b[0m\u001b[0m\n\u001b[0;32m----> 3\u001b[0;31m \u001b[0mx_input\u001b[0m \u001b[0;34m=\u001b[0m \u001b[0mx_input\u001b[0m\u001b[0;34m.\u001b[0m\u001b[0mreshape\u001b[0m\u001b[0;34m(\u001b[0m\u001b[0;34m(\u001b[0m\u001b[0;36m1\u001b[0m\u001b[0;34m,\u001b[0m \u001b[0mn_steps_in\u001b[0m\u001b[0;34m,\u001b[0m \u001b[0mn_features\u001b[0m\u001b[0;34m)\u001b[0m\u001b[0;34m)\u001b[0m\u001b[0;34m\u001b[0m\u001b[0;34m\u001b[0m\u001b[0m\n\u001b[0m\u001b[1;32m      4\u001b[0m \u001b[0myhat\u001b[0m \u001b[0;34m=\u001b[0m \u001b[0mmodel\u001b[0m\u001b[0;34m.\u001b[0m\u001b[0mpredict\u001b[0m\u001b[0;34m(\u001b[0m\u001b[0mx_input\u001b[0m\u001b[0;34m,\u001b[0m \u001b[0mverbose\u001b[0m\u001b[0;34m=\u001b[0m\u001b[0;36m0\u001b[0m\u001b[0;34m)\u001b[0m\u001b[0;34m\u001b[0m\u001b[0;34m\u001b[0m\u001b[0m\n\u001b[1;32m      5\u001b[0m \u001b[0mprint\u001b[0m\u001b[0;34m(\u001b[0m\u001b[0myhat\u001b[0m\u001b[0;34m)\u001b[0m\u001b[0;34m\u001b[0m\u001b[0;34m\u001b[0m\u001b[0m\n",
      "\u001b[0;31mValueError\u001b[0m: cannot reshape array of size 3 into shape (1,12,1)"
     ]
    }
   ],
   "source": [
    "# demonstrate prediction\n",
    "x_input = np.array([29, 27, 27, 26, 25, 25])\n",
    "x_input = x_input.reshape((1, n_steps_in, n_features))\n",
    "yhat = model.predict(x_input, verbose=0)\n",
    "print(yhat)"
   ]
  },
  {
   "cell_type": "code",
   "execution_count": 10,
   "metadata": {},
   "outputs": [],
   "source": [
    "# predict and compute error\n",
    "predicted = np.array([])\n",
    "\n",
    "for i in range(len(test_X)):\n",
    "    # x_input = X[i].reshape((1, n_steps))\n",
    "    x_input = test_X[i].reshape((1, n_steps_in, n_features))\n",
    "    yhat = model.predict(x_input, verbose=0)\n",
    "    predicted = np.append(predicted, yhat[0]) "
   ]
  },
  {
   "cell_type": "code",
   "execution_count": 11,
   "metadata": {},
   "outputs": [],
   "source": [
    "expected = test_y\n",
    "# abs difference\n",
    "difference = abs((expected - predicted))"
   ]
  },
  {
   "cell_type": "code",
   "execution_count": 12,
   "metadata": {},
   "outputs": [
    {
     "name": "stdout",
     "output_type": "stream",
     "text": [
      "3791\n",
      "6\n",
      "22746\n"
     ]
    }
   ],
   "source": [
    "print(difference.shape[0])\n",
    "print(difference.shape[1])\n",
    "print(difference.shape[2])\n",
    "difference =  np.reshape(difference, difference.shape[0] * difference.shape[1] * difference.shape[2])"
   ]
  },
  {
   "cell_type": "code",
   "execution_count": 13,
   "metadata": {},
   "outputs": [
    {
     "name": "stdout",
     "output_type": "stream",
     "text": [
      "Mean Absolute Error =  41.42365160764904\n"
     ]
    },
    {
     "data": {
      "image/png": "[encoded data removed]",
      "text/plain": [
       "<Figure size 1008x72 with 1 Axes>"
      ]
     },
     "metadata": {
      "needs_background": "light"
     },
     "output_type": "display_data"
    },
    {
     "data": {
      "image/png": "[encoded data removed]",
      "text/plain": [
       "<Figure size 1008x72 with 1 Axes>"
      ]
     },
     "metadata": {
      "needs_background": "light"
     },
     "output_type": "display_data"
    }
   ],
   "source": [
    "print('Mean Absolute Error = ', np.mean(difference))\n",
    "# show boxplot\n",
    "plt.figure(figsize = (14,1))\n",
    "plt.boxplot(difference, vert= False);\n",
    "plt.show()\n",
    "# show boxplot\n",
    "plt.figure(figsize = (14,1))\n",
    "plt.boxplot(series, vert= False);\n",
    "plt.show()"
   ]
  },
  {
   "cell_type": "code",
   "execution_count": null,
   "metadata": {},
   "outputs": [],
   "source": []
  }
 ],
 "metadata": {
  "kernelspec": {
   "display_name": "Python 3",
   "language": "python",
   "name": "python3"
  },
  "language_info": {
   "codemirror_mode": {
    "name": "ipython",
    "version": 3
   },
   "file_extension": ".py",
   "mimetype": "text/x-python",
   "name": "python",
   "nbconvert_exporter": "python",
   "pygments_lexer": "ipython3",
   "version": "3.7.4"
  }
 },
 "nbformat": 4,
 "nbformat_minor": 2
}
