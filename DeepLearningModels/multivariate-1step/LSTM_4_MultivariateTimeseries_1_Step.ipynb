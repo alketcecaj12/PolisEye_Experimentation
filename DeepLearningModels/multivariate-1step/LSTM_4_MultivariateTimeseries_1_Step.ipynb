{
 "cells": [
  {
   "cell_type": "markdown",
   "metadata": {},
   "source": [
    "### LSTM per serie dati multivariata. Previsione 1 Step"
   ]
  },
  {
   "cell_type": "code",
   "execution_count": 1,
   "metadata": {},
   "outputs": [
    {
     "name": "stderr",
     "output_type": "stream",
     "text": [
      "Using TensorFlow backend.\n"
     ]
    },
    {
     "name": "stdout",
     "output_type": "stream",
     "text": [
      "<class 'numpy.ndarray'>\n"
     ]
    }
   ],
   "source": [
    "import pandas as pd\n",
    "import numpy as np\n",
    "import matplotlib.pyplot as plt\n",
    "import datetime\n",
    "import time\n",
    "from pandas.plotting import lag_plot\n",
    "from pandas.plotting import autocorrelation_plot\n",
    "from sklearn.metrics import mean_absolute_error\n",
    "from sklearn.metrics import mean_squared_error \n",
    "from math import sqrt\n",
    "from numpy import hstack\n",
    "from keras.models import Sequential\n",
    "from keras.layers import LSTM\n",
    "from keras.layers import Dense\n",
    "from keras.layers import Flatten\n",
    "from keras.layers.convolutional import Conv1D\n",
    "from keras.layers.convolutional import MaxPooling1D\n",
    "from sklearn.model_selection import train_test_split\n",
    "import warnings \n",
    "warnings.filterwarnings('ignore')\n",
    "\n",
    "data = pd.read_csv('/Users/alket/Desktop/dati/new_data_backfill_forwfill.csv',index_col = 0)\n",
    "\n",
    "# preparazione dati per due celle\n",
    "agg_by_cell = data.groupby(by = ['cell_num'])\n",
    "cell_1 = agg_by_cell.get_group('486-1252')\n",
    "cell_2 = agg_by_cell.get_group('486-1256')\n",
    "cell_3 = agg_by_cell.get_group('486-1258')\n",
    "# define input sequence\n",
    "series1 = cell_1['nr_people'].values\n",
    "series2 = cell_2['nr_people'].values\n",
    "series3 = cell_3['nr_people'].values\n",
    "print(type(series2))"
   ]
  },
  {
   "cell_type": "code",
   "execution_count": 2,
   "metadata": {},
   "outputs": [],
   "source": [
    "# split a multivariate sequence into samples\n",
    "def split_sequences(sequences, n_steps):\n",
    "    X, y = list(), list()\n",
    "    for i in range(len(sequences)):\n",
    "        # find the end of this pattern\n",
    "        end_ix = i + n_steps\n",
    "        # check if we are beyond the dataset\n",
    "        if end_ix > len(sequences)-1:\n",
    "            break\n",
    "        # gather input and output parts of the pattern\n",
    "        seq_x, seq_y = sequences[i:end_ix, :], sequences[end_ix, :]\n",
    "        X.append(seq_x)\n",
    "        y.append(seq_y)\n",
    "    return np.array(X), np.array(y)\n",
    "\n",
    "out_seq = np.array([series1[i]+series2[i]+series3[i] for i in range(len(series1))])\n",
    "\n",
    "# convert to [rows, columns] structure\n",
    "series1 = series1.reshape((len(series1), 1))\n",
    "series2 = series2.reshape((len(series2), 1))\n",
    "series3 = series3.reshape((len(series3), 1))\n",
    "out_seq = out_seq.reshape((len(out_seq), 1))\n",
    "\n",
    "# horizontally stack columns\n",
    "dataset = hstack((series1, series2, series3,  out_seq))\n",
    "\n",
    "# choose a number of time steps\n",
    "n_steps = 4\n",
    "\n",
    "# convert into input/output\n",
    "X, y = split_sequences(dataset, n_steps)\n",
    "\n",
    "# the dataset knows the number of features, e.g. 2\n",
    "n_features = X.shape[2]"
   ]
  },
  {
   "cell_type": "markdown",
   "metadata": {},
   "source": [
    "### Dividi in Train-validation-test"
   ]
  },
  {
   "cell_type": "code",
   "execution_count": 3,
   "metadata": {},
   "outputs": [
    {
     "name": "stdout",
     "output_type": "stream",
     "text": [
      "5783 5783 3542 3542 2479 2479\n"
     ]
    }
   ],
   "source": [
    "train_X, test_X, train_y, test_y = train_test_split(X, y, test_size=0.3, random_state=1)\n",
    "train_X, val_X, train_y, val_y = train_test_split(train_X, train_y, test_size=0.3, random_state=1)\n",
    "print(len(train_X), len(train_y), len(test_X), len(test_y), len(val_X), len(val_y))"
   ]
  },
  {
   "cell_type": "markdown",
   "metadata": {},
   "source": [
    "### Modello LSTM "
   ]
  },
  {
   "cell_type": "code",
   "execution_count": 4,
   "metadata": {
    "scrolled": true
   },
   "outputs": [
    {
     "name": "stdout",
     "output_type": "stream",
     "text": [
      "Epoch 1/50\n",
      " - 3s - loss: 168.8400\n",
      "Epoch 2/50\n",
      " - 2s - loss: 9.3534\n",
      "Epoch 3/50\n",
      " - 2s - loss: 8.4023\n",
      "Epoch 4/50\n",
      " - 2s - loss: 7.3226\n",
      "Epoch 5/50\n",
      " - 2s - loss: 7.1381\n",
      "Epoch 6/50\n",
      " - 2s - loss: 7.5172\n",
      "Epoch 7/50\n",
      " - 2s - loss: 6.7537\n",
      "Epoch 8/50\n",
      " - 2s - loss: 7.1109\n",
      "Epoch 9/50\n",
      " - 2s - loss: 7.2964\n",
      "Epoch 10/50\n",
      " - 2s - loss: 6.7812\n",
      "Epoch 11/50\n",
      " - 2s - loss: 6.5884\n",
      "Epoch 12/50\n",
      " - 2s - loss: 7.1204\n",
      "Epoch 13/50\n",
      " - 2s - loss: 6.8718\n",
      "Epoch 14/50\n",
      " - 2s - loss: 7.0477\n",
      "Epoch 15/50\n",
      " - 2s - loss: 6.3087\n",
      "Epoch 16/50\n",
      " - 2s - loss: 6.8599\n",
      "Epoch 17/50\n",
      " - 3s - loss: 6.6807\n",
      "Epoch 18/50\n",
      " - 2s - loss: 6.2846\n",
      "Epoch 19/50\n",
      " - 2s - loss: 6.4373\n",
      "Epoch 20/50\n",
      " - 2s - loss: 6.4921\n",
      "Epoch 21/50\n",
      " - 2s - loss: 6.3193\n",
      "Epoch 22/50\n",
      " - 2s - loss: 6.3182\n",
      "Epoch 23/50\n",
      " - 2s - loss: 6.4883\n",
      "Epoch 24/50\n",
      " - 2s - loss: 6.8509\n",
      "Epoch 25/50\n",
      " - 2s - loss: 6.5553\n",
      "Epoch 26/50\n",
      " - 3s - loss: 6.0281\n",
      "Epoch 27/50\n",
      " - 2s - loss: 6.1198\n",
      "Epoch 28/50\n",
      " - 2s - loss: 6.4074\n",
      "Epoch 29/50\n",
      " - 2s - loss: 6.4606\n",
      "Epoch 30/50\n",
      " - 2s - loss: 6.0197\n",
      "Epoch 31/50\n",
      " - 3s - loss: 6.1038\n",
      "Epoch 32/50\n",
      " - 3s - loss: 6.2642\n",
      "Epoch 33/50\n",
      " - 3s - loss: 6.0985\n",
      "Epoch 34/50\n",
      " - 2s - loss: 6.3868\n",
      "Epoch 35/50\n",
      " - 3s - loss: 5.8992\n",
      "Epoch 36/50\n",
      " - 2s - loss: 6.1907\n",
      "Epoch 37/50\n",
      " - 2s - loss: 5.9581\n",
      "Epoch 38/50\n",
      " - 2s - loss: 6.2014\n",
      "Epoch 39/50\n",
      " - 2s - loss: 6.0210\n",
      "Epoch 40/50\n",
      " - 2s - loss: 6.0014\n",
      "Epoch 41/50\n",
      " - 3s - loss: 6.1035\n",
      "Epoch 42/50\n",
      " - 2s - loss: 6.3363\n",
      "Epoch 43/50\n",
      " - 3s - loss: 5.8529\n",
      "Epoch 44/50\n",
      " - 2s - loss: 6.0606\n",
      "Epoch 45/50\n",
      " - 2s - loss: 5.8427\n",
      "Epoch 46/50\n",
      " - 2s - loss: 5.9713\n",
      "Epoch 47/50\n",
      " - 2s - loss: 5.8964\n",
      "Epoch 48/50\n",
      " - 3s - loss: 5.8001\n",
      "Epoch 49/50\n",
      " - 4s - loss: 5.9301\n",
      "Epoch 50/50\n",
      " - 4s - loss: 5.7873\n"
     ]
    },
    {
     "data": {
      "text/plain": [
       "<keras.callbacks.callbacks.History at 0x1a3c57a0d0>"
      ]
     },
     "execution_count": 4,
     "metadata": {},
     "output_type": "execute_result"
    }
   ],
   "source": [
    "# define model\n",
    "model = Sequential()\n",
    "model.add(LSTM(100, activation='relu', return_sequences=True, input_shape=(n_steps, n_features)))\n",
    "model.add(LSTM(100, activation='relu')) \n",
    "model.add(Dense(n_features)) \n",
    "model.compile(optimizer='adam', loss='mse')\n",
    "# fit model\n",
    "model.fit(X, y, epochs=50, verbose=2)"
   ]
  },
  {
   "cell_type": "markdown",
   "metadata": {},
   "source": [
    "### Dimostra previsone"
   ]
  },
  {
   "cell_type": "code",
   "execution_count": 6,
   "metadata": {},
   "outputs": [
    {
     "name": "stdout",
     "output_type": "stream",
     "text": [
      "[[ 30.507952  36.146732  36.36125  103.0378  ]]\n"
     ]
    }
   ],
   "source": [
    "x_input = np.array([[ 36,  43,  42, 121],\n",
    "                    [ 34,  40,  40, 114],\n",
    "                    [ 33,  39,  39, 111],\n",
    "                    [ 32,  37,  37, 106]])\n",
    "x_input = x_input.reshape((1, n_steps, n_features))\n",
    "yhat = model.predict(x_input, verbose=2)\n",
    "print(yhat)"
   ]
  },
  {
   "cell_type": "markdown",
   "metadata": {},
   "source": [
    "### Calcolo dell'errore"
   ]
  },
  {
   "cell_type": "code",
   "execution_count": 7,
   "metadata": {},
   "outputs": [
    {
     "name": "stdout",
     "output_type": "stream",
     "text": [
      "14168\n",
      "14168\n"
     ]
    }
   ],
   "source": [
    "# predict and compute error\n",
    "predicted = np.array([])\n",
    "\n",
    "for i in range(len(test_X)):\n",
    "    x_input = test_X[i].reshape((1, n_steps, n_features))\n",
    "    yhat = model.predict(x_input, verbose=0)\n",
    "    #print(yhat[0])\n",
    "    predicted = np.append(predicted, yhat[0]) \n",
    "\n",
    "\n",
    "expected = test_y\n",
    "expected = np.reshape(expected, predicted.shape[0])\n",
    "print(len(expected))\n",
    "print(len(predicted))\n",
    "\n",
    "#expected = np.reshape(expected, expected.shape[0] * expected.shape[1]* expected.shape[2])"
   ]
  },
  {
   "cell_type": "markdown",
   "metadata": {},
   "source": [
    "### Grafico distribuzione errore"
   ]
  },
  {
   "cell_type": "code",
   "execution_count": 8,
   "metadata": {},
   "outputs": [
    {
     "name": "stdout",
     "output_type": "stream",
     "text": [
      "Mean Absolute Error =  1.4548494083473469\n"
     ]
    },
    {
     "data": {
      "image/png": "[encoded data removed]",
      "text/plain": [
       "<Figure size 1008x144 with 1 Axes>"
      ]
     },
     "metadata": {
      "needs_background": "light"
     },
     "output_type": "display_data"
    }
   ],
   "source": [
    "# abs difference\n",
    "difference = abs((expected - predicted))\n",
    "print('Mean Absolute Error = ', np.mean(difference))\n",
    "\n",
    "# show boxplot\n",
    "plt.figure(figsize = (14,2))\n",
    "plt.boxplot(difference, vert= False);\n",
    "plt.show()"
   ]
  },
  {
   "cell_type": "code",
   "execution_count": null,
   "metadata": {},
   "outputs": [],
   "source": []
  }
 ],
 "metadata": {
  "kernelspec": {
   "display_name": "Python 3",
   "language": "python",
   "name": "python3"
  },
  "language_info": {
   "codemirror_mode": {
    "name": "ipython",
    "version": 3
   },
   "file_extension": ".py",
   "mimetype": "text/x-python",
   "name": "python",
   "nbconvert_exporter": "python",
   "pygments_lexer": "ipython3",
   "version": "3.7.4"
  }
 },
 "nbformat": 4,
 "nbformat_minor": 2
}
