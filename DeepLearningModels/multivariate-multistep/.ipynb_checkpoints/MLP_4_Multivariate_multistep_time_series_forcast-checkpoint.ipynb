{
 "cells": [
  {
   "cell_type": "markdown",
   "metadata": {},
   "source": [
    "### MLP_4_Multivariate_multistep_time_series_forcast      "
   ]
  },
  {
   "cell_type": "code",
   "execution_count": 60,
   "metadata": {},
   "outputs": [
    {
     "name": "stdout",
     "output_type": "stream",
     "text": [
      "<class 'numpy.ndarray'>\n"
     ]
    }
   ],
   "source": [
    "import pandas as pd\n",
    "import numpy as np\n",
    "import matplotlib.pyplot as plt\n",
    "import datetime\n",
    "import time\n",
    "from pandas.plotting import lag_plot\n",
    "from pandas.plotting import autocorrelation_plot\n",
    "from sklearn.metrics import mean_absolute_error\n",
    "from sklearn.metrics import mean_squared_error \n",
    "from math import sqrt\n",
    "from numpy import hstack\n",
    "from keras.models import Sequential\n",
    "from keras.layers import LSTM\n",
    "from keras.layers import Dense\n",
    "from keras.layers import Flatten\n",
    "from keras.layers.convolutional import Conv1D\n",
    "from keras.layers.convolutional import MaxPooling1D\n",
    "import warnings \n",
    "warnings.filterwarnings('ignore')\n",
    "from sklearn.model_selection import train_test_split\n",
    "from keras import metrics\n",
    "\n",
    "data = pd.read_csv('/Users/alket/Desktop/dati/new_data_backfill_forwfill.csv',index_col = 0)\n",
    "\n",
    "# preparazione dati per due celle\n",
    "agg_by_cell = data.groupby(by = ['cell_num'])\n",
    "cell_1 = agg_by_cell.get_group('486-1252')\n",
    "cell_11 = agg_by_cell.get_group('486-1253')\n",
    "cell_2 = agg_by_cell.get_group('486-1256')\n",
    "cell_22 = agg_by_cell.get_group('486-1257')\n",
    "cell_3 = agg_by_cell.get_group('486-1258')\n",
    "cell_33 = agg_by_cell.get_group('486-1259')\n",
    "# define input sequence\n",
    "series1 = cell_1['nr_people'].values\n",
    "series11 = cell_11['nr_people'].values\n",
    "series2 = cell_2['nr_people'].values\n",
    "series22 = cell_22['nr_people'].values\n",
    "series3 = cell_3['nr_people'].values\n",
    "series33 = cell_33['nr_people'].values\n",
    "print(type(series2))"
   ]
  },
  {
   "cell_type": "code",
   "execution_count": 61,
   "metadata": {},
   "outputs": [
    {
     "name": "stdout",
     "output_type": "stream",
     "text": [
      "dataset dim 7\n",
      "[[ 36.  43.  42.  39.  44.  41. 121.]\n",
      " [ 36.  43.  42.  38.  44.  41. 121.]\n",
      " [ 34.  40.  40.  36.  42.  40. 114.]\n",
      " [ 33.  39.  39.  35.  40.  38. 111.]\n",
      " [ 32.  37.  37.  34.  38.  37. 106.]] [[ 33.  37.  37.  35.  38.  36. 107.]\n",
      " [ 32.  36.  35.  33.  37.  34. 103.]\n",
      " [ 30.  34.  34.  32.  36.  33.  98.]\n",
      " [ 30.  34.  33.  32.  35.  32.  97.]\n",
      " [ 29.  33.  32.  31.  34.  31.  94.]\n",
      " [ 29.  32.  31.  30.  33.  29.  92.]]\n",
      "[[ 36.  43.  42.  38.  44.  41. 121.]\n",
      " [ 34.  40.  40.  36.  42.  40. 114.]\n",
      " [ 33.  39.  39.  35.  40.  38. 111.]\n",
      " [ 32.  37.  37.  34.  38.  37. 106.]\n",
      " [ 33.  37.  37.  35.  38.  36. 107.]] [[ 32.  36.  35.  33.  37.  34. 103.]\n",
      " [ 30.  34.  34.  32.  36.  33.  98.]\n",
      " [ 30.  34.  33.  32.  35.  32.  97.]\n",
      " [ 29.  33.  32.  31.  34.  31.  94.]\n",
      " [ 29.  32.  31.  30.  33.  29.  92.]\n",
      " [ 27.  30.  29.  28.  31.  27.  86.]]\n",
      "[[ 34.  40.  40.  36.  42.  40. 114.]\n",
      " [ 33.  39.  39.  35.  40.  38. 111.]\n",
      " [ 32.  37.  37.  34.  38.  37. 106.]\n",
      " [ 33.  37.  37.  35.  38.  36. 107.]\n",
      " [ 32.  36.  35.  33.  37.  34. 103.]] [[30. 34. 34. 32. 36. 33. 98.]\n",
      " [30. 34. 33. 32. 35. 32. 97.]\n",
      " [29. 33. 32. 31. 34. 31. 94.]\n",
      " [29. 32. 31. 30. 33. 29. 92.]\n",
      " [27. 30. 29. 28. 31. 27. 86.]\n",
      " [27. 30. 29. 28. 31. 27. 86.]]\n"
     ]
    }
   ],
   "source": [
    "# split a multivariate sequence into samples\n",
    "def split_sequences(sequences, n_steps_in, n_steps_out):\n",
    "  X, y = list(), list()\n",
    "  for i in range(len(sequences)):\n",
    "      # find the end of this pattern\n",
    "      end_ix = i + n_steps_in\n",
    "      out_end_ix = end_ix + n_steps_out\n",
    "      # check if we are beyond the dataset\n",
    "      if out_end_ix > len(sequences):\n",
    "          break\n",
    "      # gather input and output parts of the pattern\n",
    "      seq_x, seq_y = sequences[i:end_ix, :], sequences[end_ix:out_end_ix, :]\n",
    "      X.append(seq_x)\n",
    "      y.append(seq_y)\n",
    "  return np.array(X), np.array(y)\n",
    "\n",
    "# define input sequence\n",
    "out_seq = np.array([series1[i]+series2[i]+series3[i] for i in range(len(series1))]) # convert to [rows, columns] structure\n",
    "series1 = series1.reshape((len(series1), 1))\n",
    "series2 = series2.reshape((len(series2), 1))\n",
    "series3 = series3.reshape((len(series3), 1))\n",
    "series11 = series11.reshape((len(series1), 1))\n",
    "series22 = series22.reshape((len(series2), 1))\n",
    "series33 = series33.reshape((len(series3), 1))\n",
    "out_seq = out_seq.reshape((len(out_seq), 1))\n",
    "\n",
    "# horizontally stack columns\n",
    "dataset = hstack((series1, series2, series3, series11, series22, series33,out_seq))\n",
    "print('dataset dim', dataset.shape[1])\n",
    "\n",
    "# choose a number of time steps\n",
    "n_steps_in, n_steps_out = 5, 6\n",
    "\n",
    "# convert into input/output\n",
    "X, y = split_sequences(dataset, n_steps_in, n_steps_out)\n",
    "\n",
    "count = 0\n",
    "for i in range(len(X)):\n",
    "    count += 1\n",
    "    print(X[i], y[i])\n",
    "    if count > 2: break\n",
    "# flatten input\n",
    "n_input = X.shape[1] * X.shape[2]\n",
    "X = X.reshape((X.shape[0], n_input))\n",
    "\n",
    "# flatten output\n",
    "n_output = y.shape[1] * y.shape[2]\n",
    "y = y.reshape((y.shape[0], n_output))"
   ]
  },
  {
   "cell_type": "markdown",
   "metadata": {},
   "source": [
    "### Train -validation-test"
   ]
  },
  {
   "cell_type": "code",
   "execution_count": 62,
   "metadata": {},
   "outputs": [
    {
     "name": "stdout",
     "output_type": "stream",
     "text": [
      "5780 5780 3540 3540 2478 2478\n"
     ]
    }
   ],
   "source": [
    "train_X, test_X, train_y, test_y = train_test_split(X, y, test_size=0.3, random_state=1)\n",
    "train_X, val_X, train_y, val_y = train_test_split(train_X, train_y, test_size=0.3, random_state=1)\n",
    "print(len(train_X), len(train_y), len(test_X), len(test_y), len(val_X), len(val_y))"
   ]
  },
  {
   "cell_type": "markdown",
   "metadata": {},
   "source": [
    "### MLP Model"
   ]
  },
  {
   "cell_type": "code",
   "execution_count": 63,
   "metadata": {
    "scrolled": true
   },
   "outputs": [
    {
     "name": "stdout",
     "output_type": "stream",
     "text": [
      "Epoch 1/100\n",
      " - 1s - loss: 155.0609 - mean_absolute_error: 7.1119 - accuracy: 0.2438\n",
      "Epoch 2/100\n",
      " - 0s - loss: 30.9232 - mean_absolute_error: 3.7568 - accuracy: 0.4656\n",
      "Epoch 3/100\n",
      " - 0s - loss: 28.4836 - mean_absolute_error: 3.5952 - accuracy: 0.5064\n",
      "Epoch 4/100\n",
      " - 0s - loss: 25.4911 - mean_absolute_error: 3.3734 - accuracy: 0.5109\n",
      "Epoch 5/100\n",
      " - 0s - loss: 26.6629 - mean_absolute_error: 3.4599 - accuracy: 0.5213\n",
      "Epoch 6/100\n",
      " - 0s - loss: 25.3483 - mean_absolute_error: 3.3496 - accuracy: 0.5230\n",
      "Epoch 7/100\n",
      " - 0s - loss: 24.2150 - mean_absolute_error: 3.2619 - accuracy: 0.5242\n",
      "Epoch 8/100\n",
      " - 0s - loss: 25.5544 - mean_absolute_error: 3.3714 - accuracy: 0.5173\n",
      "Epoch 9/100\n",
      " - 0s - loss: 23.9743 - mean_absolute_error: 3.2337 - accuracy: 0.5263\n",
      "Epoch 10/100\n",
      " - 0s - loss: 24.1970 - mean_absolute_error: 3.2607 - accuracy: 0.5268\n",
      "Epoch 11/100\n",
      " - 0s - loss: 24.5917 - mean_absolute_error: 3.3090 - accuracy: 0.5275\n",
      "Epoch 12/100\n",
      " - 0s - loss: 23.5686 - mean_absolute_error: 3.2074 - accuracy: 0.5351\n",
      "Epoch 13/100\n",
      " - 0s - loss: 23.3622 - mean_absolute_error: 3.1919 - accuracy: 0.5308\n",
      "Epoch 14/100\n",
      " - 0s - loss: 23.4558 - mean_absolute_error: 3.2030 - accuracy: 0.5436\n",
      "Epoch 15/100\n",
      " - 0s - loss: 22.8234 - mean_absolute_error: 3.1331 - accuracy: 0.5396\n",
      "Epoch 16/100\n",
      " - 0s - loss: 23.0532 - mean_absolute_error: 3.1881 - accuracy: 0.5450\n",
      "Epoch 17/100\n",
      " - 0s - loss: 21.9778 - mean_absolute_error: 3.0893 - accuracy: 0.5505\n",
      "Epoch 18/100\n",
      " - 0s - loss: 22.2862 - mean_absolute_error: 3.1200 - accuracy: 0.5413\n",
      "Epoch 19/100\n",
      " - 0s - loss: 23.0460 - mean_absolute_error: 3.1757 - accuracy: 0.5472\n",
      "Epoch 20/100\n",
      " - 0s - loss: 23.9327 - mean_absolute_error: 3.2815 - accuracy: 0.5438\n",
      "Epoch 21/100\n",
      " - 0s - loss: 22.9652 - mean_absolute_error: 3.1805 - accuracy: 0.5457\n",
      "Epoch 22/100\n",
      " - 0s - loss: 22.6135 - mean_absolute_error: 3.1596 - accuracy: 0.5453\n",
      "Epoch 23/100\n",
      " - 0s - loss: 22.8840 - mean_absolute_error: 3.1713 - accuracy: 0.5497\n",
      "Epoch 24/100\n",
      " - 0s - loss: 21.3474 - mean_absolute_error: 3.0396 - accuracy: 0.5533\n",
      "Epoch 25/100\n",
      " - 0s - loss: 21.2045 - mean_absolute_error: 3.0249 - accuracy: 0.5536\n",
      "Epoch 26/100\n",
      " - 0s - loss: 22.5066 - mean_absolute_error: 3.1486 - accuracy: 0.5514\n",
      "Epoch 27/100\n",
      " - 0s - loss: 21.2794 - mean_absolute_error: 3.0422 - accuracy: 0.5569\n",
      "Epoch 28/100\n",
      " - 0s - loss: 20.6082 - mean_absolute_error: 2.9851 - accuracy: 0.5566\n",
      "Epoch 29/100\n",
      " - 0s - loss: 22.1383 - mean_absolute_error: 3.1403 - accuracy: 0.5583\n",
      "Epoch 30/100\n",
      " - 0s - loss: 21.9181 - mean_absolute_error: 3.1126 - accuracy: 0.5593\n",
      "Epoch 31/100\n",
      " - 0s - loss: 21.3958 - mean_absolute_error: 3.0512 - accuracy: 0.5597\n",
      "Epoch 32/100\n",
      " - 0s - loss: 22.9362 - mean_absolute_error: 3.1919 - accuracy: 0.5638\n",
      "Epoch 33/100\n",
      " - 0s - loss: 21.5997 - mean_absolute_error: 3.0838 - accuracy: 0.5618\n",
      "Epoch 34/100\n",
      " - 0s - loss: 20.7471 - mean_absolute_error: 2.9943 - accuracy: 0.5652\n",
      "Epoch 35/100\n",
      " - 0s - loss: 21.4502 - mean_absolute_error: 3.0745 - accuracy: 0.5645\n",
      "Epoch 36/100\n",
      " - 0s - loss: 21.4238 - mean_absolute_error: 3.0688 - accuracy: 0.5609\n",
      "Epoch 37/100\n",
      " - 0s - loss: 21.1934 - mean_absolute_error: 3.0509 - accuracy: 0.5680\n",
      "Epoch 38/100\n",
      " - 0s - loss: 21.8444 - mean_absolute_error: 3.1155 - accuracy: 0.5609\n",
      "Epoch 39/100\n",
      " - 0s - loss: 19.9346 - mean_absolute_error: 2.9369 - accuracy: 0.5680\n",
      "Epoch 40/100\n",
      " - 0s - loss: 20.7063 - mean_absolute_error: 2.9998 - accuracy: 0.5661\n",
      "Epoch 41/100\n",
      " - 0s - loss: 21.0024 - mean_absolute_error: 3.0254 - accuracy: 0.5708\n",
      "Epoch 42/100\n",
      " - 0s - loss: 21.4094 - mean_absolute_error: 3.0862 - accuracy: 0.5642\n",
      "Epoch 43/100\n",
      " - 0s - loss: 20.6841 - mean_absolute_error: 3.0003 - accuracy: 0.5702\n",
      "Epoch 44/100\n",
      " - 0s - loss: 21.0437 - mean_absolute_error: 3.0526 - accuracy: 0.5711\n",
      "Epoch 45/100\n",
      " - 0s - loss: 20.7835 - mean_absolute_error: 3.0160 - accuracy: 0.5756\n",
      "Epoch 46/100\n",
      " - 0s - loss: 20.8507 - mean_absolute_error: 3.0160 - accuracy: 0.5763\n",
      "Epoch 47/100\n",
      " - 0s - loss: 20.5992 - mean_absolute_error: 2.9983 - accuracy: 0.5713\n",
      "Epoch 48/100\n",
      " - 0s - loss: 20.1878 - mean_absolute_error: 2.9723 - accuracy: 0.5716\n",
      "Epoch 49/100\n",
      " - 0s - loss: 20.7057 - mean_absolute_error: 3.0081 - accuracy: 0.5765\n",
      "Epoch 50/100\n",
      " - 0s - loss: 19.8351 - mean_absolute_error: 2.9447 - accuracy: 0.5791\n",
      "Epoch 51/100\n",
      " - 0s - loss: 20.7260 - mean_absolute_error: 3.0040 - accuracy: 0.5704\n",
      "Epoch 52/100\n",
      " - 0s - loss: 20.9506 - mean_absolute_error: 3.0307 - accuracy: 0.5760\n",
      "Epoch 53/100\n",
      " - 0s - loss: 21.3881 - mean_absolute_error: 3.0748 - accuracy: 0.5766\n",
      "Epoch 54/100\n",
      " - 0s - loss: 20.6465 - mean_absolute_error: 3.0126 - accuracy: 0.5734\n",
      "Epoch 55/100\n",
      " - 0s - loss: 19.8649 - mean_absolute_error: 2.9370 - accuracy: 0.5796\n",
      "Epoch 56/100\n",
      " - 0s - loss: 20.4470 - mean_absolute_error: 2.9952 - accuracy: 0.5746\n",
      "Epoch 57/100\n",
      " - 0s - loss: 20.5626 - mean_absolute_error: 2.9994 - accuracy: 0.5754\n",
      "Epoch 58/100\n",
      " - 0s - loss: 19.9842 - mean_absolute_error: 2.9607 - accuracy: 0.5754\n",
      "Epoch 59/100\n",
      " - 0s - loss: 19.8660 - mean_absolute_error: 2.9376 - accuracy: 0.5822\n",
      "Epoch 60/100\n",
      " - 0s - loss: 19.7985 - mean_absolute_error: 2.9492 - accuracy: 0.5765\n",
      "Epoch 61/100\n",
      " - 0s - loss: 19.7116 - mean_absolute_error: 2.9372 - accuracy: 0.5792\n",
      "Epoch 62/100\n",
      " - 0s - loss: 19.8567 - mean_absolute_error: 2.9612 - accuracy: 0.5789\n",
      "Epoch 63/100\n",
      " - 0s - loss: 20.5308 - mean_absolute_error: 3.0151 - accuracy: 0.5768\n",
      "Epoch 64/100\n",
      " - 0s - loss: 20.6329 - mean_absolute_error: 3.0198 - accuracy: 0.5761\n",
      "Epoch 65/100\n",
      " - 0s - loss: 19.6967 - mean_absolute_error: 2.9202 - accuracy: 0.5813\n",
      "Epoch 66/100\n",
      " - 0s - loss: 19.6523 - mean_absolute_error: 2.9228 - accuracy: 0.5848\n",
      "Epoch 67/100\n",
      " - 0s - loss: 19.9896 - mean_absolute_error: 2.9750 - accuracy: 0.5803\n",
      "Epoch 68/100\n",
      " - 0s - loss: 20.0788 - mean_absolute_error: 2.9810 - accuracy: 0.5799\n",
      "Epoch 69/100\n",
      " - 0s - loss: 19.9095 - mean_absolute_error: 2.9382 - accuracy: 0.5787\n",
      "Epoch 70/100\n",
      " - 0s - loss: 19.4898 - mean_absolute_error: 2.9265 - accuracy: 0.5806\n",
      "Epoch 71/100\n",
      " - 0s - loss: 19.4645 - mean_absolute_error: 2.9256 - accuracy: 0.5844\n",
      "Epoch 72/100\n",
      " - 0s - loss: 19.8999 - mean_absolute_error: 2.9768 - accuracy: 0.5839\n",
      "Epoch 73/100\n",
      " - 0s - loss: 19.6268 - mean_absolute_error: 2.9432 - accuracy: 0.5785\n",
      "Epoch 74/100\n",
      " - 0s - loss: 19.7201 - mean_absolute_error: 2.9460 - accuracy: 0.5824\n",
      "Epoch 75/100\n",
      " - 0s - loss: 19.8204 - mean_absolute_error: 2.9477 - accuracy: 0.5837\n",
      "Epoch 76/100\n",
      " - 0s - loss: 19.7771 - mean_absolute_error: 2.9455 - accuracy: 0.5787\n",
      "Epoch 77/100\n",
      " - 0s - loss: 20.2306 - mean_absolute_error: 2.9986 - accuracy: 0.5791\n",
      "Epoch 78/100\n",
      " - 0s - loss: 20.3842 - mean_absolute_error: 3.0141 - accuracy: 0.5822\n",
      "Epoch 79/100\n",
      " - 0s - loss: 19.4522 - mean_absolute_error: 2.9160 - accuracy: 0.5839\n",
      "Epoch 80/100\n",
      " - 0s - loss: 19.5578 - mean_absolute_error: 2.9344 - accuracy: 0.5834\n",
      "Epoch 81/100\n",
      " - 0s - loss: 19.6166 - mean_absolute_error: 2.9337 - accuracy: 0.5787\n",
      "Epoch 82/100\n",
      " - 0s - loss: 19.9738 - mean_absolute_error: 2.9717 - accuracy: 0.5827\n",
      "Epoch 83/100\n",
      " - 0s - loss: 18.4852 - mean_absolute_error: 2.8352 - accuracy: 0.5829\n",
      "Epoch 84/100\n",
      " - 0s - loss: 18.9947 - mean_absolute_error: 2.8855 - accuracy: 0.5853\n",
      "Epoch 85/100\n",
      " - 0s - loss: 20.3987 - mean_absolute_error: 3.0185 - accuracy: 0.5836\n",
      "Epoch 86/100\n",
      " - 0s - loss: 19.0313 - mean_absolute_error: 2.8807 - accuracy: 0.5888\n",
      "Epoch 87/100\n",
      " - 0s - loss: 18.9697 - mean_absolute_error: 2.8618 - accuracy: 0.5898\n",
      "Epoch 88/100\n",
      " - 0s - loss: 19.4944 - mean_absolute_error: 2.9234 - accuracy: 0.5815\n",
      "Epoch 89/100\n",
      " - 0s - loss: 18.7880 - mean_absolute_error: 2.8561 - accuracy: 0.5894\n",
      "Epoch 90/100\n",
      " - 0s - loss: 18.8536 - mean_absolute_error: 2.8737 - accuracy: 0.5907\n",
      "Epoch 91/100\n",
      " - 0s - loss: 19.4002 - mean_absolute_error: 2.9253 - accuracy: 0.5849\n",
      "Epoch 92/100\n",
      " - 0s - loss: 19.0848 - mean_absolute_error: 2.8997 - accuracy: 0.5898\n",
      "Epoch 93/100\n",
      " - 0s - loss: 19.0356 - mean_absolute_error: 2.8709 - accuracy: 0.5870\n",
      "Epoch 94/100\n",
      " - 0s - loss: 20.0029 - mean_absolute_error: 2.9876 - accuracy: 0.5855\n",
      "Epoch 95/100\n",
      " - 0s - loss: 19.0335 - mean_absolute_error: 2.8912 - accuracy: 0.5870\n",
      "Epoch 96/100\n",
      " - 0s - loss: 19.6793 - mean_absolute_error: 2.9552 - accuracy: 0.5865\n",
      "Epoch 97/100\n",
      " - 0s - loss: 19.6414 - mean_absolute_error: 2.9531 - accuracy: 0.5834\n",
      "Epoch 98/100\n",
      " - 0s - loss: 18.4595 - mean_absolute_error: 2.8351 - accuracy: 0.5903\n"
     ]
    },
    {
     "name": "stdout",
     "output_type": "stream",
     "text": [
      "Epoch 99/100\n",
      " - 0s - loss: 19.3608 - mean_absolute_error: 2.9279 - accuracy: 0.5894\n",
      "Epoch 100/100\n",
      " - 0s - loss: 19.4932 - mean_absolute_error: 2.9324 - accuracy: 0.5884\n"
     ]
    },
    {
     "data": {
      "text/plain": [
       "<keras.callbacks.callbacks.History at 0x1a333b9850>"
      ]
     },
     "execution_count": 63,
     "metadata": {},
     "output_type": "execute_result"
    }
   ],
   "source": [
    "# define model\n",
    "model = Sequential()\n",
    "model.add(Dense(500, activation='relu', input_dim=n_input)) \n",
    "model.add(Dense(250, activation='relu', input_dim=n_input)) \n",
    "model.add(Dense(n_output))\n",
    "model.compile(optimizer='adam', loss='mse',  metrics=[metrics.mae, 'accuracy'])\n",
    "\n",
    "# fit model\n",
    "model.fit(train_X, train_y, epochs=100, verbose=2)"
   ]
  },
  {
   "cell_type": "markdown",
   "metadata": {},
   "source": [
    "### Dimostra previsione"
   ]
  },
  {
   "cell_type": "code",
   "execution_count": 64,
   "metadata": {},
   "outputs": [
    {
     "name": "stdout",
     "output_type": "stream",
     "text": [
      "[[ 31.51065   35.9628    36.647614  33.879654  37.369595  35.59191\n",
      "  104.02044   31.364885  35.263073  35.7177    32.808823  36.855423\n",
      "   35.12715  101.55024   30.821438  34.41498   34.90913   32.301525\n",
      "   35.810604  34.522324  99.866844  30.218822  33.64765   34.494625\n",
      "   32.268692  35.038464  33.579365  98.04324   29.278337  33.205807\n",
      "   34.07914   30.906338  34.42703   33.763702  96.67701   29.346384\n",
      "   32.486683  33.100906  30.47188   33.510746  32.89636   95.32507 ]]\n"
     ]
    }
   ],
   "source": [
    "# demonstrate prediction\n",
    "x_input = np.array([[ 36.,  43.,  42. , 39. , 44. , 41., 121.],\n",
    "                    [ 36. , 43.,  42. , 38. , 44. , 41., 121.],\n",
    "                    [ 34.  ,40. , 40. , 36. , 42. , 40., 114.],\n",
    "                    [ 33. , 39. , 39. , 35. , 40. , 38., 111.],\n",
    "                    [ 32. , 37. , 37. , 34. , 38. , 37., 106.]]) \n",
    "x_input = x_input.reshape((1, n_input))\n",
    "yhat = model.predict(x_input, verbose=0)\n",
    "print(yhat)"
   ]
  },
  {
   "cell_type": "markdown",
   "metadata": {},
   "source": [
    "### Calcolo errore di previsione"
   ]
  },
  {
   "cell_type": "code",
   "execution_count": 65,
   "metadata": {},
   "outputs": [
    {
     "name": "stdout",
     "output_type": "stream",
     "text": [
      "2478\n",
      "shape  (2478, 42)\n",
      "104076\n",
      "104076\n"
     ]
    }
   ],
   "source": [
    "predicted = np.array([])\n",
    "for i in range(len(val_X)):\n",
    "    x_input = val_X[i].reshape((1, n_input))\n",
    "    yhat = model.predict(x_input, verbose=0)\n",
    "    #print(yhat[0])\n",
    "    predicted = np.append(predicted, yhat[0])\n",
    "\n",
    "print(len(val_y))\n",
    "var4diff2 = len(val_y)\n",
    "print('shape ',val_y.shape )\n",
    "val_y = val_y.reshape((val_y.shape[0] * val_y.shape[1]))    \n",
    "expected = val_y    \n",
    "print(len(expected))\n",
    "print(len(predicted))    "
   ]
  },
  {
   "cell_type": "markdown",
   "metadata": {},
   "source": [
    "### Distribuzione dell'errore"
   ]
  },
  {
   "cell_type": "code",
   "execution_count": 66,
   "metadata": {},
   "outputs": [
    {
     "name": "stdout",
     "output_type": "stream",
     "text": [
      "Mean Absolute Error =  2.798450215049112\n"
     ]
    },
    {
     "data": {
      "image/png": "[encoded data removed]",
      "text/plain": [
       "<Figure size 1008x144 with 1 Axes>"
      ]
     },
     "metadata": {
      "needs_background": "light"
     },
     "output_type": "display_data"
    }
   ],
   "source": [
    "difference = abs(predicted - expected)\n",
    "print('Mean Absolute Error = ', np.mean(difference))\n",
    "plt.figure(figsize = (14,2))\n",
    "plt.boxplot(difference, vert = False)\n",
    "plt.show()"
   ]
  },
  {
   "cell_type": "markdown",
   "metadata": {},
   "source": [
    "### Distribuzione errore per ogni step"
   ]
  },
  {
   "cell_type": "code",
   "execution_count": 67,
   "metadata": {},
   "outputs": [
    {
     "name": "stdout",
     "output_type": "stream",
     "text": [
      "2478\n",
      "(2478, 42)\n"
     ]
    }
   ],
   "source": [
    "shape_i = dataset.shape[1] * n_steps_out \n",
    "print(var4diff2)\n",
    "difference2 = difference.reshape( var4diff2, shape_i)\n",
    "print(difference2.shape)\n"
   ]
  },
  {
   "cell_type": "code",
   "execution_count": 68,
   "metadata": {},
   "outputs": [
    {
     "data": {
      "image/png": "[encoded data removed]",
      "text/plain": [
       "<Figure size 1008x576 with 1 Axes>"
      ]
     },
     "metadata": {
      "needs_background": "light"
     },
     "output_type": "display_data"
    }
   ],
   "source": [
    "plt.figure(figsize = (14,8))\n",
    "plt.boxplot(difference2, vert = False)\n",
    "plt.show()"
   ]
  },
  {
   "cell_type": "code",
   "execution_count": null,
   "metadata": {},
   "outputs": [],
   "source": []
  },
  {
   "cell_type": "code",
   "execution_count": null,
   "metadata": {},
   "outputs": [],
   "source": []
  },
  {
   "cell_type": "code",
   "execution_count": null,
   "metadata": {},
   "outputs": [],
   "source": []
  },
  {
   "cell_type": "code",
   "execution_count": null,
   "metadata": {},
   "outputs": [],
   "source": []
  },
  {
   "cell_type": "code",
   "execution_count": null,
   "metadata": {},
   "outputs": [],
   "source": []
  },
  {
   "cell_type": "code",
   "execution_count": null,
   "metadata": {},
   "outputs": [],
   "source": []
  }
 ],
 "metadata": {
  "kernelspec": {
   "display_name": "Python 3",
   "language": "python",
   "name": "python3"
  },
  "language_info": {
   "codemirror_mode": {
    "name": "ipython",
    "version": 3
   },
   "file_extension": ".py",
   "mimetype": "text/x-python",
   "name": "python",
   "nbconvert_exporter": "python",
   "pygments_lexer": "ipython3",
   "version": "3.7.4"
  }
 },
 "nbformat": 4,
 "nbformat_minor": 2
}
