{
 "cells": [
  {
   "cell_type": "markdown",
   "metadata": {},
   "source": [
    "### MLP_4_Multivariate_multistep_time_series_forcast      "
   ]
  },
  {
   "cell_type": "code",
   "execution_count": 1,
   "metadata": {},
   "outputs": [
    {
     "name": "stdout",
     "output_type": "stream",
     "text": [
      "<class 'numpy.ndarray'>\n"
     ]
    }
   ],
   "source": [
    "import pandas as pd\n",
    "import numpy as np\n",
    "import matplotlib.pyplot as plt\n",
    "import datetime\n",
    "import time\n",
    "from pandas.plotting import lag_plot\n",
    "from pandas.plotting import autocorrelation_plot\n",
    "from sklearn.metrics import mean_absolute_error\n",
    "from sklearn.metrics import mean_squared_error \n",
    "from math import sqrt\n",
    "from numpy import hstack\n",
    "from keras.models import Sequential\n",
    "from keras.layers import LSTM\n",
    "from keras.layers import Dense\n",
    "from keras.layers import Flatten\n",
    "from keras.layers.convolutional import Conv1D\n",
    "from keras.layers.convolutional import MaxPooling1D\n",
    "import warnings \n",
    "warnings.filterwarnings('ignore')\n",
    "from sklearn.model_selection import train_test_split\n",
    "from keras import metrics\n",
    "\n",
    "data = pd.read_csv('/Users/alket/Desktop/dati/new_data_backfill_forwfill.csv',index_col = 0)\n",
    "\n",
    "# preparazione dati per due celle\n",
    "agg_by_cell = data.groupby(by = ['cell_num'])\n",
    "cell_1 = agg_by_cell.get_group('486-1252')\n",
    "cell_11 = agg_by_cell.get_group('486-1253')\n",
    "cell_2 = agg_by_cell.get_group('486-1256')\n",
    "cell_22 = agg_by_cell.get_group('486-1257')\n",
    "cell_3 = agg_by_cell.get_group('486-1258')\n",
    "cell_33 = agg_by_cell.get_group('486-1259')\n",
    "# define input sequence\n",
    "series1 = cell_1['nr_people'].values\n",
    "series11 = cell_11['nr_people'].values\n",
    "series2 = cell_2['nr_people'].values\n",
    "series22 = cell_22['nr_people'].values\n",
    "series3 = cell_3['nr_people'].values\n",
    "series33 = cell_33['nr_people'].values\n",
    "print(type(series2))"
   ]
  },
  {
   "cell_type": "code",
   "execution_count": 2,
   "metadata": {},
   "outputs": [
    {
     "name": "stdout",
     "output_type": "stream",
     "text": [
      "dataset dim 7\n",
      "[[ 36.  43.  42.  39.  44.  41. 121.]\n",
      " [ 36.  43.  42.  38.  44.  41. 121.]\n",
      " [ 34.  40.  40.  36.  42.  40. 114.]\n",
      " [ 33.  39.  39.  35.  40.  38. 111.]\n",
      " [ 32.  37.  37.  34.  38.  37. 106.]] [[ 33.  37.  37.  35.  38.  36. 107.]\n",
      " [ 32.  36.  35.  33.  37.  34. 103.]\n",
      " [ 30.  34.  34.  32.  36.  33.  98.]\n",
      " [ 30.  34.  33.  32.  35.  32.  97.]\n",
      " [ 29.  33.  32.  31.  34.  31.  94.]\n",
      " [ 29.  32.  31.  30.  33.  29.  92.]]\n",
      "[[ 36.  43.  42.  38.  44.  41. 121.]\n",
      " [ 34.  40.  40.  36.  42.  40. 114.]\n",
      " [ 33.  39.  39.  35.  40.  38. 111.]\n",
      " [ 32.  37.  37.  34.  38.  37. 106.]\n",
      " [ 33.  37.  37.  35.  38.  36. 107.]] [[ 32.  36.  35.  33.  37.  34. 103.]\n",
      " [ 30.  34.  34.  32.  36.  33.  98.]\n",
      " [ 30.  34.  33.  32.  35.  32.  97.]\n",
      " [ 29.  33.  32.  31.  34.  31.  94.]\n",
      " [ 29.  32.  31.  30.  33.  29.  92.]\n",
      " [ 27.  30.  29.  28.  31.  27.  86.]]\n",
      "[[ 34.  40.  40.  36.  42.  40. 114.]\n",
      " [ 33.  39.  39.  35.  40.  38. 111.]\n",
      " [ 32.  37.  37.  34.  38.  37. 106.]\n",
      " [ 33.  37.  37.  35.  38.  36. 107.]\n",
      " [ 32.  36.  35.  33.  37.  34. 103.]] [[30. 34. 34. 32. 36. 33. 98.]\n",
      " [30. 34. 33. 32. 35. 32. 97.]\n",
      " [29. 33. 32. 31. 34. 31. 94.]\n",
      " [29. 32. 31. 30. 33. 29. 92.]\n",
      " [27. 30. 29. 28. 31. 27. 86.]\n",
      " [27. 30. 29. 28. 31. 27. 86.]]\n"
     ]
    }
   ],
   "source": [
    "# split a multivariate sequence into samples\n",
    "def split_sequences(sequences, n_steps_in, n_steps_out):\n",
    "  X, y = list(), list()\n",
    "  for i in range(len(sequences)):\n",
    "      # find the end of this pattern\n",
    "      end_ix = i + n_steps_in\n",
    "      out_end_ix = end_ix + n_steps_out\n",
    "      # check if we are beyond the dataset\n",
    "      if out_end_ix > len(sequences):\n",
    "          break\n",
    "      # gather input and output parts of the pattern\n",
    "      seq_x, seq_y = sequences[i:end_ix, :], sequences[end_ix:out_end_ix, :]\n",
    "      X.append(seq_x)\n",
    "      y.append(seq_y)\n",
    "  return np.array(X), np.array(y)\n",
    "\n",
    "# define input sequence\n",
    "out_seq = np.array([series1[i]+series2[i]+series3[i] for i in range(len(series1))]) # convert to [rows, columns] structure\n",
    "series1 = series1.reshape((len(series1), 1))\n",
    "series2 = series2.reshape((len(series2), 1))\n",
    "series3 = series3.reshape((len(series3), 1))\n",
    "series11 = series11.reshape((len(series1), 1))\n",
    "series22 = series22.reshape((len(series2), 1))\n",
    "series33 = series33.reshape((len(series3), 1))\n",
    "out_seq = out_seq.reshape((len(out_seq), 1))\n",
    "\n",
    "# horizontally stack columns\n",
    "dataset = hstack((series1, series2, series3, series11, series22, series33,out_seq))\n",
    "print('dataset dim', dataset.shape[1])\n",
    "\n",
    "# choose a number of time steps\n",
    "n_steps_in, n_steps_out = 5, 6\n",
    "\n",
    "# convert into input/output\n",
    "X, y = split_sequences(dataset, n_steps_in, n_steps_out)\n",
    "\n",
    "count = 0\n",
    "for i in range(len(X)):\n",
    "    count += 1\n",
    "    print(X[i], y[i])\n",
    "    if count > 2: break\n",
    "# flatten input\n",
    "n_input = X.shape[1] * X.shape[2]\n",
    "X = X.reshape((X.shape[0], n_input))\n",
    "\n",
    "# flatten output\n",
    "n_output = y.shape[1] * y.shape[2]\n",
    "y = y.reshape((y.shape[0], n_output))"
   ]
  },
  {
   "cell_type": "markdown",
   "metadata": {},
   "source": [
    "### Train -validation-test"
   ]
  },
  {
   "cell_type": "code",
   "execution_count": 3,
   "metadata": {},
   "outputs": [
    {
     "name": "stdout",
     "output_type": "stream",
     "text": [
      "5780 5780 3540 3540 2478 2478\n"
     ]
    }
   ],
   "source": [
    "train_X, test_X, train_y, test_y = train_test_split(X, y, test_size=0.3, random_state=1)\n",
    "train_X, val_X, train_y, val_y = train_test_split(train_X, train_y, test_size=0.3, random_state=1)\n",
    "print(len(train_X), len(train_y), len(test_X), len(test_y), len(val_X), len(val_y))"
   ]
  },
  {
   "cell_type": "markdown",
   "metadata": {},
   "source": [
    "### MLP Model"
   ]
  },
  {
   "cell_type": "code",
   "execution_count": 4,
   "metadata": {
    "scrolled": true
   },
   "outputs": [
    {
     "name": "stdout",
     "output_type": "stream",
     "text": [
      "Epoch 1/100\n",
      "181/181 - 0s - loss: 193.7417 - mean_absolute_error: 7.9455 - accuracy: 0.2176\n",
      "Epoch 2/100\n",
      "181/181 - 0s - loss: 32.2650 - mean_absolute_error: 3.8935 - accuracy: 0.3221\n",
      "Epoch 3/100\n",
      "181/181 - 0s - loss: 27.3987 - mean_absolute_error: 3.5190 - accuracy: 0.4611\n",
      "Epoch 4/100\n",
      "181/181 - 0s - loss: 25.8356 - mean_absolute_error: 3.3938 - accuracy: 0.5138\n",
      "Epoch 5/100\n",
      "181/181 - 0s - loss: 24.8177 - mean_absolute_error: 3.3192 - accuracy: 0.5311\n",
      "Epoch 6/100\n",
      "181/181 - 0s - loss: 25.0148 - mean_absolute_error: 3.3392 - accuracy: 0.5344\n",
      "Epoch 7/100\n",
      "181/181 - 0s - loss: 25.7998 - mean_absolute_error: 3.3974 - accuracy: 0.5363\n",
      "Epoch 8/100\n",
      "181/181 - 0s - loss: 25.4968 - mean_absolute_error: 3.3603 - accuracy: 0.5367\n",
      "Epoch 9/100\n",
      "181/181 - 0s - loss: 24.8943 - mean_absolute_error: 3.3423 - accuracy: 0.5417\n",
      "Epoch 10/100\n",
      "181/181 - 0s - loss: 23.8735 - mean_absolute_error: 3.2421 - accuracy: 0.5407\n",
      "Epoch 11/100\n",
      "181/181 - 0s - loss: 24.5874 - mean_absolute_error: 3.3011 - accuracy: 0.5438\n",
      "Epoch 12/100\n",
      "181/181 - 0s - loss: 23.9627 - mean_absolute_error: 3.2671 - accuracy: 0.5439\n",
      "Epoch 13/100\n",
      "181/181 - 0s - loss: 23.6461 - mean_absolute_error: 3.2336 - accuracy: 0.5403\n",
      "Epoch 14/100\n",
      "181/181 - 0s - loss: 22.8533 - mean_absolute_error: 3.1569 - accuracy: 0.5431\n",
      "Epoch 15/100\n",
      "181/181 - 0s - loss: 22.9946 - mean_absolute_error: 3.1684 - accuracy: 0.5377\n",
      "Epoch 16/100\n",
      "181/181 - 0s - loss: 22.1701 - mean_absolute_error: 3.1063 - accuracy: 0.5505\n",
      "Epoch 17/100\n",
      "181/181 - 0s - loss: 23.4958 - mean_absolute_error: 3.2363 - accuracy: 0.5424\n",
      "Epoch 18/100\n",
      "181/181 - 0s - loss: 23.9282 - mean_absolute_error: 3.2756 - accuracy: 0.5535\n",
      "Epoch 19/100\n",
      "181/181 - 0s - loss: 21.9607 - mean_absolute_error: 3.0935 - accuracy: 0.5458\n",
      "Epoch 20/100\n",
      "181/181 - 0s - loss: 23.0539 - mean_absolute_error: 3.1961 - accuracy: 0.5498\n",
      "Epoch 21/100\n",
      "181/181 - 0s - loss: 22.7256 - mean_absolute_error: 3.1714 - accuracy: 0.5495\n",
      "Epoch 22/100\n",
      "181/181 - 0s - loss: 21.2288 - mean_absolute_error: 3.0322 - accuracy: 0.5623\n",
      "Epoch 23/100\n",
      "181/181 - 0s - loss: 22.8096 - mean_absolute_error: 3.1752 - accuracy: 0.5540\n",
      "Epoch 24/100\n",
      "181/181 - 0s - loss: 22.4858 - mean_absolute_error: 3.1628 - accuracy: 0.5600\n",
      "Epoch 25/100\n",
      "181/181 - 0s - loss: 22.7855 - mean_absolute_error: 3.1622 - accuracy: 0.5569\n",
      "Epoch 26/100\n",
      "181/181 - 0s - loss: 21.5332 - mean_absolute_error: 3.0657 - accuracy: 0.5567\n",
      "Epoch 27/100\n",
      "181/181 - 0s - loss: 21.3630 - mean_absolute_error: 3.0501 - accuracy: 0.5626\n",
      "Epoch 28/100\n",
      "181/181 - 0s - loss: 21.5522 - mean_absolute_error: 3.0703 - accuracy: 0.5576\n",
      "Epoch 29/100\n",
      "181/181 - 0s - loss: 21.5444 - mean_absolute_error: 3.0668 - accuracy: 0.5571\n",
      "Epoch 30/100\n",
      "181/181 - 0s - loss: 21.7359 - mean_absolute_error: 3.0943 - accuracy: 0.5683\n",
      "Epoch 31/100\n",
      "181/181 - 0s - loss: 20.9325 - mean_absolute_error: 3.0071 - accuracy: 0.5616\n",
      "Epoch 32/100\n",
      "181/181 - 0s - loss: 21.1878 - mean_absolute_error: 3.0308 - accuracy: 0.5663\n",
      "Epoch 33/100\n",
      "181/181 - 0s - loss: 20.8154 - mean_absolute_error: 3.0214 - accuracy: 0.5640\n",
      "Epoch 34/100\n",
      "181/181 - 0s - loss: 22.2980 - mean_absolute_error: 3.1497 - accuracy: 0.5694\n",
      "Epoch 35/100\n",
      "181/181 - 0s - loss: 21.8972 - mean_absolute_error: 3.1017 - accuracy: 0.5621\n",
      "Epoch 36/100\n",
      "181/181 - 0s - loss: 22.0679 - mean_absolute_error: 3.1199 - accuracy: 0.5670\n",
      "Epoch 37/100\n",
      "181/181 - 0s - loss: 22.0550 - mean_absolute_error: 3.1226 - accuracy: 0.5612\n",
      "Epoch 38/100\n",
      "181/181 - 0s - loss: 21.6699 - mean_absolute_error: 3.0891 - accuracy: 0.5585\n",
      "Epoch 39/100\n",
      "181/181 - 0s - loss: 20.9353 - mean_absolute_error: 3.0083 - accuracy: 0.5683\n",
      "Epoch 40/100\n",
      "181/181 - 0s - loss: 21.1600 - mean_absolute_error: 3.0539 - accuracy: 0.5673\n",
      "Epoch 41/100\n",
      "181/181 - 0s - loss: 21.5472 - mean_absolute_error: 3.0751 - accuracy: 0.5690\n",
      "Epoch 42/100\n",
      "181/181 - 0s - loss: 20.7354 - mean_absolute_error: 3.0047 - accuracy: 0.5687\n",
      "Epoch 43/100\n",
      "181/181 - 0s - loss: 21.3149 - mean_absolute_error: 3.0548 - accuracy: 0.5676\n",
      "Epoch 44/100\n",
      "181/181 - 0s - loss: 20.8363 - mean_absolute_error: 3.0308 - accuracy: 0.5810\n",
      "Epoch 45/100\n",
      "181/181 - 0s - loss: 22.0886 - mean_absolute_error: 3.1190 - accuracy: 0.5701\n",
      "Epoch 46/100\n",
      "181/181 - 0s - loss: 19.8917 - mean_absolute_error: 2.9297 - accuracy: 0.5744\n",
      "Epoch 47/100\n",
      "181/181 - 0s - loss: 21.9562 - mean_absolute_error: 3.1287 - accuracy: 0.5732\n",
      "Epoch 48/100\n",
      "181/181 - 0s - loss: 20.8865 - mean_absolute_error: 3.0174 - accuracy: 0.5760\n",
      "Epoch 49/100\n",
      "181/181 - 0s - loss: 21.1368 - mean_absolute_error: 3.0406 - accuracy: 0.5761\n",
      "Epoch 50/100\n",
      "181/181 - 0s - loss: 20.4481 - mean_absolute_error: 2.9872 - accuracy: 0.5796\n",
      "Epoch 51/100\n",
      "181/181 - 0s - loss: 20.7748 - mean_absolute_error: 3.0259 - accuracy: 0.5730\n",
      "Epoch 52/100\n",
      "181/181 - 0s - loss: 20.6927 - mean_absolute_error: 3.0150 - accuracy: 0.5782\n",
      "Epoch 53/100\n",
      "181/181 - 0s - loss: 20.0868 - mean_absolute_error: 2.9476 - accuracy: 0.5775\n",
      "Epoch 54/100\n",
      "181/181 - 0s - loss: 21.5281 - mean_absolute_error: 3.0914 - accuracy: 0.5779\n",
      "Epoch 55/100\n",
      "181/181 - 0s - loss: 19.9202 - mean_absolute_error: 2.9402 - accuracy: 0.5744\n",
      "Epoch 56/100\n",
      "181/181 - 0s - loss: 20.2216 - mean_absolute_error: 2.9768 - accuracy: 0.5763\n",
      "Epoch 57/100\n",
      "181/181 - 0s - loss: 20.2144 - mean_absolute_error: 2.9627 - accuracy: 0.5754\n",
      "Epoch 58/100\n",
      "181/181 - 0s - loss: 20.4011 - mean_absolute_error: 2.9864 - accuracy: 0.5777\n",
      "Epoch 59/100\n",
      "181/181 - 0s - loss: 19.9231 - mean_absolute_error: 2.9533 - accuracy: 0.5784\n",
      "Epoch 60/100\n",
      "181/181 - 0s - loss: 20.0823 - mean_absolute_error: 2.9728 - accuracy: 0.5832\n",
      "Epoch 61/100\n",
      "181/181 - 0s - loss: 20.3939 - mean_absolute_error: 2.9871 - accuracy: 0.5765\n",
      "Epoch 62/100\n",
      "181/181 - 0s - loss: 21.3547 - mean_absolute_error: 3.0786 - accuracy: 0.5848\n",
      "Epoch 63/100\n",
      "181/181 - 0s - loss: 19.6733 - mean_absolute_error: 2.9279 - accuracy: 0.5820\n",
      "Epoch 64/100\n",
      "181/181 - 0s - loss: 21.5596 - mean_absolute_error: 3.1064 - accuracy: 0.5773\n",
      "Epoch 65/100\n",
      "181/181 - 0s - loss: 20.0263 - mean_absolute_error: 2.9551 - accuracy: 0.5841\n",
      "Epoch 66/100\n",
      "181/181 - 0s - loss: 20.5368 - mean_absolute_error: 3.0124 - accuracy: 0.5856\n",
      "Epoch 67/100\n",
      "181/181 - 0s - loss: 20.2236 - mean_absolute_error: 2.9667 - accuracy: 0.5804\n",
      "Epoch 68/100\n",
      "181/181 - 0s - loss: 19.6843 - mean_absolute_error: 2.9376 - accuracy: 0.5867\n",
      "Epoch 69/100\n",
      "181/181 - 0s - loss: 20.0089 - mean_absolute_error: 2.9664 - accuracy: 0.5837\n",
      "Epoch 70/100\n",
      "181/181 - 0s - loss: 19.5322 - mean_absolute_error: 2.9106 - accuracy: 0.5811\n",
      "Epoch 71/100\n",
      "181/181 - 0s - loss: 20.6494 - mean_absolute_error: 3.0294 - accuracy: 0.5818\n",
      "Epoch 72/100\n",
      "181/181 - 0s - loss: 20.3100 - mean_absolute_error: 2.9865 - accuracy: 0.5777\n",
      "Epoch 73/100\n",
      "181/181 - 0s - loss: 19.8784 - mean_absolute_error: 2.9466 - accuracy: 0.5858\n",
      "Epoch 74/100\n",
      "181/181 - 0s - loss: 20.6303 - mean_absolute_error: 3.0208 - accuracy: 0.5746\n",
      "Epoch 75/100\n",
      "181/181 - 0s - loss: 19.2585 - mean_absolute_error: 2.8933 - accuracy: 0.5848\n",
      "Epoch 76/100\n",
      "181/181 - 0s - loss: 20.0047 - mean_absolute_error: 2.9522 - accuracy: 0.5884\n",
      "Epoch 77/100\n",
      "181/181 - 0s - loss: 20.3458 - mean_absolute_error: 3.0077 - accuracy: 0.5834\n",
      "Epoch 78/100\n",
      "181/181 - 0s - loss: 19.1805 - mean_absolute_error: 2.8894 - accuracy: 0.5865\n",
      "Epoch 79/100\n",
      "181/181 - 0s - loss: 20.1674 - mean_absolute_error: 2.9720 - accuracy: 0.5794\n",
      "Epoch 80/100\n",
      "181/181 - 0s - loss: 21.1849 - mean_absolute_error: 3.0736 - accuracy: 0.5815\n",
      "Epoch 81/100\n",
      "181/181 - 0s - loss: 19.1150 - mean_absolute_error: 2.8903 - accuracy: 0.5863\n",
      "Epoch 82/100\n",
      "181/181 - 0s - loss: 19.5296 - mean_absolute_error: 2.9176 - accuracy: 0.5818\n",
      "Epoch 83/100\n",
      "181/181 - 0s - loss: 19.3852 - mean_absolute_error: 2.9185 - accuracy: 0.5813\n",
      "Epoch 84/100\n",
      "181/181 - 0s - loss: 21.0657 - mean_absolute_error: 3.0591 - accuracy: 0.5818\n",
      "Epoch 85/100\n",
      "181/181 - 0s - loss: 19.0346 - mean_absolute_error: 2.8821 - accuracy: 0.5856\n",
      "Epoch 86/100\n",
      "181/181 - 0s - loss: 20.2771 - mean_absolute_error: 3.0037 - accuracy: 0.5830\n",
      "Epoch 87/100\n",
      "181/181 - 0s - loss: 19.4812 - mean_absolute_error: 2.9315 - accuracy: 0.5844\n",
      "Epoch 88/100\n",
      "181/181 - 0s - loss: 19.2784 - mean_absolute_error: 2.8873 - accuracy: 0.5879\n",
      "Epoch 89/100\n",
      "181/181 - 1s - loss: 18.9923 - mean_absolute_error: 2.8752 - accuracy: 0.5888\n",
      "Epoch 90/100\n",
      "181/181 - 0s - loss: 19.4260 - mean_absolute_error: 2.9143 - accuracy: 0.5872\n",
      "Epoch 91/100\n"
     ]
    },
    {
     "name": "stdout",
     "output_type": "stream",
     "text": [
      "181/181 - 0s - loss: 19.6893 - mean_absolute_error: 2.9398 - accuracy: 0.5820\n",
      "Epoch 92/100\n",
      "181/181 - 0s - loss: 19.1293 - mean_absolute_error: 2.8917 - accuracy: 0.5894\n",
      "Epoch 93/100\n",
      "181/181 - 0s - loss: 19.3521 - mean_absolute_error: 2.9032 - accuracy: 0.5881\n",
      "Epoch 94/100\n",
      "181/181 - 0s - loss: 19.2933 - mean_absolute_error: 2.9000 - accuracy: 0.5848\n",
      "Epoch 95/100\n",
      "181/181 - 0s - loss: 19.7806 - mean_absolute_error: 2.9425 - accuracy: 0.5843\n",
      "Epoch 96/100\n",
      "181/181 - 0s - loss: 19.3420 - mean_absolute_error: 2.9111 - accuracy: 0.5905\n",
      "Epoch 97/100\n",
      "181/181 - 0s - loss: 19.1846 - mean_absolute_error: 2.8861 - accuracy: 0.5846\n",
      "Epoch 98/100\n",
      "181/181 - 0s - loss: 18.6133 - mean_absolute_error: 2.8435 - accuracy: 0.5950\n",
      "Epoch 99/100\n",
      "181/181 - 0s - loss: 20.0120 - mean_absolute_error: 2.9843 - accuracy: 0.5844\n",
      "Epoch 100/100\n",
      "181/181 - 0s - loss: 19.3218 - mean_absolute_error: 2.9154 - accuracy: 0.5907\n"
     ]
    },
    {
     "data": {
      "text/plain": [
       "<tensorflow.python.keras.callbacks.History at 0x7fec60ac8110>"
      ]
     },
     "execution_count": 4,
     "metadata": {},
     "output_type": "execute_result"
    }
   ],
   "source": [
    "# define model\n",
    "model = Sequential()\n",
    "model.add(Dense(500, activation='relu', input_dim=n_input)) \n",
    "model.add(Dense(250, activation='relu', input_dim=n_input)) \n",
    "model.add(Dense(n_output))\n",
    "model.compile(optimizer='adam', loss='mse',  metrics=[metrics.mae, 'accuracy'])\n",
    "\n",
    "# fit model\n",
    "model.fit(train_X, train_y, epochs=100, verbose=2)"
   ]
  },
  {
   "cell_type": "markdown",
   "metadata": {},
   "source": [
    "### Dimostra previsione"
   ]
  },
  {
   "cell_type": "code",
   "execution_count": 5,
   "metadata": {},
   "outputs": [
    {
     "name": "stdout",
     "output_type": "stream",
     "text": [
      "[[ 30.863367  35.692604  37.50667   32.949524  37.673122  36.452145\n",
      "  103.02356   30.211117  35.34753   36.109993  32.552475  36.679436\n",
      "   35.278343 100.31543   29.191929  34.127613  35.257465  31.717457\n",
      "   35.84724   34.756435  98.68736   28.44259   32.90895   34.182526\n",
      "   30.276487  34.89946   33.584908  96.76681   27.872675  32.0361\n",
      "   33.468582  29.97525   34.045227  32.791317  94.489456  27.548819\n",
      "   31.628567  32.592083  29.55639   33.06977   32.25887   92.965996]]\n"
     ]
    }
   ],
   "source": [
    "# demonstrate prediction\n",
    "x_input = np.array([[ 36.,  43.,  42. , 39. , 44. , 41., 121.],\n",
    "                    [ 36. , 43.,  42. , 38. , 44. , 41., 121.],\n",
    "                    [ 34.  ,40. , 40. , 36. , 42. , 40., 114.],\n",
    "                    [ 33. , 39. , 39. , 35. , 40. , 38., 111.],\n",
    "                    [ 32. , 37. , 37. , 34. , 38. , 37., 106.]]) \n",
    "x_input = x_input.reshape((1, n_input))\n",
    "yhat = model.predict(x_input, verbose=0)\n",
    "print(yhat)"
   ]
  },
  {
   "cell_type": "markdown",
   "metadata": {},
   "source": [
    "### Calcolo errore di previsione"
   ]
  },
  {
   "cell_type": "code",
   "execution_count": 6,
   "metadata": {},
   "outputs": [
    {
     "name": "stdout",
     "output_type": "stream",
     "text": [
      "2478\n",
      "shape  (2478, 42)\n",
      "104076\n",
      "104076\n"
     ]
    }
   ],
   "source": [
    "predicted = np.array([])\n",
    "for i in range(len(val_X)):\n",
    "    x_input = val_X[i].reshape((1, n_input))\n",
    "    yhat = model.predict(x_input, verbose=0)\n",
    "    #print(yhat[0])\n",
    "    predicted = np.append(predicted, yhat[0])\n",
    "\n",
    "print(len(val_y))\n",
    "var4diff2 = len(val_y)\n",
    "print('shape ',val_y.shape )\n",
    "val_y = val_y.reshape((val_y.shape[0] * val_y.shape[1]))    \n",
    "expected = val_y    \n",
    "print(len(expected))\n",
    "print(len(predicted))    "
   ]
  },
  {
   "cell_type": "markdown",
   "metadata": {},
   "source": [
    "### Distribuzione dell'errore"
   ]
  },
  {
   "cell_type": "code",
   "execution_count": 7,
   "metadata": {},
   "outputs": [
    {
     "name": "stdout",
     "output_type": "stream",
     "text": [
      "Mean Absolute Error =  2.8371087448910064\n"
     ]
    },
    {
     "data": {
      "image/png": "[encoded data removed]",
      "text/plain": [
       "<Figure size 1008x144 with 1 Axes>"
      ]
     },
     "metadata": {
      "needs_background": "light"
     },
     "output_type": "display_data"
    }
   ],
   "source": [
    "difference = abs(predicted - expected)\n",
    "print('Mean Absolute Error = ', np.mean(difference))\n",
    "plt.figure(figsize = (14,2))\n",
    "plt.boxplot(difference, vert = False)\n",
    "plt.show()"
   ]
  },
  {
   "cell_type": "markdown",
   "metadata": {},
   "source": [
    "### Distribuzione errore per ogni step"
   ]
  },
  {
   "cell_type": "code",
   "execution_count": 8,
   "metadata": {},
   "outputs": [
    {
     "name": "stdout",
     "output_type": "stream",
     "text": [
      "2478\n",
      "(2478, 42)\n"
     ]
    }
   ],
   "source": [
    "shape_i = dataset.shape[1] * n_steps_out \n",
    "print(var4diff2)\n",
    "difference2 = difference.reshape( var4diff2, shape_i)\n",
    "print(difference2.shape)\n"
   ]
  },
  {
   "cell_type": "code",
   "execution_count": 9,
   "metadata": {},
   "outputs": [
    {
     "data": {
      "image/png": "[encoded data removed]",
      "text/plain": [
       "<Figure size 1008x576 with 1 Axes>"
      ]
     },
     "metadata": {
      "needs_background": "light"
     },
     "output_type": "display_data"
    }
   ],
   "source": [
    "plt.figure(figsize = (14,8))\n",
    "plt.boxplot(difference2, vert = False)\n",
    "plt.show()"
   ]
  },
  {
   "cell_type": "code",
   "execution_count": null,
   "metadata": {},
   "outputs": [],
   "source": []
  },
  {
   "cell_type": "code",
   "execution_count": null,
   "metadata": {},
   "outputs": [],
   "source": []
  },
  {
   "cell_type": "code",
   "execution_count": null,
   "metadata": {},
   "outputs": [],
   "source": []
  },
  {
   "cell_type": "code",
   "execution_count": null,
   "metadata": {},
   "outputs": [],
   "source": []
  },
  {
   "cell_type": "code",
   "execution_count": null,
   "metadata": {},
   "outputs": [],
   "source": []
  },
  {
   "cell_type": "code",
   "execution_count": null,
   "metadata": {},
   "outputs": [],
   "source": []
  }
 ],
 "metadata": {
  "kernelspec": {
   "display_name": "Python 3",
   "language": "python",
   "name": "python3"
  },
  "language_info": {
   "codemirror_mode": {
    "name": "ipython",
    "version": 3
   },
   "file_extension": ".py",
   "mimetype": "text/x-python",
   "name": "python",
   "nbconvert_exporter": "python",
   "pygments_lexer": "ipython3",
   "version": "3.7.4"
  }
 },
 "nbformat": 4,
 "nbformat_minor": 2
}
