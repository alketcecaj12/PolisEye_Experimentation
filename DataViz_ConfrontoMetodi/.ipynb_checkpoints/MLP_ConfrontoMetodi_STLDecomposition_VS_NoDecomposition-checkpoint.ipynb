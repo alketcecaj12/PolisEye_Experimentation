{
 "cells": [
  {
   "cell_type": "code",
   "execution_count": 1,
   "metadata": {},
   "outputs": [],
   "source": [
    "import matplotlib.pyplot as plt\n",
    "import pandas as pd\n",
    "import numpy as np\n",
    "\n",
    "import warnings\n",
    "warnings.filterwarnings('ignore')"
   ]
  },
  {
   "cell_type": "code",
   "execution_count": 2,
   "metadata": {},
   "outputs": [],
   "source": [
    "colnames = ['min', 'Q1', 'mediana', 'Q3', 'max']\n",
    "\n",
    "# cambiare i per corsi con i propri dati\n",
    "dec_in54_25 = pd.read_csv('/Users/alket/Desktop/poliseye_timeseries/DeepLearningModels/univariate-multisteps/'+\n",
    "                          'error_data_4_MLP_with_STL_Decomposition_54_25.csv', names=colnames, header=None)\n",
    "\n",
    "no_dec_in54_16 = pd.read_csv('/Users/alket/Desktop/poliseye_timeseries/DeepLearningModels/univariate-multisteps/'+\n",
    "                      'MLP_MultistepForcast_VariabilitàErrore_54_16.csv', names=colnames, header=None)\n"
   ]
  },
  {
   "cell_type": "code",
   "execution_count": 6,
   "metadata": {},
   "outputs": [],
   "source": [
    "max_dec_54_25= []\n",
    "for i, row in dec_in54_25.iterrows():\n",
    "    max_i= row['max']\n",
    "    max_i = max_i[0:-2]\n",
    "    max_dec_54_25.append(float(max_i))\n",
    "    \n",
    "max_no_dec_54_16= []\n",
    "for i, row in no_dec_in54_16.iterrows():\n",
    "    max_i= row['max']\n",
    "    max_i = max_i[0:-1]\n",
    "    max_no_dec_54_16.append(float(max_i))\n",
    "    \n",
    "med_dec_54_25 = dec_in54_25['mediana'].tolist()\n",
    "med_no_dec_54_16 = no_dec_in54_16['mediana'].tolist()   "
   ]
  },
  {
   "cell_type": "code",
   "execution_count": 12,
   "metadata": {},
   "outputs": [],
   "source": [
    "max_dec_54_25 = np.array(max_dec_54_25)\n",
    "max_no_dec_54_16 = np.array(max_no_dec_54_16)\n",
    "\n",
    "med_dec_54_25 = np.array(med_dec_54_25)\n",
    "med_no_dec_54_16 = np.array(med_no_dec_54_16)"
   ]
  },
  {
   "cell_type": "code",
   "execution_count": 13,
   "metadata": {},
   "outputs": [
    {
     "name": "stdout",
     "output_type": "stream",
     "text": [
      "Distribuzione errore massimo per tutte le celle calcolato senza scomposizione\n",
      "Max      = 974.4000244140625\n",
      "Perc. 75 = 103.70001220703125\n",
      "Mediana  = 36.69999694824219\n",
      "Perc. 25 = 18.800003051757812\n"
     ]
    },
    {
     "data": {
      "image/png": "[encoded data removed]",
      "text/plain": [
       "<Figure size 1008x72 with 1 Axes>"
      ]
     },
     "metadata": {
      "needs_background": "light"
     },
     "output_type": "display_data"
    },
    {
     "name": "stdout",
     "output_type": "stream",
     "text": [
      "Distribuzione errore massimo per tutte le celle calcolato con scomposizione\n",
      "Max      = 380.1000976562\n",
      "perc. 75 = 77.0\n",
      "mediana  = 25.0\n",
      "perc. 25 = 11.59999847412109\n"
     ]
    },
    {
     "data": {
      "image/png": "[encoded data removed]",
      "text/plain": [
       "<Figure size 1008x72 with 1 Axes>"
      ]
     },
     "metadata": {
      "needs_background": "light"
     },
     "output_type": "display_data"
    }
   ],
   "source": [
    "print('Distribuzione errore massimo per tutte le celle calcolato senza scomposizione')\n",
    "print('Max      =', np.amax(max_no_dec_54_16))\n",
    "print('Perc. 75 =', np.percentile(max_no_dec_54_16, 75))\n",
    "print('Mediana  =', np.percentile(max_no_dec_54_16, 50))\n",
    "print('Perc. 25 =', np.percentile(max_no_dec_54_16, 25))\n",
    "plt.figure(figsize = (14, 1))\n",
    "plt.boxplot(max_no_dec_54_16, vert = False)\n",
    "plt.show()\n",
    "\n",
    "print('Distribuzione errore massimo per tutte le celle calcolato con scomposizione')\n",
    "print('Max      =', np.amax(max_dec_54_25))\n",
    "print('perc. 75 =', np.percentile(max_dec_54_25, 75))\n",
    "print('mediana  =', np.percentile(max_dec_54_25, 50))\n",
    "print('perc. 25 =', np.percentile(max_dec_54_25, 25))\n",
    "plt.figure(figsize = (14, 1))\n",
    "plt.boxplot(max_dec_54_25, vert = False)\n",
    "plt.show()"
   ]
  },
  {
   "cell_type": "code",
   "execution_count": null,
   "metadata": {},
   "outputs": [],
   "source": []
  },
  {
   "cell_type": "code",
   "execution_count": null,
   "metadata": {},
   "outputs": [],
   "source": []
  },
  {
   "cell_type": "code",
   "execution_count": null,
   "metadata": {},
   "outputs": [],
   "source": []
  },
  {
   "cell_type": "code",
   "execution_count": null,
   "metadata": {},
   "outputs": [],
   "source": []
  },
  {
   "cell_type": "code",
   "execution_count": null,
   "metadata": {},
   "outputs": [],
   "source": []
  },
  {
   "cell_type": "code",
   "execution_count": null,
   "metadata": {},
   "outputs": [],
   "source": []
  },
  {
   "cell_type": "code",
   "execution_count": null,
   "metadata": {},
   "outputs": [],
   "source": []
  },
  {
   "cell_type": "code",
   "execution_count": null,
   "metadata": {},
   "outputs": [],
   "source": []
  }
 ],
 "metadata": {
  "kernelspec": {
   "display_name": "Python 3",
   "language": "python",
   "name": "python3"
  },
  "language_info": {
   "codemirror_mode": {
    "name": "ipython",
    "version": 3
   },
   "file_extension": ".py",
   "mimetype": "text/x-python",
   "name": "python",
   "nbconvert_exporter": "python",
   "pygments_lexer": "ipython3",
   "version": "3.7.4"
  }
 },
 "nbformat": 4,
 "nbformat_minor": 2
}
