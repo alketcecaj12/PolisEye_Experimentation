{
 "cells": [
  {
   "cell_type": "markdown",
   "metadata": {},
   "source": [
    "### Confronto tra metodi di previsione basandosi sull'errore di previsione \n",
    "\n",
    "\n",
    "<p>\n",
    "    \n",
    "1- Naive (Autoregressione semplice dove il valore predetto e semplicemente il valore precente. Un altra versione è l'autoregressione stagionale)\n",
    "\n",
    "2- Autoregressione (implementazione statsmodels)\n",
    "\n",
    "3- Exponential Smothing\n",
    "\n",
    "4- ARIMA/SARIMA\n",
    "\n",
    "5- Vector Autoregression\n",
    "\n",
    "6- Prophet\n",
    "\n",
    "7- MLP\n",
    "\n",
    "8- CNN\n",
    "\n",
    "9- LSTM \n",
    "\n",
    "</p>"
   ]
  },
  {
   "cell_type": "code",
   "execution_count": 1,
   "metadata": {},
   "outputs": [],
   "source": [
    "import matplotlib.pyplot as plt\n",
    "import pandas as pd\n",
    "import numpy as np\n",
    "\n",
    "import warnings\n",
    "warnings.filterwarnings('ignore')"
   ]
  },
  {
   "cell_type": "markdown",
   "metadata": {},
   "source": [
    "### Carica i dati d'errore per ogni metodo"
   ]
  },
  {
   "cell_type": "code",
   "execution_count": 5,
   "metadata": {},
   "outputs": [],
   "source": [
    "colnames = ['min', 'Q1', 'mediana', 'Q3', 'max']\n",
    "\n",
    "# cambiare i per corsi con i propri dati\n",
    "data_exp = pd.read_csv('/Users/alket/Desktop/TimeseriesProjects/StatisticalModels/UnivariateSeriesPrediction/'+\n",
    "                 'error_data_4_exponential_smoothing_smoothing_0.8.csv', names=colnames, header=None)\n",
    "\n",
    "data_ar = pd.read_csv('/Users/alket/Desktop/TimeseriesProjects/StatisticalModels/UnivariateSeriesPrediction/'+\n",
    "                 'error_data_4_Autoregression.csv', names=colnames, header=None)\n",
    "\n",
    "data_naive_ar = pd.read_csv('/Users/alket/Desktop/TimeseriesProjects/StatisticalModels/NaiveMethods/'+\n",
    "                 'error_data_4_ValorePrevisto-ValorePrecedente.csv', names=colnames, header=None)\n",
    "\n",
    "data_naive_monday = pd.read_csv('/Users/alket/Desktop/TimeseriesProjects/StatisticalModels/NaiveMethods/'+\n",
    "                 'error_data_4_Naive_Monday_h13.csv', names=colnames, header=None)\n",
    "\n",
    "#### Temporaneamente finche saranno disponibili i dati\n",
    "\n",
    "data_MLP = pd.read_csv('/Users/alket/Desktop/TimeseriesProjects/StatisticalModels/NaiveMethods/'+\n",
    "                 'error_data_4_ValorePrevisto-ValorePrecedente.csv', names=colnames, header=None)\n",
    "\n",
    "data_CNN = pd.read_csv('/Users/alket/Desktop/TimeseriesProjects/StatisticalModels/NaiveMethods/'+\n",
    "                 'error_data_4_Naive_Monday_h13.csv', names=colnames, header=None)\n",
    "\n",
    "data_LSTM = pd.read_csv('/Users/alket/Desktop/TimeseriesProjects/StatisticalModels/NaiveMethods/'+\n",
    "                 'error_data_4_ValorePrevisto-ValorePrecedente.csv', names=colnames, header=None)\n",
    "\n",
    "data_prophet = pd.read_csv('/Users/alket/Desktop/TimeseriesProjects/StatisticalModels/NaiveMethods/'+\n",
    "                 'error_data_4_Naive_Monday_h13.csv', names=colnames, header=None)"
   ]
  },
  {
   "cell_type": "code",
   "execution_count": 6,
   "metadata": {},
   "outputs": [],
   "source": [
    "mae_exp = np.array(data_exp['mediana'].tolist())\n",
    "mae_ar = np.array(data_ar['mediana'].tolist())\n",
    "mae_naive_ar = np.array(data_naive_ar['mediana'].tolist())\n",
    "mae_naive_monday = np.array(data_naive_monday['mediana'].tolist())\n",
    "\n",
    "mae_MLP = np.array(data_MLP['mediana'].tolist())\n",
    "mae_CNN = np.array(data_CNN['mediana'].tolist())\n",
    "mae_LSTM = np.array(data_LSTM['mediana'].tolist())\n",
    "mae_prophet = np.array(data_prophet['mediana'].tolist())"
   ]
  },
  {
   "cell_type": "code",
   "execution_count": 7,
   "metadata": {},
   "outputs": [
    {
     "data": {
      "image/png": "[encoded data removed]",
      "text/plain": [
       "<Figure size 1440x504 with 1 Axes>"
      ]
     },
     "metadata": {
      "needs_background": "light"
     },
     "output_type": "display_data"
    }
   ],
   "source": [
    "data_to_plot = [mae_naive_ar, mae_naive_monday, mae_ar, mae_exp, mae_MLP, mae_CNN, mae_LSTM, mae_prophet]\n",
    "\n",
    "# Create a figure instance\n",
    "fig = plt.figure(1, figsize=(20, 7))\n",
    "\n",
    "# Create an axes instance\n",
    "ax = fig.add_subplot(111)\n",
    "\n",
    "# Create the boxplot\n",
    "bp = ax.boxplot(data_to_plot, patch_artist=True)\n",
    "\n",
    "ax.set_xticklabels(['Naive_AR', 'Naive_Monday', 'AR', 'ExpSmth', 'MLP', 'CNN', 'LSTM', 'Prophet'])\n",
    "\n",
    "\n",
    "# Save the figure\n",
    "fig.savefig('ConfrontoMetodi.jpeg', bbox_inches='tight')"
   ]
  },
  {
   "cell_type": "code",
   "execution_count": null,
   "metadata": {},
   "outputs": [],
   "source": []
  },
  {
   "cell_type": "code",
   "execution_count": null,
   "metadata": {},
   "outputs": [],
   "source": []
  },
  {
   "cell_type": "code",
   "execution_count": null,
   "metadata": {},
   "outputs": [],
   "source": []
  },
  {
   "cell_type": "code",
   "execution_count": null,
   "metadata": {},
   "outputs": [],
   "source": []
  },
  {
   "cell_type": "code",
   "execution_count": null,
   "metadata": {},
   "outputs": [],
   "source": []
  }
 ],
 "metadata": {
  "kernelspec": {
   "display_name": "Python 3",
   "language": "python",
   "name": "python3"
  },
  "language_info": {
   "codemirror_mode": {
    "name": "ipython",
    "version": 3
   },
   "file_extension": ".py",
   "mimetype": "text/x-python",
   "name": "python",
   "nbconvert_exporter": "python",
   "pygments_lexer": "ipython3",
   "version": "3.7.4"
  }
 },
 "nbformat": 4,
 "nbformat_minor": 2
}
