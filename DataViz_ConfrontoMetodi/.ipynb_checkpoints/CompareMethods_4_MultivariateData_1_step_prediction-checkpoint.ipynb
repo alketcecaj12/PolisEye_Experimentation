{
 "cells": [
  {
   "cell_type": "markdown",
   "metadata": {},
   "source": [
    "### Confronto tra metodi di previsione 1-Step per serie multivariate\n",
    "\n",
    "\n",
    "<p>\n",
    "    \n",
    "1- VAR (Vector Autoregression)\n",
    "\n",
    "\n",
    "2- MLP\n",
    "\n",
    "3- CNN\n",
    "\n",
    "4- LSTM \n",
    "\n",
    "</p>"
   ]
  },
  {
   "cell_type": "code",
   "execution_count": 2,
   "metadata": {},
   "outputs": [],
   "source": [
    "import matplotlib.pyplot as plt\n",
    "import pandas as pd\n",
    "import numpy as np\n",
    "\n",
    "import warnings\n",
    "warnings.filterwarnings('ignore')"
   ]
  },
  {
   "cell_type": "code",
   "execution_count": null,
   "metadata": {},
   "outputs": [],
   "source": []
  }
 ],
 "metadata": {
  "kernelspec": {
   "display_name": "Python 3",
   "language": "python",
   "name": "python3"
  },
  "language_info": {
   "codemirror_mode": {
    "name": "ipython",
    "version": 3
   },
   "file_extension": ".py",
   "mimetype": "text/x-python",
   "name": "python",
   "nbconvert_exporter": "python",
   "pygments_lexer": "ipython3",
   "version": "3.7.4"
  }
 },
 "nbformat": 4,
 "nbformat_minor": 2
}
