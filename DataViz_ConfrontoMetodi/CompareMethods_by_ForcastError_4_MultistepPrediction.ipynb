{
 "cells": [
  {
   "cell_type": "markdown",
   "metadata": {},
   "source": [
    "### Confronto tra metodi di forcasting basandosi sull'errore di previsione"
   ]
  },
  {
   "cell_type": "code",
   "execution_count": 7,
   "metadata": {},
   "outputs": [],
   "source": [
    "import matplotlib.pyplot as plt\n",
    "import pandas as pd\n",
    "import numpy as np\n",
    "\n",
    "import warnings\n",
    "warnings.filterwarnings('ignore')"
   ]
  },
  {
   "cell_type": "code",
   "execution_count": 31,
   "metadata": {},
   "outputs": [],
   "source": [
    "colnames = ['min', 'Q1', 'mediana', 'Q3', 'max']\n",
    "\n",
    "# cambiare i percorsi con i propri dati\n",
    "data_Prophet = pd.read_csv('/Users/alket/Desktop/poliseye_timeseries/Prophet/'+\n",
    "                 'error_data_4_Prophet_prediction.csv', names=colnames, header=None)\n",
    "\n",
    "data_MLP_decom = pd.read_csv('/Users/alket/Desktop/poliseye_timeseries/DeepLearningModels/univariate-multisteps/'+\n",
    "                 'error_data_4_MLP_with_STL_Decomposition_in24_out25_period_672.csv', names=colnames, header=None)"
   ]
  },
  {
   "cell_type": "code",
   "execution_count": 32,
   "metadata": {},
   "outputs": [],
   "source": [
    "mae_MLP_decom = np.array(data_MLP_decom['mediana'].tolist())\n",
    "mae_Prophet = np.array(data_Prophet['mediana'].tolist())"
   ]
  },
  {
   "cell_type": "markdown",
   "metadata": {},
   "source": [
    "### Mediana"
   ]
  },
  {
   "cell_type": "code",
   "execution_count": 33,
   "metadata": {},
   "outputs": [
    {
     "data": {
      "image/png": "[encoded data removed]",
      "text/plain": [
       "<Figure size 1440x504 with 1 Axes>"
      ]
     },
     "metadata": {
      "needs_background": "light"
     },
     "output_type": "display_data"
    }
   ],
   "source": [
    "data_to_plot = [mae_MLP_decom, mae_Prophet]\n",
    "\n",
    "# Create a figure instance\n",
    "fig = plt.figure(1, figsize=(20, 7))\n",
    "\n",
    "# Create an axes instance\n",
    "ax = fig.add_subplot(111)\n",
    "\n",
    "# Create the boxplot\n",
    "bp = ax.boxplot(data_to_plot, patch_artist=True)\n",
    "ax.set_xticklabels(['MLP', 'Prophet'])\n",
    "\n",
    "# Save the figure\n",
    "fig.savefig('ConfrontoMetodi.jpeg', bbox_inches='tight')"
   ]
  },
  {
   "cell_type": "markdown",
   "metadata": {},
   "source": [
    "### Max error"
   ]
  },
  {
   "cell_type": "code",
   "execution_count": 34,
   "metadata": {},
   "outputs": [],
   "source": [
    "max_Prophet = []\n",
    "for i, row in data_Prophet.iterrows():\n",
    "    max_i= row['max']\n",
    "    max_i = max_i[0:-2]\n",
    "    max_Prophet.append(float(max_i))\n",
    "    \n",
    "max_MLP_dec = []\n",
    "for i, row in data_MLP_decom.iterrows():\n",
    "    max_i= row['max']\n",
    "    max_i = max_i[0:-1]\n",
    "    max_MLP_dec.append(float(max_i)) "
   ]
  },
  {
   "cell_type": "code",
   "execution_count": 35,
   "metadata": {},
   "outputs": [],
   "source": [
    "max_MLP_decom = np.array(max_Prophet)\n",
    "max_Prophet = np.array(max_MLP_dec)"
   ]
  },
  {
   "cell_type": "code",
   "execution_count": 36,
   "metadata": {},
   "outputs": [
    {
     "data": {
      "image/png": "[encoded data removed]",
      "text/plain": [
       "<Figure size 1440x504 with 1 Axes>"
      ]
     },
     "metadata": {
      "needs_background": "light"
     },
     "output_type": "display_data"
    }
   ],
   "source": [
    "data_to_plot = [max_MLP_decom, max_Prophet]\n",
    "\n",
    "# Create a figure instance\n",
    "fig = plt.figure(1, figsize=(20, 7))\n",
    "\n",
    "# Create an axes instance\n",
    "ax = fig.add_subplot(111)\n",
    "\n",
    "# Create the boxplot\n",
    "bp = ax.boxplot(data_to_plot, patch_artist=True)\n",
    "\n",
    "ax.set_xticklabels(['max_MLP', 'max_Prophet'])\n",
    "\n",
    "# Save the figure\n",
    "fig.savefig('ConfrontoMetodi.jpeg', bbox_inches='tight')"
   ]
  },
  {
   "cell_type": "code",
   "execution_count": 37,
   "metadata": {},
   "outputs": [
    {
     "name": "stdout",
     "output_type": "stream",
     "text": [
      "Distribuzione errore massimo per tutte le celle calcolato con MLP con scomposizione\n",
      "Max      = 395.56762970386\n",
      "Perc. 75 = 84.3082616215289\n",
      "Mediana  = 29.57259813823605\n",
      "Perc. 25 = 11.1104889624613\n",
      "Distribuzione errore massimo per tutte le celle calcolato con Prophet\n",
      "Max      = 412.89990234375\n",
      "Perc. 75 = 79.9000244140625\n",
      "Mediana  = 25.0\n",
      "Perc. 25 = 11.699996948242188\n"
     ]
    }
   ],
   "source": [
    "print('Distribuzione errore massimo per tutte le celle calcolato con MLP con scomposizione')\n",
    "print('Max      =', np.amax(max_MLP_decom))\n",
    "print('Perc. 75 =', np.percentile(max_MLP_decom, 75))\n",
    "print('Mediana  =', np.percentile(max_MLP_decom, 50))\n",
    "print('Perc. 25 =', np.percentile(max_MLP_decom, 25))\n",
    "\n",
    "\n",
    "print('Distribuzione errore massimo per tutte le celle calcolato con Prophet')\n",
    "print('Max      =', np.amax(max_Prophet))\n",
    "print('Perc. 75 =', np.percentile(max_Prophet, 75))\n",
    "print('Mediana  =', np.percentile(max_Prophet, 50))\n",
    "print('Perc. 25 =', np.percentile(max_Prophet, 25))"
   ]
  },
  {
   "cell_type": "code",
   "execution_count": null,
   "metadata": {},
   "outputs": [],
   "source": []
  },
  {
   "cell_type": "code",
   "execution_count": null,
   "metadata": {},
   "outputs": [],
   "source": []
  },
  {
   "cell_type": "code",
   "execution_count": null,
   "metadata": {},
   "outputs": [],
   "source": []
  },
  {
   "cell_type": "code",
   "execution_count": null,
   "metadata": {},
   "outputs": [],
   "source": []
  },
  {
   "cell_type": "code",
   "execution_count": null,
   "metadata": {},
   "outputs": [],
   "source": []
  },
  {
   "cell_type": "code",
   "execution_count": null,
   "metadata": {},
   "outputs": [],
   "source": []
  },
  {
   "cell_type": "code",
   "execution_count": null,
   "metadata": {},
   "outputs": [],
   "source": []
  },
  {
   "cell_type": "code",
   "execution_count": null,
   "metadata": {},
   "outputs": [],
   "source": []
  },
  {
   "cell_type": "code",
   "execution_count": null,
   "metadata": {},
   "outputs": [],
   "source": []
  },
  {
   "cell_type": "code",
   "execution_count": null,
   "metadata": {},
   "outputs": [],
   "source": []
  },
  {
   "cell_type": "code",
   "execution_count": null,
   "metadata": {},
   "outputs": [],
   "source": []
  },
  {
   "cell_type": "code",
   "execution_count": null,
   "metadata": {},
   "outputs": [],
   "source": []
  },
  {
   "cell_type": "code",
   "execution_count": null,
   "metadata": {},
   "outputs": [],
   "source": []
  }
 ],
 "metadata": {
  "kernelspec": {
   "display_name": "Python 3",
   "language": "python",
   "name": "python3"
  },
  "language_info": {
   "codemirror_mode": {
    "name": "ipython",
    "version": 3
   },
   "file_extension": ".py",
   "mimetype": "text/x-python",
   "name": "python",
   "nbconvert_exporter": "python",
   "pygments_lexer": "ipython3",
   "version": "3.7.4"
  }
 },
 "nbformat": 4,
 "nbformat_minor": 2
}
