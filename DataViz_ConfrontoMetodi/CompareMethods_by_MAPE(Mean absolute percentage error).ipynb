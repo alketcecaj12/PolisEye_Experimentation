{
 "cells": [
  {
   "cell_type": "markdown",
   "metadata": {},
   "source": [
    "### Compare methods by Mean absolute percentage error (MAPE)"
   ]
  },
  {
   "cell_type": "code",
   "execution_count": 45,
   "metadata": {},
   "outputs": [],
   "source": [
    "import matplotlib.pyplot as plt\n",
    "import pandas as pd\n",
    "import numpy as np\n",
    "\n",
    "import warnings\n",
    "warnings.filterwarnings('ignore')"
   ]
  },
  {
   "cell_type": "code",
   "execution_count": 46,
   "metadata": {},
   "outputs": [],
   "source": [
    "colnames = ['cell_num', 'MAPE']\n",
    "\n",
    "# cambiare i percorsi con i propri dati\n",
    "data_Prophet = pd.read_csv('/Users/alket/Desktop/poliseye_timeseries/Prophet/'+\n",
    "                 'MAPE_error_data_4_Prophet_with_STL_Decomposition_25.csv', names=colnames, header=None, sep = ':')\n",
    "\n",
    "data_MLP = pd.read_csv('/Users/alket/Desktop/poliseye_timeseries/DeepLearningModels/univariate-multisteps/'+\n",
    "                 'MAPE_data_4_MLP_with_STL_Decomposition_in96_out38_period_96.csv', names=colnames, header=None, sep = ':')\n",
    "\n",
    "data_AR = pd.read_csv('/Users/alket/Desktop/poliseye_timeseries/StatisticalModels/UnivariateSeriesPrediction/'+\n",
    "                 'MAPE_data_4_Autoregression_37_StepForecast.csv', names=colnames, header=None, sep = ':')"
   ]
  },
  {
   "cell_type": "code",
   "execution_count": 47,
   "metadata": {},
   "outputs": [
    {
     "data": {
      "text/html": [
       "<div>\n",
       "<style scoped>\n",
       "    .dataframe tbody tr th:only-of-type {\n",
       "        vertical-align: middle;\n",
       "    }\n",
       "\n",
       "    .dataframe tbody tr th {\n",
       "        vertical-align: top;\n",
       "    }\n",
       "\n",
       "    .dataframe thead th {\n",
       "        text-align: right;\n",
       "    }\n",
       "</style>\n",
       "<table border=\"1\" class=\"dataframe\">\n",
       "  <thead>\n",
       "    <tr style=\"text-align: right;\">\n",
       "      <th></th>\n",
       "      <th>cell_num</th>\n",
       "      <th>MAPE</th>\n",
       "    </tr>\n",
       "  </thead>\n",
       "  <tbody>\n",
       "    <tr>\n",
       "      <td>0</td>\n",
       "      <td>486-1252</td>\n",
       "      <td>6.826341</td>\n",
       "    </tr>\n",
       "    <tr>\n",
       "      <td>1</td>\n",
       "      <td>486-1253</td>\n",
       "      <td>6.598733</td>\n",
       "    </tr>\n",
       "    <tr>\n",
       "      <td>2</td>\n",
       "      <td>486-1254</td>\n",
       "      <td>7.382816</td>\n",
       "    </tr>\n",
       "    <tr>\n",
       "      <td>3</td>\n",
       "      <td>486-1255</td>\n",
       "      <td>7.413577</td>\n",
       "    </tr>\n",
       "    <tr>\n",
       "      <td>4</td>\n",
       "      <td>486-1256</td>\n",
       "      <td>6.783533</td>\n",
       "    </tr>\n",
       "    <tr>\n",
       "      <td>...</td>\n",
       "      <td>...</td>\n",
       "      <td>...</td>\n",
       "    </tr>\n",
       "    <tr>\n",
       "      <td>216</td>\n",
       "      <td>498-1264</td>\n",
       "      <td>5.816866</td>\n",
       "    </tr>\n",
       "    <tr>\n",
       "      <td>217</td>\n",
       "      <td>498-1265</td>\n",
       "      <td>4.145024</td>\n",
       "    </tr>\n",
       "    <tr>\n",
       "      <td>218</td>\n",
       "      <td>498-1266</td>\n",
       "      <td>4.173755</td>\n",
       "    </tr>\n",
       "    <tr>\n",
       "      <td>219</td>\n",
       "      <td>498-1267</td>\n",
       "      <td>4.593293</td>\n",
       "    </tr>\n",
       "    <tr>\n",
       "      <td>220</td>\n",
       "      <td>498-1268</td>\n",
       "      <td>4.564734</td>\n",
       "    </tr>\n",
       "  </tbody>\n",
       "</table>\n",
       "<p>221 rows × 2 columns</p>\n",
       "</div>"
      ],
      "text/plain": [
       "     cell_num      MAPE\n",
       "0    486-1252  6.826341\n",
       "1    486-1253  6.598733\n",
       "2    486-1254  7.382816\n",
       "3    486-1255  7.413577\n",
       "4    486-1256  6.783533\n",
       "..        ...       ...\n",
       "216  498-1264  5.816866\n",
       "217  498-1265  4.145024\n",
       "218  498-1266  4.173755\n",
       "219  498-1267  4.593293\n",
       "220  498-1268  4.564734\n",
       "\n",
       "[221 rows x 2 columns]"
      ]
     },
     "execution_count": 47,
     "metadata": {},
     "output_type": "execute_result"
    }
   ],
   "source": [
    "data_MLP"
   ]
  },
  {
   "cell_type": "code",
   "execution_count": 48,
   "metadata": {},
   "outputs": [],
   "source": [
    "mae_MLP = np.array(data_MLP['MAPE'].tolist())\n",
    "mae_Prophet = np.array(data_Prophet['MAPE'].tolist())\n",
    "mae_AR = np.array(data_AR['MAPE'].tolist())\n",
    "#mae_AR"
   ]
  },
  {
   "cell_type": "code",
   "execution_count": 49,
   "metadata": {},
   "outputs": [
    {
     "data": {
      "image/png": "[encoded data removed]",
      "text/plain": [
       "<Figure size 1440x504 with 1 Axes>"
      ]
     },
     "metadata": {
      "needs_background": "light"
     },
     "output_type": "display_data"
    }
   ],
   "source": [
    "data_to_plot = [mae_Prophet, mae_AR, mae_MLP]\n",
    "\n",
    "# Create a figure instance\n",
    "fig = plt.figure(1, figsize=(20, 7))\n",
    "\n",
    "# Create an axes instance\n",
    "ax = fig.add_subplot(111)\n",
    "\n",
    "# Create the boxplot\n",
    "bp = ax.boxplot(data_to_plot, patch_artist=True)\n",
    "ax.set_xticklabels(['Prophet', 'AR', 'MLP'])\n",
    "\n",
    "# Save the figure\n",
    "fig.savefig('ConfrontoMetodi.jpeg', bbox_inches='tight')"
   ]
  },
  {
   "cell_type": "code",
   "execution_count": null,
   "metadata": {},
   "outputs": [],
   "source": []
  },
  {
   "cell_type": "code",
   "execution_count": null,
   "metadata": {},
   "outputs": [],
   "source": []
  },
  {
   "cell_type": "code",
   "execution_count": null,
   "metadata": {},
   "outputs": [],
   "source": []
  },
  {
   "cell_type": "code",
   "execution_count": null,
   "metadata": {},
   "outputs": [],
   "source": []
  },
  {
   "cell_type": "code",
   "execution_count": null,
   "metadata": {},
   "outputs": [],
   "source": []
  },
  {
   "cell_type": "code",
   "execution_count": null,
   "metadata": {},
   "outputs": [],
   "source": []
  },
  {
   "cell_type": "code",
   "execution_count": null,
   "metadata": {},
   "outputs": [],
   "source": []
  },
  {
   "cell_type": "code",
   "execution_count": null,
   "metadata": {},
   "outputs": [],
   "source": []
  },
  {
   "cell_type": "code",
   "execution_count": null,
   "metadata": {},
   "outputs": [],
   "source": []
  }
 ],
 "metadata": {
  "kernelspec": {
   "display_name": "Python 3",
   "language": "python",
   "name": "python3"
  },
  "language_info": {
   "codemirror_mode": {
    "name": "ipython",
    "version": 3
   },
   "file_extension": ".py",
   "mimetype": "text/x-python",
   "name": "python",
   "nbconvert_exporter": "python",
   "pygments_lexer": "ipython3",
   "version": "3.7.4"
  }
 },
 "nbformat": 4,
 "nbformat_minor": 2
}
