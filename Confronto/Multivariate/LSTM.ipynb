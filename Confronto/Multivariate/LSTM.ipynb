{
 "cells": [
  {
   "cell_type": "markdown",
   "metadata": {},
   "source": [
    "### LSTM for multivariate, multistep forecast"
   ]
  },
  {
   "cell_type": "code",
   "execution_count": 1,
   "metadata": {},
   "outputs": [
    {
     "name": "stderr",
     "output_type": "stream",
     "text": [
      "Using TensorFlow backend.\n",
      "/Users/alket/anaconda3/lib/python3.7/site-packages/tensorflow/python/framework/dtypes.py:516: FutureWarning: Passing (type, 1) or '1type' as a synonym of type is deprecated; in a future version of numpy, it will be understood as (type, (1,)) / '(1,)type'.\n",
      "  _np_qint8 = np.dtype([(\"qint8\", np.int8, 1)])\n",
      "/Users/alket/anaconda3/lib/python3.7/site-packages/tensorflow/python/framework/dtypes.py:517: FutureWarning: Passing (type, 1) or '1type' as a synonym of type is deprecated; in a future version of numpy, it will be understood as (type, (1,)) / '(1,)type'.\n",
      "  _np_quint8 = np.dtype([(\"quint8\", np.uint8, 1)])\n",
      "/Users/alket/anaconda3/lib/python3.7/site-packages/tensorflow/python/framework/dtypes.py:518: FutureWarning: Passing (type, 1) or '1type' as a synonym of type is deprecated; in a future version of numpy, it will be understood as (type, (1,)) / '(1,)type'.\n",
      "  _np_qint16 = np.dtype([(\"qint16\", np.int16, 1)])\n",
      "/Users/alket/anaconda3/lib/python3.7/site-packages/tensorflow/python/framework/dtypes.py:519: FutureWarning: Passing (type, 1) or '1type' as a synonym of type is deprecated; in a future version of numpy, it will be understood as (type, (1,)) / '(1,)type'.\n",
      "  _np_quint16 = np.dtype([(\"quint16\", np.uint16, 1)])\n",
      "/Users/alket/anaconda3/lib/python3.7/site-packages/tensorflow/python/framework/dtypes.py:520: FutureWarning: Passing (type, 1) or '1type' as a synonym of type is deprecated; in a future version of numpy, it will be understood as (type, (1,)) / '(1,)type'.\n",
      "  _np_qint32 = np.dtype([(\"qint32\", np.int32, 1)])\n",
      "/Users/alket/anaconda3/lib/python3.7/site-packages/tensorflow/python/framework/dtypes.py:525: FutureWarning: Passing (type, 1) or '1type' as a synonym of type is deprecated; in a future version of numpy, it will be understood as (type, (1,)) / '(1,)type'.\n",
      "  np_resource = np.dtype([(\"resource\", np.ubyte, 1)])\n",
      "/Users/alket/anaconda3/lib/python3.7/site-packages/tensorboard/compat/tensorflow_stub/dtypes.py:541: FutureWarning: Passing (type, 1) or '1type' as a synonym of type is deprecated; in a future version of numpy, it will be understood as (type, (1,)) / '(1,)type'.\n",
      "  _np_qint8 = np.dtype([(\"qint8\", np.int8, 1)])\n",
      "/Users/alket/anaconda3/lib/python3.7/site-packages/tensorboard/compat/tensorflow_stub/dtypes.py:542: FutureWarning: Passing (type, 1) or '1type' as a synonym of type is deprecated; in a future version of numpy, it will be understood as (type, (1,)) / '(1,)type'.\n",
      "  _np_quint8 = np.dtype([(\"quint8\", np.uint8, 1)])\n",
      "/Users/alket/anaconda3/lib/python3.7/site-packages/tensorboard/compat/tensorflow_stub/dtypes.py:543: FutureWarning: Passing (type, 1) or '1type' as a synonym of type is deprecated; in a future version of numpy, it will be understood as (type, (1,)) / '(1,)type'.\n",
      "  _np_qint16 = np.dtype([(\"qint16\", np.int16, 1)])\n",
      "/Users/alket/anaconda3/lib/python3.7/site-packages/tensorboard/compat/tensorflow_stub/dtypes.py:544: FutureWarning: Passing (type, 1) or '1type' as a synonym of type is deprecated; in a future version of numpy, it will be understood as (type, (1,)) / '(1,)type'.\n",
      "  _np_quint16 = np.dtype([(\"quint16\", np.uint16, 1)])\n",
      "/Users/alket/anaconda3/lib/python3.7/site-packages/tensorboard/compat/tensorflow_stub/dtypes.py:545: FutureWarning: Passing (type, 1) or '1type' as a synonym of type is deprecated; in a future version of numpy, it will be understood as (type, (1,)) / '(1,)type'.\n",
      "  _np_qint32 = np.dtype([(\"qint32\", np.int32, 1)])\n",
      "/Users/alket/anaconda3/lib/python3.7/site-packages/tensorboard/compat/tensorflow_stub/dtypes.py:550: FutureWarning: Passing (type, 1) or '1type' as a synonym of type is deprecated; in a future version of numpy, it will be understood as (type, (1,)) / '(1,)type'.\n",
      "  np_resource = np.dtype([(\"resource\", np.ubyte, 1)])\n"
     ]
    }
   ],
   "source": [
    "import pandas as pd\n",
    "import numpy as np\n",
    "import matplotlib.pyplot as plt\n",
    "import datetime\n",
    "import time\n",
    "from pandas.plotting import lag_plot\n",
    "from pandas.plotting import autocorrelation_plot\n",
    "from sklearn.metrics import mean_absolute_error\n",
    "from sklearn.metrics import mean_squared_error \n",
    "from math import sqrt\n",
    "from numpy import hstack\n",
    "from keras.models import Sequential\n",
    "from keras.layers import LSTM\n",
    "from keras.layers import Dense\n",
    "from keras.layers import Flatten\n",
    "from keras.layers.convolutional import Conv1D\n",
    "from keras.layers.convolutional import MaxPooling1D\n",
    "import warnings \n",
    "warnings.filterwarnings('ignore')\n",
    "from sklearn.model_selection import train_test_split\n",
    "from keras.layers import RepeatVector\n",
    "from keras.layers import TimeDistributed\n",
    "from keras import metrics\n",
    "\n"
   ]
  },
  {
   "cell_type": "markdown",
   "metadata": {},
   "source": [
    "### Load data"
   ]
  },
  {
   "cell_type": "code",
   "execution_count": 2,
   "metadata": {},
   "outputs": [],
   "source": [
    "data = pd.read_csv('/Users/alket/Desktop/dati/new_data_backfill_forwfill.csv',index_col = 0)\n",
    "#data = pd.read_csv('/Users/alket/Desktop/dati/new_data_Modena_backfill_forwfill.csv',index_col = 0)\n",
    "# aggregazione dati per celle\n",
    "agg_by_cell = data.groupby(by = ['cell_num'])"
   ]
  },
  {
   "cell_type": "code",
   "execution_count": 3,
   "metadata": {},
   "outputs": [],
   "source": [
    "num_data = []\n",
    "## prepare dataset\n",
    "for i, k in agg_by_cell:\n",
    "    cell_i = agg_by_cell.get_group(i)\n",
    "    # define input sequence\n",
    "    series_i = cell_i['nr_people'].values\n",
    "    series_i = series_i.reshape((len(series_i), 1))\n",
    "    num_data.append(series_i)"
   ]
  },
  {
   "cell_type": "code",
   "execution_count": 4,
   "metadata": {},
   "outputs": [
    {
     "data": {
      "text/plain": [
       "(11808, 221)"
      ]
     },
     "execution_count": 4,
     "metadata": {},
     "output_type": "execute_result"
    }
   ],
   "source": [
    "final_data = hstack((num_data))\n",
    "final_data.shape"
   ]
  },
  {
   "cell_type": "markdown",
   "metadata": {},
   "source": [
    "### Prepare input data for LSTM model "
   ]
  },
  {
   "cell_type": "code",
   "execution_count": 5,
   "metadata": {},
   "outputs": [
    {
     "name": "stdout",
     "output_type": "stream",
     "text": [
      "[[ 36.  39.  41. ...  17. 104.  35.]\n",
      " [ 36.  38.  40. ...  17. 106.  36.]\n",
      " [ 34.  36.  38. ...  17. 107.  36.]\n",
      " ...\n",
      " [ 21.  22.  22. ...  17. 102.  34.]\n",
      " [ 20.  21.  22. ...  17. 103.  34.]\n",
      " [ 20.  20.  21. ...  17. 102.  34.]] [[ 19.  20.  20. ...  17. 103.  34.]\n",
      " [ 19.  19.  20. ...  17. 104.  35.]\n",
      " [ 18.  19.  19. ...  17. 103.  34.]\n",
      " ...\n",
      " [ 23.  24.  25. ...  16.  97.  32.]\n",
      " [ 23.  24.  25. ...  16.  97.  32.]\n",
      " [ 27.  29.  30. ...  18. 102.  34.]]\n",
      "[[ 36.  38.  40. ...  17. 106.  36.]\n",
      " [ 34.  36.  38. ...  17. 107.  36.]\n",
      " [ 33.  35.  37. ...  17. 106.  35.]\n",
      " ...\n",
      " [ 20.  21.  22. ...  17. 103.  34.]\n",
      " [ 20.  20.  21. ...  17. 102.  34.]\n",
      " [ 19.  20.  20. ...  17. 103.  34.]] [[ 19.  19.  20. ...  17. 104.  35.]\n",
      " [ 18.  19.  19. ...  17. 103.  34.]\n",
      " [ 18.  18.  19. ...  17. 102.  34.]\n",
      " ...\n",
      " [ 23.  24.  25. ...  16.  97.  32.]\n",
      " [ 27.  29.  30. ...  18. 102.  34.]\n",
      " [ 27.  29.  31. ...  17.  99.  33.]]\n"
     ]
    }
   ],
   "source": [
    "# split a multivariate sequence into samples\n",
    "def split_sequences(sequences, n_steps_in, n_steps_out):\n",
    "    X, y = list(), list()\n",
    "    for i in range(len(sequences)):\n",
    "        # find the end of this pattern\n",
    "    \n",
    "        end_ix = i + n_steps_in\n",
    "        out_end_ix = end_ix + n_steps_out\n",
    "        # check if we are beyond the dataset\n",
    "        if out_end_ix > len(sequences):\n",
    "            break\n",
    "        # gather input and output parts of the pattern\n",
    "        seq_x, seq_y = sequences[i:end_ix, :], sequences[end_ix:out_end_ix, :]\n",
    "        X.append(seq_x)\n",
    "        y.append(seq_y)\n",
    "    return np.array(X), np.array(y)\n",
    "\n",
    "# choose a number of time steps\n",
    "# length of input should be equal to length of output otherwise learning becomes instable\n",
    "n_steps_in, n_steps_out = 20, 20\n",
    "\n",
    "# covert into input/output\n",
    "X, y = split_sequences(final_data, n_steps_in, n_steps_out)\n",
    "count = 0\n",
    "for i in range(len(X)):\n",
    "    count += 1\n",
    "    print(X[i], y[i]) \n",
    "    if count > 1: break\n",
    "    "
   ]
  },
  {
   "cell_type": "markdown",
   "metadata": {},
   "source": [
    "### Prepare train-test set"
   ]
  },
  {
   "cell_type": "code",
   "execution_count": 6,
   "metadata": {},
   "outputs": [
    {
     "name": "stdout",
     "output_type": "stream",
     "text": [
      "8826 8826 2943 2943\n"
     ]
    }
   ],
   "source": [
    "split_train_test = int(len(X)*0.75)\n",
    "train_X, test_X = X[:split_train_test], X[split_train_test:]\n",
    "train_y, test_y = y[:split_train_test], y[split_train_test:]\n",
    "print(len(train_X), len(train_y), len(test_X), len(test_y))"
   ]
  },
  {
   "cell_type": "markdown",
   "metadata": {},
   "source": [
    "### Define LSTM model"
   ]
  },
  {
   "cell_type": "code",
   "execution_count": 15,
   "metadata": {
    "scrolled": true
   },
   "outputs": [
    {
     "name": "stdout",
     "output_type": "stream",
     "text": [
      "Train on 5913 samples, validate on 2913 samples\n",
      "Epoch 1/10\n",
      "5913/5913 [==============================] - 12s 2ms/step - loss: 717433.8791 - mean_absolute_error: 486.4890 - accuracy: 0.2418 - val_loss: 25978.7155 - val_mean_absolute_error: 117.6589 - val_accuracy: 0.4836\n",
      "Epoch 2/10\n",
      "5913/5913 [==============================] - 12s 2ms/step - loss: 14747.3421 - mean_absolute_error: 84.0586 - accuracy: 0.6992 - val_loss: 9608.1263 - val_mean_absolute_error: 68.7709 - val_accuracy: 0.4533\n",
      "Epoch 3/10\n",
      "5913/5913 [==============================] - 12s 2ms/step - loss: 8031.0799 - mean_absolute_error: 60.0397 - accuracy: 0.7496 - val_loss: 6891.0541 - val_mean_absolute_error: 56.1446 - val_accuracy: 0.4654\n",
      "Epoch 4/10\n",
      "5913/5913 [==============================] - 12s 2ms/step - loss: 6675.4413 - mean_absolute_error: 52.8534 - accuracy: 0.7887 - val_loss: 6647.5072 - val_mean_absolute_error: 53.7509 - val_accuracy: 0.4462\n",
      "Epoch 5/10\n",
      "5913/5913 [==============================] - 13s 2ms/step - loss: 5972.9549 - mean_absolute_error: 49.8586 - accuracy: 0.8095 - val_loss: 6031.6580 - val_mean_absolute_error: 51.7799 - val_accuracy: 0.4402\n",
      "Epoch 6/10\n",
      "5913/5913 [==============================] - 13s 2ms/step - loss: 5173.5896 - mean_absolute_error: 45.4501 - accuracy: 0.8449 - val_loss: 5149.6453 - val_mean_absolute_error: 47.0206 - val_accuracy: 0.4382\n",
      "Epoch 7/10\n",
      "5913/5913 [==============================] - 13s 2ms/step - loss: 3737.2007 - mean_absolute_error: 37.8226 - accuracy: 0.8579 - val_loss: 3916.0651 - val_mean_absolute_error: 39.0491 - val_accuracy: 0.4344\n",
      "Epoch 8/10\n",
      "5913/5913 [==============================] - 13s 2ms/step - loss: 4023.3136 - mean_absolute_error: 38.4349 - accuracy: 0.8631 - val_loss: 4991.2132 - val_mean_absolute_error: 44.5154 - val_accuracy: 0.4347\n",
      "Epoch 9/10\n",
      "5913/5913 [==============================] - 13s 2ms/step - loss: 3995.6151 - mean_absolute_error: 38.2618 - accuracy: 0.8463 - val_loss: 3580.2006 - val_mean_absolute_error: 37.0911 - val_accuracy: 0.4391\n",
      "Epoch 10/10\n",
      "5913/5913 [==============================] - 13s 2ms/step - loss: 2916.3507 - mean_absolute_error: 31.5163 - accuracy: 0.8497 - val_loss: 2917.3050 - val_mean_absolute_error: 32.3204 - val_accuracy: 0.4641\n"
     ]
    }
   ],
   "source": [
    "# the dataset knows the number of features, e.g. 2\n",
    "n_features = X.shape[2]\n",
    "\n",
    "# define model\n",
    "model = Sequential()\n",
    "model.add(LSTM(200, activation='relu', input_shape=(n_steps_in, n_features))) \n",
    "model.add(RepeatVector(n_steps_out))\n",
    "model.add(LSTM(200, activation='relu', return_sequences=True)) \n",
    "model.add(TimeDistributed(Dense(n_features)))\n",
    "model.compile(optimizer='adam', loss='mse',  metrics=[metrics.mae, 'accuracy'])\n",
    "\n",
    "# fit model\n",
    "#model.fit(train_X, train_y, epochs=15, verbose=2)\n",
    "history = model.fit(train_X, train_y, validation_split=0.33, epochs=10, verbose=1) "
   ]
  },
  {
   "cell_type": "code",
   "execution_count": 16,
   "metadata": {},
   "outputs": [
    {
     "name": "stdout",
     "output_type": "stream",
     "text": [
      "dict_keys(['val_loss', 'val_mean_absolute_error', 'val_accuracy', 'loss', 'mean_absolute_error', 'accuracy'])\n"
     ]
    },
    {
     "data": {
      "image/png": "[encoded data removed]",
      "text/plain": [
       "<Figure size 1008x288 with 1 Axes>"
      ]
     },
     "metadata": {
      "needs_background": "light"
     },
     "output_type": "display_data"
    },
    {
     "data": {
      "image/png": "[encoded data removed]",
      "text/plain": [
       "<Figure size 1008x288 with 1 Axes>"
      ]
     },
     "metadata": {
      "needs_background": "light"
     },
     "output_type": "display_data"
    }
   ],
   "source": [
    "# list all data in history\n",
    "print(history.history.keys())\n",
    "\n",
    "# summarize history for accuracy\n",
    "plt.figure(figsize = (14, 4))\n",
    "plt.plot(history.history['accuracy'])\n",
    "plt.plot(history.history['val_accuracy'])\n",
    "plt.title('model accuracy')\n",
    "plt.ylabel('accuracy')\n",
    "plt.xlabel('epoch')\n",
    "plt.legend(['train', 'test'], loc='upper left') \n",
    "plt.show()\n",
    "\n",
    "# summarize history for loss\n",
    "plt.figure(figsize = (14, 4))\n",
    "plt.plot(history.history['loss']) \n",
    "plt.plot(history.history['val_loss']) \n",
    "plt.title('model loss')\n",
    "plt.ylabel('loss')\n",
    "plt.xlabel('epoch')\n",
    "plt.legend(['train', 'test'], loc='upper left') \n",
    "plt.show()"
   ]
  },
  {
   "cell_type": "code",
   "execution_count": 17,
   "metadata": {},
   "outputs": [],
   "source": [
    "# predict and compute error\n",
    "predicted = np.array([])\n",
    "\n",
    "for i in range(len(test_X)):\n",
    "    x_input = test_X[i].reshape((1, n_steps_in, n_features))\n",
    "    yhat = model.predict(x_input, verbose=0)\n",
    "    #print(yhat[0])\n",
    "    predicted = np.append(predicted, yhat[0]) \n",
    "\n",
    "\n",
    "expected = test_y\n",
    "\n",
    "expected = np.reshape(expected, expected.shape[0] * expected.shape[1]* expected.shape[2])"
   ]
  },
  {
   "cell_type": "code",
   "execution_count": 18,
   "metadata": {},
   "outputs": [
    {
     "name": "stdout",
     "output_type": "stream",
     "text": [
      "Mean Absolute Error =  33.00794023668252\n"
     ]
    },
    {
     "data": {
      "image/png": "[encoded data removed]",
      "text/plain": [
       "<Figure size 1008x144 with 1 Axes>"
      ]
     },
     "metadata": {
      "needs_background": "light"
     },
     "output_type": "display_data"
    }
   ],
   "source": [
    "# abs difference\n",
    "difference = abs((expected - predicted))\n",
    "print('Mean Absolute Error = ', np.mean(difference))\n",
    "\n",
    "\n",
    "# show boxplot\n",
    "plt.figure(figsize = (14,2))\n",
    "plt.boxplot(difference, vert= False);\n",
    "plt.show()"
   ]
  },
  {
   "cell_type": "code",
   "execution_count": null,
   "metadata": {},
   "outputs": [],
   "source": []
  },
  {
   "cell_type": "code",
   "execution_count": null,
   "metadata": {},
   "outputs": [],
   "source": []
  },
  {
   "cell_type": "code",
   "execution_count": null,
   "metadata": {},
   "outputs": [],
   "source": []
  }
 ],
 "metadata": {
  "kernelspec": {
   "display_name": "Python 3",
   "language": "python",
   "name": "python3"
  },
  "language_info": {
   "codemirror_mode": {
    "name": "ipython",
    "version": 3
   },
   "file_extension": ".py",
   "mimetype": "text/x-python",
   "name": "python",
   "nbconvert_exporter": "python",
   "pygments_lexer": "ipython3",
   "version": "3.7.4"
  }
 },
 "nbformat": 4,
 "nbformat_minor": 2
}
