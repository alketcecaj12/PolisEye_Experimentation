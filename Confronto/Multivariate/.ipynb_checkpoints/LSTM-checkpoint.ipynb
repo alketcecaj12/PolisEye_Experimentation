{
 "cells": [
  {
   "cell_type": "markdown",
   "metadata": {},
   "source": [
    "### LSTM for multivariate, multistep forecast"
   ]
  },
  {
   "cell_type": "code",
   "execution_count": 1,
   "metadata": {},
   "outputs": [
    {
     "name": "stderr",
     "output_type": "stream",
     "text": [
      "Using TensorFlow backend.\n",
      "/Users/alket/anaconda3/lib/python3.7/site-packages/tensorflow/python/framework/dtypes.py:516: FutureWarning: Passing (type, 1) or '1type' as a synonym of type is deprecated; in a future version of numpy, it will be understood as (type, (1,)) / '(1,)type'.\n",
      "  _np_qint8 = np.dtype([(\"qint8\", np.int8, 1)])\n",
      "/Users/alket/anaconda3/lib/python3.7/site-packages/tensorflow/python/framework/dtypes.py:517: FutureWarning: Passing (type, 1) or '1type' as a synonym of type is deprecated; in a future version of numpy, it will be understood as (type, (1,)) / '(1,)type'.\n",
      "  _np_quint8 = np.dtype([(\"quint8\", np.uint8, 1)])\n",
      "/Users/alket/anaconda3/lib/python3.7/site-packages/tensorflow/python/framework/dtypes.py:518: FutureWarning: Passing (type, 1) or '1type' as a synonym of type is deprecated; in a future version of numpy, it will be understood as (type, (1,)) / '(1,)type'.\n",
      "  _np_qint16 = np.dtype([(\"qint16\", np.int16, 1)])\n",
      "/Users/alket/anaconda3/lib/python3.7/site-packages/tensorflow/python/framework/dtypes.py:519: FutureWarning: Passing (type, 1) or '1type' as a synonym of type is deprecated; in a future version of numpy, it will be understood as (type, (1,)) / '(1,)type'.\n",
      "  _np_quint16 = np.dtype([(\"quint16\", np.uint16, 1)])\n",
      "/Users/alket/anaconda3/lib/python3.7/site-packages/tensorflow/python/framework/dtypes.py:520: FutureWarning: Passing (type, 1) or '1type' as a synonym of type is deprecated; in a future version of numpy, it will be understood as (type, (1,)) / '(1,)type'.\n",
      "  _np_qint32 = np.dtype([(\"qint32\", np.int32, 1)])\n",
      "/Users/alket/anaconda3/lib/python3.7/site-packages/tensorflow/python/framework/dtypes.py:525: FutureWarning: Passing (type, 1) or '1type' as a synonym of type is deprecated; in a future version of numpy, it will be understood as (type, (1,)) / '(1,)type'.\n",
      "  np_resource = np.dtype([(\"resource\", np.ubyte, 1)])\n",
      "/Users/alket/anaconda3/lib/python3.7/site-packages/tensorboard/compat/tensorflow_stub/dtypes.py:541: FutureWarning: Passing (type, 1) or '1type' as a synonym of type is deprecated; in a future version of numpy, it will be understood as (type, (1,)) / '(1,)type'.\n",
      "  _np_qint8 = np.dtype([(\"qint8\", np.int8, 1)])\n",
      "/Users/alket/anaconda3/lib/python3.7/site-packages/tensorboard/compat/tensorflow_stub/dtypes.py:542: FutureWarning: Passing (type, 1) or '1type' as a synonym of type is deprecated; in a future version of numpy, it will be understood as (type, (1,)) / '(1,)type'.\n",
      "  _np_quint8 = np.dtype([(\"quint8\", np.uint8, 1)])\n",
      "/Users/alket/anaconda3/lib/python3.7/site-packages/tensorboard/compat/tensorflow_stub/dtypes.py:543: FutureWarning: Passing (type, 1) or '1type' as a synonym of type is deprecated; in a future version of numpy, it will be understood as (type, (1,)) / '(1,)type'.\n",
      "  _np_qint16 = np.dtype([(\"qint16\", np.int16, 1)])\n",
      "/Users/alket/anaconda3/lib/python3.7/site-packages/tensorboard/compat/tensorflow_stub/dtypes.py:544: FutureWarning: Passing (type, 1) or '1type' as a synonym of type is deprecated; in a future version of numpy, it will be understood as (type, (1,)) / '(1,)type'.\n",
      "  _np_quint16 = np.dtype([(\"quint16\", np.uint16, 1)])\n",
      "/Users/alket/anaconda3/lib/python3.7/site-packages/tensorboard/compat/tensorflow_stub/dtypes.py:545: FutureWarning: Passing (type, 1) or '1type' as a synonym of type is deprecated; in a future version of numpy, it will be understood as (type, (1,)) / '(1,)type'.\n",
      "  _np_qint32 = np.dtype([(\"qint32\", np.int32, 1)])\n",
      "/Users/alket/anaconda3/lib/python3.7/site-packages/tensorboard/compat/tensorflow_stub/dtypes.py:550: FutureWarning: Passing (type, 1) or '1type' as a synonym of type is deprecated; in a future version of numpy, it will be understood as (type, (1,)) / '(1,)type'.\n",
      "  np_resource = np.dtype([(\"resource\", np.ubyte, 1)])\n"
     ]
    }
   ],
   "source": [
    "import pandas as pd\n",
    "import numpy as np\n",
    "import matplotlib.pyplot as plt\n",
    "import datetime\n",
    "import time\n",
    "from pandas.plotting import lag_plot\n",
    "from pandas.plotting import autocorrelation_plot\n",
    "from sklearn.metrics import mean_absolute_error\n",
    "from sklearn.metrics import mean_squared_error \n",
    "from math import sqrt\n",
    "from numpy import hstack\n",
    "from keras.models import Sequential\n",
    "from keras.layers import LSTM\n",
    "from keras.layers import Dense\n",
    "from keras.layers import Flatten\n",
    "from keras.layers.convolutional import Conv1D\n",
    "from keras.layers.convolutional import MaxPooling1D\n",
    "import warnings \n",
    "warnings.filterwarnings('ignore')\n",
    "from sklearn.model_selection import train_test_split\n",
    "from keras.layers import RepeatVector\n",
    "from keras.layers import TimeDistributed\n",
    "from keras import metrics\n",
    "\n"
   ]
  },
  {
   "cell_type": "markdown",
   "metadata": {},
   "source": [
    "### Load data"
   ]
  },
  {
   "cell_type": "code",
   "execution_count": 2,
   "metadata": {},
   "outputs": [],
   "source": [
    "data = pd.read_csv('/Users/alket/Desktop/dati/new_data_backfill_forwfill.csv',index_col = 0)\n",
    "#data = pd.read_csv('/Users/alket/Desktop/dati/new_data_Modena_backfill_forwfill.csv',index_col = 0)\n",
    "# aggregazione dati per celle\n",
    "agg_by_cell = data.groupby(by = ['cell_num'])"
   ]
  },
  {
   "cell_type": "code",
   "execution_count": 3,
   "metadata": {},
   "outputs": [],
   "source": [
    "num_data = []\n",
    "## prepare dataset\n",
    "for i, k in agg_by_cell:\n",
    "    cell_i = agg_by_cell.get_group(i)\n",
    "    # define input sequence\n",
    "    series_i = cell_i['nr_people'].values\n",
    "    series_i = series_i.reshape((len(series_i), 1))\n",
    "    num_data.append(series_i)"
   ]
  },
  {
   "cell_type": "code",
   "execution_count": 4,
   "metadata": {},
   "outputs": [
    {
     "data": {
      "text/plain": [
       "(11808, 221)"
      ]
     },
     "execution_count": 4,
     "metadata": {},
     "output_type": "execute_result"
    }
   ],
   "source": [
    "final_data = hstack((num_data))\n",
    "final_data.shape"
   ]
  },
  {
   "cell_type": "markdown",
   "metadata": {},
   "source": [
    "### Prepare input data for LSTM model "
   ]
  },
  {
   "cell_type": "code",
   "execution_count": 5,
   "metadata": {},
   "outputs": [
    {
     "name": "stdout",
     "output_type": "stream",
     "text": [
      "[[ 36.  39.  41. ...  17. 104.  35.]\n",
      " [ 36.  38.  40. ...  17. 106.  36.]\n",
      " [ 34.  36.  38. ...  17. 107.  36.]\n",
      " ...\n",
      " [ 21.  22.  22. ...  17. 102.  34.]\n",
      " [ 20.  21.  22. ...  17. 103.  34.]\n",
      " [ 20.  20.  21. ...  17. 102.  34.]] [[ 19.  20.  20. ...  17. 103.  34.]\n",
      " [ 19.  19.  20. ...  17. 104.  35.]\n",
      " [ 18.  19.  19. ...  17. 103.  34.]\n",
      " ...\n",
      " [ 23.  24.  25. ...  16.  97.  32.]\n",
      " [ 23.  24.  25. ...  16.  97.  32.]\n",
      " [ 27.  29.  30. ...  18. 102.  34.]]\n",
      "[[ 36.  38.  40. ...  17. 106.  36.]\n",
      " [ 34.  36.  38. ...  17. 107.  36.]\n",
      " [ 33.  35.  37. ...  17. 106.  35.]\n",
      " ...\n",
      " [ 20.  21.  22. ...  17. 103.  34.]\n",
      " [ 20.  20.  21. ...  17. 102.  34.]\n",
      " [ 19.  20.  20. ...  17. 103.  34.]] [[ 19.  19.  20. ...  17. 104.  35.]\n",
      " [ 18.  19.  19. ...  17. 103.  34.]\n",
      " [ 18.  18.  19. ...  17. 102.  34.]\n",
      " ...\n",
      " [ 23.  24.  25. ...  16.  97.  32.]\n",
      " [ 27.  29.  30. ...  18. 102.  34.]\n",
      " [ 27.  29.  31. ...  17.  99.  33.]]\n"
     ]
    }
   ],
   "source": [
    "# split a multivariate sequence into samples\n",
    "def split_sequences(sequences, n_steps_in, n_steps_out):\n",
    "    X, y = list(), list()\n",
    "    for i in range(len(sequences)):\n",
    "        # find the end of this pattern\n",
    "    \n",
    "        end_ix = i + n_steps_in\n",
    "        out_end_ix = end_ix + n_steps_out\n",
    "        # check if we are beyond the dataset\n",
    "        if out_end_ix > len(sequences):\n",
    "            break\n",
    "        # gather input and output parts of the pattern\n",
    "        seq_x, seq_y = sequences[i:end_ix, :], sequences[end_ix:out_end_ix, :]\n",
    "        X.append(seq_x)\n",
    "        y.append(seq_y)\n",
    "    return np.array(X), np.array(y)\n",
    "\n",
    "# choose a number of time steps\n",
    "# length of input should be equal to length of output otherwise learning becomes instable\n",
    "n_steps_in, n_steps_out = 20, 20\n",
    "\n",
    "# covert into input/output\n",
    "X, y = split_sequences(final_data, n_steps_in, n_steps_out)\n",
    "count = 0\n",
    "for i in range(len(X)):\n",
    "    count += 1\n",
    "    print(X[i], y[i]) \n",
    "    if count > 1: break\n",
    "    "
   ]
  },
  {
   "cell_type": "markdown",
   "metadata": {},
   "source": [
    "### Prepare train-test set"
   ]
  },
  {
   "cell_type": "code",
   "execution_count": 6,
   "metadata": {},
   "outputs": [
    {
     "name": "stdout",
     "output_type": "stream",
     "text": [
      "8826 8826 2943 2943\n"
     ]
    }
   ],
   "source": [
    "split_train_test = int(len(X)*0.75)\n",
    "train_X, test_X = X[:split_train_test], X[split_train_test:]\n",
    "train_y, test_y = y[:split_train_test], y[split_train_test:]\n",
    "print(len(train_X), len(train_y), len(test_X), len(test_y))"
   ]
  },
  {
   "cell_type": "markdown",
   "metadata": {},
   "source": [
    "### Define LSTM model"
   ]
  },
  {
   "cell_type": "code",
   "execution_count": 8,
   "metadata": {
    "scrolled": true
   },
   "outputs": [
    {
     "name": "stdout",
     "output_type": "stream",
     "text": [
      "Epoch 1/80\n",
      " - 13s - loss: 286203.2118 - mean_absolute_error: 282.7239 - accuracy: 0.2548\n",
      "Epoch 2/80\n",
      " - 11s - loss: 7522.2431 - mean_absolute_error: 52.7603 - accuracy: 0.5000\n",
      "Epoch 3/80\n",
      " - 13s - loss: 6180.8523 - mean_absolute_error: 46.1361 - accuracy: 0.5468\n",
      "Epoch 4/80\n",
      " - 12s - loss: 7839.3137 - mean_absolute_error: 48.6607 - accuracy: 0.5722\n",
      "Epoch 5/80\n",
      " - 12s - loss: 5511.8822 - mean_absolute_error: 41.4962 - accuracy: 0.6391\n",
      "Epoch 6/80\n",
      " - 12s - loss: 4479.6138 - mean_absolute_error: 35.3336 - accuracy: 0.6938\n",
      "Epoch 7/80\n",
      " - 11s - loss: 3777.0701 - mean_absolute_error: 31.6481 - accuracy: 0.7115\n",
      "Epoch 8/80\n",
      " - 11s - loss: 3285.1811 - mean_absolute_error: 29.2226 - accuracy: 0.7239\n",
      "Epoch 9/80\n",
      " - 13s - loss: 3242.2650 - mean_absolute_error: 27.8002 - accuracy: 0.7230\n",
      "Epoch 10/80\n",
      " - 12s - loss: 3816.0074 - mean_absolute_error: 30.8647 - accuracy: 0.6632\n",
      "Epoch 11/80\n",
      " - 13s - loss: 2726.3898 - mean_absolute_error: 26.9507 - accuracy: 0.7031\n",
      "Epoch 12/80\n",
      " - 12s - loss: 2353.0502 - mean_absolute_error: 24.6238 - accuracy: 0.7257\n",
      "Epoch 13/80\n",
      " - 12s - loss: 2193.6556 - mean_absolute_error: 23.6603 - accuracy: 0.7270\n",
      "Epoch 14/80\n",
      " - 12s - loss: 2092.8787 - mean_absolute_error: 23.0525 - accuracy: 0.7269\n",
      "Epoch 15/80\n",
      " - 12s - loss: 1953.4683 - mean_absolute_error: 22.2876 - accuracy: 0.7271\n",
      "Epoch 16/80\n",
      " - 12s - loss: 1949.2749 - mean_absolute_error: 22.1120 - accuracy: 0.7265\n",
      "Epoch 17/80\n",
      " - 12s - loss: 3092.0143 - mean_absolute_error: 27.2886 - accuracy: 0.7229\n",
      "Epoch 18/80\n",
      " - 12s - loss: 1760.3891 - mean_absolute_error: 21.7956 - accuracy: 0.7263\n",
      "Epoch 19/80\n",
      " - 12s - loss: 1466.2327 - mean_absolute_error: 19.9183 - accuracy: 0.7271\n",
      "Epoch 20/80\n",
      " - 12s - loss: 1479.4738 - mean_absolute_error: 19.9964 - accuracy: 0.7270\n",
      "Epoch 21/80\n",
      " - 11s - loss: 1359.6942 - mean_absolute_error: 19.3440 - accuracy: 0.7269\n",
      "Epoch 22/80\n",
      " - 12s - loss: 1300.6900 - mean_absolute_error: 18.7831 - accuracy: 0.7256\n",
      "Epoch 23/80\n",
      " - 12s - loss: 1298.7443 - mean_absolute_error: 18.5565 - accuracy: 0.7233\n",
      "Epoch 24/80\n",
      " - 12s - loss: 1453.0854 - mean_absolute_error: 19.2884 - accuracy: 0.7266\n",
      "Epoch 25/80\n",
      " - 12s - loss: 1322.6734 - mean_absolute_error: 18.7767 - accuracy: 0.7270\n",
      "Epoch 26/80\n",
      " - 13s - loss: 1241.3778 - mean_absolute_error: 18.0863 - accuracy: 0.7265\n",
      "Epoch 27/80\n",
      " - 12s - loss: 1247.2575 - mean_absolute_error: 18.1629 - accuracy: 0.7267\n",
      "Epoch 28/80\n",
      " - 12s - loss: 1223.5656 - mean_absolute_error: 17.9611 - accuracy: 0.7265\n",
      "Epoch 29/80\n",
      " - 11s - loss: 1186.6407 - mean_absolute_error: 17.6304 - accuracy: 0.7262\n",
      "Epoch 30/80\n",
      " - 12s - loss: 1172.5011 - mean_absolute_error: 17.5495 - accuracy: 0.7250\n",
      "Epoch 31/80\n",
      " - 12s - loss: 1187.8572 - mean_absolute_error: 17.6974 - accuracy: 0.7250\n",
      "Epoch 32/80\n",
      " - 11s - loss: 1151.3952 - mean_absolute_error: 17.3982 - accuracy: 0.7250\n",
      "Epoch 33/80\n",
      " - 14s - loss: 1117.8944 - mean_absolute_error: 17.0152 - accuracy: 0.7256\n",
      "Epoch 34/80\n",
      " - 13s - loss: 1080.0246 - mean_absolute_error: 16.5320 - accuracy: 0.7267\n",
      "Epoch 35/80\n",
      " - 14s - loss: 1087.9704 - mean_absolute_error: 16.5668 - accuracy: 0.7283\n",
      "Epoch 36/80\n",
      " - 13s - loss: 1055.2062 - mean_absolute_error: 16.2863 - accuracy: 0.7274\n",
      "Epoch 37/80\n",
      " - 12s - loss: 1028.4605 - mean_absolute_error: 16.0783 - accuracy: 0.7281\n",
      "Epoch 38/80\n",
      " - 12s - loss: 1010.0043 - mean_absolute_error: 15.9034 - accuracy: 0.7288\n",
      "Epoch 39/80\n",
      " - 12s - loss: 1001.4784 - mean_absolute_error: 15.8472 - accuracy: 0.7318\n",
      "Epoch 40/80\n",
      " - 12s - loss: 991.3132 - mean_absolute_error: 15.7012 - accuracy: 0.7344\n",
      "Epoch 41/80\n",
      " - 12s - loss: 967.1194 - mean_absolute_error: 15.5210 - accuracy: 0.7347\n",
      "Epoch 42/80\n",
      " - 13s - loss: 956.3014 - mean_absolute_error: 15.4648 - accuracy: 0.7385\n",
      "Epoch 43/80\n",
      " - 16s - loss: 939.9402 - mean_absolute_error: 15.2668 - accuracy: 0.7416\n",
      "Epoch 44/80\n",
      " - 15s - loss: 927.0352 - mean_absolute_error: 15.1419 - accuracy: 0.7441\n",
      "Epoch 45/80\n",
      " - 14s - loss: 909.8667 - mean_absolute_error: 15.0303 - accuracy: 0.7504\n",
      "Epoch 46/80\n",
      " - 13s - loss: 901.0343 - mean_absolute_error: 14.9865 - accuracy: 0.7507\n",
      "Epoch 47/80\n",
      " - 13s - loss: 895.9530 - mean_absolute_error: 14.9834 - accuracy: 0.7509\n",
      "Epoch 48/80\n",
      " - 11s - loss: 877.8466 - mean_absolute_error: 14.7406 - accuracy: 0.7551\n",
      "Epoch 49/80\n",
      " - 11s - loss: 857.2486 - mean_absolute_error: 14.5195 - accuracy: 0.7579\n",
      "Epoch 50/80\n",
      " - 14s - loss: 868.0090 - mean_absolute_error: 14.7020 - accuracy: 0.7580\n",
      "Epoch 51/80\n",
      " - 13s - loss: 866.1606 - mean_absolute_error: 14.6685 - accuracy: 0.7633\n",
      "Epoch 52/80\n",
      " - 12s - loss: 846.8419 - mean_absolute_error: 14.4272 - accuracy: 0.7644\n",
      "Epoch 53/80\n",
      " - 13s - loss: 816.2529 - mean_absolute_error: 14.2457 - accuracy: 0.7687\n",
      "Epoch 54/80\n",
      " - 12s - loss: 804.5410 - mean_absolute_error: 14.1471 - accuracy: 0.7691\n",
      "Epoch 55/80\n",
      " - 12s - loss: 759.3713 - mean_absolute_error: 13.6286 - accuracy: 0.7727\n",
      "Epoch 56/80\n",
      " - 12s - loss: 768.6276 - mean_absolute_error: 13.8108 - accuracy: 0.7717\n",
      "Epoch 57/80\n",
      " - 12s - loss: 743.4605 - mean_absolute_error: 13.5438 - accuracy: 0.7769\n",
      "Epoch 58/80\n",
      " - 12s - loss: 744.6043 - mean_absolute_error: 13.5385 - accuracy: 0.7786\n",
      "Epoch 59/80\n",
      " - 14s - loss: 730.3349 - mean_absolute_error: 13.3696 - accuracy: 0.7811\n",
      "Epoch 60/80\n",
      " - 11s - loss: 710.9482 - mean_absolute_error: 13.1392 - accuracy: 0.7874\n",
      "Epoch 61/80\n",
      " - 12s - loss: 692.1478 - mean_absolute_error: 12.8796 - accuracy: 0.7867\n",
      "Epoch 62/80\n",
      " - 12s - loss: 686.5265 - mean_absolute_error: 12.7988 - accuracy: 0.7896\n",
      "Epoch 63/80\n",
      " - 12s - loss: 670.8129 - mean_absolute_error: 12.6099 - accuracy: 0.7924\n",
      "Epoch 64/80\n",
      " - 12s - loss: 661.8716 - mean_absolute_error: 12.5428 - accuracy: 0.7940\n",
      "Epoch 65/80\n",
      " - 11s - loss: 660.0205 - mean_absolute_error: 12.5558 - accuracy: 0.7969\n",
      "Epoch 66/80\n",
      " - 12s - loss: 642.4747 - mean_absolute_error: 12.3550 - accuracy: 0.8000\n",
      "Epoch 67/80\n",
      " - 12s - loss: 650.6110 - mean_absolute_error: 12.5094 - accuracy: 0.8026\n",
      "Epoch 68/80\n",
      " - 12s - loss: 647.1166 - mean_absolute_error: 12.4844 - accuracy: 0.8045\n",
      "Epoch 69/80\n",
      " - 12s - loss: 648.1817 - mean_absolute_error: 12.5257 - accuracy: 0.8069\n",
      "Epoch 70/80\n",
      " - 12s - loss: 644.7437 - mean_absolute_error: 12.4787 - accuracy: 0.8091\n",
      "Epoch 71/80\n",
      " - 12s - loss: 633.1675 - mean_absolute_error: 12.3179 - accuracy: 0.8105\n",
      "Epoch 72/80\n",
      " - 12s - loss: 623.4167 - mean_absolute_error: 12.2626 - accuracy: 0.8103\n",
      "Epoch 73/80\n",
      " - 12s - loss: 613.1994 - mean_absolute_error: 12.1279 - accuracy: 0.8081\n",
      "Epoch 74/80\n",
      " - 12s - loss: 604.2472 - mean_absolute_error: 12.0438 - accuracy: 0.8092\n",
      "Epoch 75/80\n",
      " - 12s - loss: 608.4241 - mean_absolute_error: 12.1360 - accuracy: 0.8116\n",
      "Epoch 76/80\n",
      " - 12s - loss: 622.5469 - mean_absolute_error: 12.2403 - accuracy: 0.8099\n",
      "Epoch 77/80\n",
      " - 13s - loss: 591.9423 - mean_absolute_error: 11.8824 - accuracy: 0.8131\n",
      "Epoch 78/80\n",
      " - 12s - loss: 590.8742 - mean_absolute_error: 11.9262 - accuracy: 0.8140\n",
      "Epoch 79/80\n",
      " - 13s - loss: 604.7423 - mean_absolute_error: 12.0900 - accuracy: 0.8119\n",
      "Epoch 80/80\n",
      " - 12s - loss: 579.8384 - mean_absolute_error: 11.7656 - accuracy: 0.8144\n"
     ]
    },
    {
     "data": {
      "text/plain": [
       "<keras.callbacks.callbacks.History at 0x1a4c55e310>"
      ]
     },
     "execution_count": 8,
     "metadata": {},
     "output_type": "execute_result"
    }
   ],
   "source": [
    "# the dataset knows the number of features, e.g. 2\n",
    "n_features = X.shape[2]\n",
    "\n",
    "# define model\n",
    "model = Sequential()\n",
    "model.add(LSTM(100, activation='relu', input_shape=(n_steps_in, n_features))) \n",
    "model.add(RepeatVector(n_steps_out))\n",
    "model.add(LSTM(100, activation='relu', return_sequences=True)) \n",
    "model.add(TimeDistributed(Dense(n_features)))\n",
    "model.compile(optimizer='adam', loss='mse',  metrics=[metrics.mae, 'accuracy'])\n",
    "\n",
    "# fit model\n",
    "model.fit(train_X, train_y, epochs=80, verbose=2)"
   ]
  },
  {
   "cell_type": "code",
   "execution_count": 9,
   "metadata": {},
   "outputs": [],
   "source": [
    "# predict and compute error\n",
    "predicted = np.array([])\n",
    "\n",
    "for i in range(len(test_X)):\n",
    "    x_input = test_X[i].reshape((1, n_steps_in, n_features))\n",
    "    yhat = model.predict(x_input, verbose=0)\n",
    "    #print(yhat[0])\n",
    "    predicted = np.append(predicted, yhat[0]) \n",
    "\n",
    "\n",
    "expected = test_y\n",
    "\n",
    "expected = np.reshape(expected, expected.shape[0] * expected.shape[1]* expected.shape[2])"
   ]
  },
  {
   "cell_type": "code",
   "execution_count": 10,
   "metadata": {},
   "outputs": [
    {
     "name": "stdout",
     "output_type": "stream",
     "text": [
      "Mean Absolute Error =  13.039410646002418\n"
     ]
    },
    {
     "data": {
      "image/png": "[encoded data removed]",
      "text/plain": [
       "<Figure size 1008x144 with 1 Axes>"
      ]
     },
     "metadata": {
      "needs_background": "light"
     },
     "output_type": "display_data"
    }
   ],
   "source": [
    "# abs difference\n",
    "difference = abs((expected - predicted))\n",
    "print('Mean Absolute Error = ', np.mean(difference))\n",
    "\n",
    "\n",
    "# show boxplot\n",
    "plt.figure(figsize = (14,2))\n",
    "plt.boxplot(difference, vert= False);\n",
    "plt.show()"
   ]
  },
  {
   "cell_type": "code",
   "execution_count": null,
   "metadata": {},
   "outputs": [],
   "source": []
  },
  {
   "cell_type": "code",
   "execution_count": null,
   "metadata": {},
   "outputs": [],
   "source": []
  },
  {
   "cell_type": "code",
   "execution_count": null,
   "metadata": {},
   "outputs": [],
   "source": []
  }
 ],
 "metadata": {
  "kernelspec": {
   "display_name": "Python 3",
   "language": "python",
   "name": "python3"
  },
  "language_info": {
   "codemirror_mode": {
    "name": "ipython",
    "version": 3
   },
   "file_extension": ".py",
   "mimetype": "text/x-python",
   "name": "python",
   "nbconvert_exporter": "python",
   "pygments_lexer": "ipython3",
   "version": "3.7.4"
  }
 },
 "nbformat": 4,
 "nbformat_minor": 2
}
