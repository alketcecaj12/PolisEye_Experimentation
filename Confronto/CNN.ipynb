{
 "cells": [
  {
   "cell_type": "markdown",
   "metadata": {},
   "source": [
    "### CNN for uinivariate, multistep timeseries forecast."
   ]
  },
  {
   "cell_type": "code",
   "execution_count": 28,
   "metadata": {},
   "outputs": [
    {
     "name": "stdout",
     "output_type": "stream",
     "text": [
      "<class 'numpy.ndarray'>\n"
     ]
    }
   ],
   "source": [
    "import pandas as pd\n",
    "import numpy as np\n",
    "import matplotlib.pyplot as plt\n",
    "import datetime\n",
    "import time\n",
    "from pandas.plotting import lag_plot\n",
    "from pandas.plotting import autocorrelation_plot\n",
    "from sklearn.metrics import mean_absolute_error\n",
    "from sklearn.metrics import mean_squared_error \n",
    "from math import sqrt\n",
    "from numpy import hstack\n",
    "from keras.models import Sequential\n",
    "from keras.layers import LSTM\n",
    "from keras.layers import Dense\n",
    "from keras.layers import Flatten\n",
    "from keras.layers.convolutional import Conv1D\n",
    "from keras.layers.convolutional import MaxPooling1D\n",
    "import warnings \n",
    "warnings.filterwarnings('ignore')\n",
    "from sklearn.model_selection import train_test_split\n",
    "from keras import metrics\n",
    "\n",
    "data = pd.read_csv('/Users/alket/Desktop/dati/new_data_backfill_forwfill.csv',index_col = 0)\n",
    "# preparazione dati per due celle\n",
    "agg_by_cell = data.groupby(by = ['cell_num'])\n",
    "one_cell = agg_by_cell.get_group('495-1266')\n",
    "series = one_cell['nr_people'].values\n",
    "print(type(series))"
   ]
  },
  {
   "cell_type": "markdown",
   "metadata": {},
   "source": [
    "### Create input data for CNN "
   ]
  },
  {
   "cell_type": "code",
   "execution_count": 29,
   "metadata": {},
   "outputs": [
    {
     "name": "stdout",
     "output_type": "stream",
     "text": [
      "[326. 330. 321. 320. 318. 318. 321. 317. 318. 318. 316. 312. 312. 312.\n",
      " 309. 306. 304. 306. 307. 308.] [309. 310. 315. 312. 312. 309. 306. 310. 305. 307. 308. 308. 308. 308.\n",
      " 308. 317. 319. 319. 319. 339.]\n",
      "[330. 321. 320. 318. 318. 321. 317. 318. 318. 316. 312. 312. 312. 309.\n",
      " 306. 304. 306. 307. 308. 309.] [310. 315. 312. 312. 309. 306. 310. 305. 307. 308. 308. 308. 308. 308.\n",
      " 317. 319. 319. 319. 339. 328.]\n",
      "[321. 320. 318. 318. 321. 317. 318. 318. 316. 312. 312. 312. 309. 306.\n",
      " 304. 306. 307. 308. 309. 310.] [315. 312. 312. 309. 306. 310. 305. 307. 308. 308. 308. 308. 308. 317.\n",
      " 319. 319. 319. 339. 328. 333.]\n"
     ]
    }
   ],
   "source": [
    "# split a univariate sequence into samples\n",
    "def split_sequence(sequence, n_steps_in, n_steps_out):\n",
    "    X, y = list(), list()\n",
    "    for i in range(len(sequence)):\n",
    "        # find the end of this pattern\n",
    "        end_ix = i + n_steps_in\n",
    "        out_end_ix = end_ix + n_steps_out\n",
    "        # check if we are beyond the sequence\n",
    "        if out_end_ix > len(sequence):\n",
    "            break\n",
    "        # gather input and output parts of the pattern\n",
    "        seq_x, seq_y = sequence[i:end_ix], sequence[end_ix:out_end_ix]\n",
    "        X.append(seq_x)\n",
    "        y.append(seq_y)\n",
    "    return np.array(X), np.array(y)\n",
    "\n",
    "# choose a number of time steps\n",
    "n_steps_in, n_steps_out = 20, 20\n",
    "\n",
    "# split into samples\n",
    "X, y = split_sequence(series, n_steps_in, n_steps_out)\n",
    "\n",
    "count = 0\n",
    "for i in range(len(X)):\n",
    "    print(X[i], y[i])\n",
    "    count += 1\n",
    "    if count > 2: break\n",
    "# reshape from [samples, timesteps] into [samples, timesteps, features]\n",
    "n_features = 1\n",
    "X = X.reshape((X.shape[0], X.shape[1], n_features))\n"
   ]
  },
  {
   "cell_type": "markdown",
   "metadata": {},
   "source": [
    "### Create train-test set"
   ]
  },
  {
   "cell_type": "code",
   "execution_count": 30,
   "metadata": {},
   "outputs": [
    {
     "name": "stdout",
     "output_type": "stream",
     "text": [
      "(8000, 20, 1) (3769, 20, 1)\n"
     ]
    }
   ],
   "source": [
    "train_size = 8000\n",
    "\n",
    "train_X, test_X = X[:train_size], X[train_size:]\n",
    "train_y, test_y= y[:train_size], y[train_size:]\n",
    "print(train_X.shape, test_X.shape)"
   ]
  },
  {
   "cell_type": "markdown",
   "metadata": {},
   "source": [
    "### Define CNN model "
   ]
  },
  {
   "cell_type": "code",
   "execution_count": 32,
   "metadata": {
    "scrolled": true
   },
   "outputs": [
    {
     "name": "stdout",
     "output_type": "stream",
     "text": [
      "Epoch 1/200\n",
      " - 1s - loss: 5272.5757 - mean_absolute_error: 34.9101 - accuracy: 0.0428\n",
      "Epoch 2/200\n",
      " - 1s - loss: 453.3512 - mean_absolute_error: 16.8431 - accuracy: 0.0448\n",
      "Epoch 3/200\n",
      " - 1s - loss: 445.7425 - mean_absolute_error: 16.6319 - accuracy: 0.0484\n",
      "Epoch 4/200\n",
      " - 1s - loss: 424.4163 - mean_absolute_error: 16.1742 - accuracy: 0.0510\n",
      "Epoch 5/200\n",
      " - 1s - loss: 407.7451 - mean_absolute_error: 15.8017 - accuracy: 0.0573\n",
      "Epoch 6/200\n",
      " - 1s - loss: 404.2315 - mean_absolute_error: 15.6729 - accuracy: 0.0490\n",
      "Epoch 7/200\n",
      " - 1s - loss: 394.3446 - mean_absolute_error: 15.4287 - accuracy: 0.0585\n",
      "Epoch 8/200\n",
      " - 1s - loss: 389.7285 - mean_absolute_error: 15.3564 - accuracy: 0.0581\n",
      "Epoch 9/200\n",
      " - 1s - loss: 398.3155 - mean_absolute_error: 15.5274 - accuracy: 0.0608\n",
      "Epoch 10/200\n",
      " - 1s - loss: 378.6909 - mean_absolute_error: 15.0980 - accuracy: 0.0673\n",
      "Epoch 11/200\n",
      " - 1s - loss: 373.6559 - mean_absolute_error: 14.9798 - accuracy: 0.0641\n",
      "Epoch 12/200\n",
      " - 1s - loss: 378.0722 - mean_absolute_error: 15.0699 - accuracy: 0.0697\n",
      "Epoch 13/200\n",
      " - 1s - loss: 377.8491 - mean_absolute_error: 15.0900 - accuracy: 0.0691\n",
      "Epoch 14/200\n",
      " - 1s - loss: 370.8742 - mean_absolute_error: 14.9124 - accuracy: 0.0645\n",
      "Epoch 15/200\n",
      " - 1s - loss: 360.4501 - mean_absolute_error: 14.6635 - accuracy: 0.0728\n",
      "Epoch 16/200\n",
      " - 1s - loss: 372.9379 - mean_absolute_error: 14.9910 - accuracy: 0.0721\n",
      "Epoch 17/200\n",
      " - 1s - loss: 376.6556 - mean_absolute_error: 15.0672 - accuracy: 0.0787\n",
      "Epoch 18/200\n",
      " - 1s - loss: 360.0160 - mean_absolute_error: 14.6927 - accuracy: 0.0714\n",
      "Epoch 19/200\n",
      " - 1s - loss: 355.5595 - mean_absolute_error: 14.5648 - accuracy: 0.0668\n",
      "Epoch 20/200\n",
      " - 1s - loss: 357.7056 - mean_absolute_error: 14.6090 - accuracy: 0.0726\n",
      "Epoch 21/200\n",
      " - 1s - loss: 351.0849 - mean_absolute_error: 14.4873 - accuracy: 0.0744\n",
      "Epoch 22/200\n",
      " - 1s - loss: 356.5572 - mean_absolute_error: 14.6033 - accuracy: 0.0714\n",
      "Epoch 23/200\n",
      " - 1s - loss: 351.1349 - mean_absolute_error: 14.4432 - accuracy: 0.0692\n",
      "Epoch 24/200\n",
      " - 1s - loss: 351.1580 - mean_absolute_error: 14.4661 - accuracy: 0.0737\n",
      "Epoch 25/200\n",
      " - 1s - loss: 349.0268 - mean_absolute_error: 14.4198 - accuracy: 0.0704\n",
      "Epoch 26/200\n",
      " - 1s - loss: 345.5192 - mean_absolute_error: 14.3363 - accuracy: 0.0792\n",
      "Epoch 27/200\n",
      " - 1s - loss: 344.8345 - mean_absolute_error: 14.3092 - accuracy: 0.0773\n",
      "Epoch 28/200\n",
      " - 1s - loss: 341.5491 - mean_absolute_error: 14.2822 - accuracy: 0.0722\n",
      "Epoch 29/200\n",
      " - 1s - loss: 346.0405 - mean_absolute_error: 14.3630 - accuracy: 0.0789\n",
      "Epoch 30/200\n",
      " - 1s - loss: 338.9738 - mean_absolute_error: 14.1860 - accuracy: 0.0711\n",
      "Epoch 31/200\n",
      " - 1s - loss: 349.3523 - mean_absolute_error: 14.4210 - accuracy: 0.0774\n",
      "Epoch 32/200\n",
      " - 1s - loss: 339.2518 - mean_absolute_error: 14.2139 - accuracy: 0.0743\n",
      "Epoch 33/200\n",
      " - 1s - loss: 342.5283 - mean_absolute_error: 14.2796 - accuracy: 0.0791\n",
      "Epoch 34/200\n",
      " - 1s - loss: 339.5845 - mean_absolute_error: 14.1979 - accuracy: 0.0755\n",
      "Epoch 35/200\n",
      " - 1s - loss: 337.3364 - mean_absolute_error: 14.1716 - accuracy: 0.0797\n",
      "Epoch 36/200\n",
      " - 1s - loss: 335.2944 - mean_absolute_error: 14.1082 - accuracy: 0.0812\n",
      "Epoch 37/200\n",
      " - 1s - loss: 333.0314 - mean_absolute_error: 14.0347 - accuracy: 0.0834\n",
      "Epoch 38/200\n",
      " - 1s - loss: 330.6372 - mean_absolute_error: 13.9858 - accuracy: 0.0873\n",
      "Epoch 39/200\n",
      " - 1s - loss: 334.8043 - mean_absolute_error: 14.1223 - accuracy: 0.0849\n",
      "Epoch 40/200\n",
      " - 1s - loss: 328.9380 - mean_absolute_error: 13.9581 - accuracy: 0.0817\n",
      "Epoch 41/200\n",
      " - 1s - loss: 337.1485 - mean_absolute_error: 14.1980 - accuracy: 0.0817\n",
      "Epoch 42/200\n",
      " - 1s - loss: 332.1112 - mean_absolute_error: 14.0481 - accuracy: 0.0873\n",
      "Epoch 43/200\n",
      " - 1s - loss: 334.8711 - mean_absolute_error: 14.1160 - accuracy: 0.0771\n",
      "Epoch 44/200\n",
      " - 1s - loss: 334.8580 - mean_absolute_error: 14.1033 - accuracy: 0.0828\n",
      "Epoch 45/200\n",
      " - 1s - loss: 329.3650 - mean_absolute_error: 13.9775 - accuracy: 0.0834\n",
      "Epoch 46/200\n",
      " - 1s - loss: 338.3692 - mean_absolute_error: 14.2055 - accuracy: 0.0874\n",
      "Epoch 47/200\n",
      " - 1s - loss: 340.3459 - mean_absolute_error: 14.2444 - accuracy: 0.0830\n",
      "Epoch 48/200\n",
      " - 1s - loss: 330.9577 - mean_absolute_error: 14.0105 - accuracy: 0.0831\n",
      "Epoch 49/200\n",
      " - 1s - loss: 329.5367 - mean_absolute_error: 13.9742 - accuracy: 0.0871\n",
      "Epoch 50/200\n",
      " - 1s - loss: 332.6654 - mean_absolute_error: 14.0634 - accuracy: 0.0917\n",
      "Epoch 51/200\n",
      " - 1s - loss: 334.4216 - mean_absolute_error: 14.0945 - accuracy: 0.0854\n",
      "Epoch 52/200\n",
      " - 1s - loss: 324.5324 - mean_absolute_error: 13.8482 - accuracy: 0.0853\n",
      "Epoch 53/200\n",
      " - 1s - loss: 332.3505 - mean_absolute_error: 14.0668 - accuracy: 0.0936\n",
      "Epoch 54/200\n",
      " - 1s - loss: 331.6420 - mean_absolute_error: 14.0315 - accuracy: 0.0884\n",
      "Epoch 55/200\n",
      " - 1s - loss: 325.0799 - mean_absolute_error: 13.8776 - accuracy: 0.0895\n",
      "Epoch 56/200\n",
      " - 1s - loss: 328.2291 - mean_absolute_error: 13.9276 - accuracy: 0.0872\n",
      "Epoch 57/200\n",
      " - 1s - loss: 328.7603 - mean_absolute_error: 13.9491 - accuracy: 0.0953\n",
      "Epoch 58/200\n",
      " - 1s - loss: 321.9772 - mean_absolute_error: 13.7841 - accuracy: 0.0928\n",
      "Epoch 59/200\n",
      " - 1s - loss: 331.1140 - mean_absolute_error: 14.0072 - accuracy: 0.0926\n",
      "Epoch 60/200\n",
      " - 1s - loss: 324.2083 - mean_absolute_error: 13.8407 - accuracy: 0.0890\n",
      "Epoch 61/200\n",
      " - 1s - loss: 334.1714 - mean_absolute_error: 14.0828 - accuracy: 0.0943\n",
      "Epoch 62/200\n",
      " - 1s - loss: 332.0173 - mean_absolute_error: 14.0524 - accuracy: 0.0986\n",
      "Epoch 63/200\n",
      " - 1s - loss: 331.6983 - mean_absolute_error: 14.0372 - accuracy: 0.0983\n",
      "Epoch 64/200\n",
      " - 1s - loss: 333.3756 - mean_absolute_error: 14.0677 - accuracy: 0.0913\n",
      "Epoch 65/200\n",
      " - 1s - loss: 329.6570 - mean_absolute_error: 14.0127 - accuracy: 0.0966\n",
      "Epoch 66/200\n",
      " - 1s - loss: 329.9657 - mean_absolute_error: 13.9932 - accuracy: 0.0947\n",
      "Epoch 67/200\n",
      " - 1s - loss: 325.1269 - mean_absolute_error: 13.8690 - accuracy: 0.0961\n",
      "Epoch 68/200\n",
      " - 1s - loss: 323.3154 - mean_absolute_error: 13.8508 - accuracy: 0.0975\n",
      "Epoch 69/200\n",
      " - 1s - loss: 327.5496 - mean_absolute_error: 13.9402 - accuracy: 0.0957\n",
      "Epoch 70/200\n",
      " - 1s - loss: 326.1357 - mean_absolute_error: 13.9098 - accuracy: 0.0986\n",
      "Epoch 71/200\n",
      " - 1s - loss: 321.4838 - mean_absolute_error: 13.7764 - accuracy: 0.0953\n",
      "Epoch 72/200\n",
      " - 1s - loss: 326.3971 - mean_absolute_error: 13.9136 - accuracy: 0.1000\n",
      "Epoch 73/200\n",
      " - 1s - loss: 329.4658 - mean_absolute_error: 13.9667 - accuracy: 0.0983\n",
      "Epoch 74/200\n",
      " - 1s - loss: 322.5279 - mean_absolute_error: 13.8103 - accuracy: 0.1024\n",
      "Epoch 75/200\n",
      " - 1s - loss: 327.2145 - mean_absolute_error: 13.9346 - accuracy: 0.1054\n",
      "Epoch 76/200\n",
      " - 1s - loss: 328.1183 - mean_absolute_error: 13.9484 - accuracy: 0.1045\n",
      "Epoch 77/200\n",
      " - 1s - loss: 321.3236 - mean_absolute_error: 13.8016 - accuracy: 0.1094\n",
      "Epoch 78/200\n",
      " - 1s - loss: 323.6184 - mean_absolute_error: 13.8402 - accuracy: 0.1099\n",
      "Epoch 79/200\n",
      " - 1s - loss: 322.7325 - mean_absolute_error: 13.8276 - accuracy: 0.1095\n",
      "Epoch 80/200\n",
      " - 1s - loss: 323.4133 - mean_absolute_error: 13.8586 - accuracy: 0.1067\n",
      "Epoch 81/200\n",
      " - 1s - loss: 331.9906 - mean_absolute_error: 14.0537 - accuracy: 0.1025\n",
      "Epoch 82/200\n",
      " - 1s - loss: 320.0359 - mean_absolute_error: 13.7607 - accuracy: 0.1119\n",
      "Epoch 83/200\n",
      " - 1s - loss: 329.9163 - mean_absolute_error: 13.9885 - accuracy: 0.1059\n",
      "Epoch 84/200\n",
      " - 1s - loss: 326.5646 - mean_absolute_error: 13.8885 - accuracy: 0.1081\n",
      "Epoch 85/200\n",
      " - 1s - loss: 322.4047 - mean_absolute_error: 13.8208 - accuracy: 0.1079\n",
      "Epoch 86/200\n",
      " - 1s - loss: 322.2485 - mean_absolute_error: 13.8137 - accuracy: 0.1075\n",
      "Epoch 87/200\n",
      " - 1s - loss: 325.0862 - mean_absolute_error: 13.8462 - accuracy: 0.1103\n",
      "Epoch 88/200\n",
      " - 1s - loss: 323.6481 - mean_absolute_error: 13.8497 - accuracy: 0.1093\n",
      "Epoch 89/200\n",
      " - 1s - loss: 325.5007 - mean_absolute_error: 13.8908 - accuracy: 0.1071\n",
      "Epoch 90/200\n",
      " - 1s - loss: 322.6573 - mean_absolute_error: 13.7992 - accuracy: 0.1109\n",
      "Epoch 91/200\n",
      " - 1s - loss: 326.3080 - mean_absolute_error: 13.8867 - accuracy: 0.1047\n",
      "Epoch 92/200\n",
      " - 1s - loss: 321.5776 - mean_absolute_error: 13.7920 - accuracy: 0.1111\n",
      "Epoch 93/200\n",
      " - 1s - loss: 325.3682 - mean_absolute_error: 13.9197 - accuracy: 0.1089\n",
      "Epoch 94/200\n",
      " - 1s - loss: 323.3068 - mean_absolute_error: 13.8587 - accuracy: 0.1150\n",
      "Epoch 95/200\n",
      " - 1s - loss: 324.7589 - mean_absolute_error: 13.8512 - accuracy: 0.1122\n",
      "Epoch 96/200\n",
      " - 1s - loss: 324.6665 - mean_absolute_error: 13.8859 - accuracy: 0.1066\n"
     ]
    },
    {
     "name": "stdout",
     "output_type": "stream",
     "text": [
      "Epoch 97/200\n",
      " - 1s - loss: 317.1967 - mean_absolute_error: 13.6766 - accuracy: 0.1151\n",
      "Epoch 98/200\n",
      " - 1s - loss: 324.1965 - mean_absolute_error: 13.8442 - accuracy: 0.1113\n",
      "Epoch 99/200\n",
      " - 1s - loss: 329.0953 - mean_absolute_error: 13.9879 - accuracy: 0.1095\n",
      "Epoch 100/200\n",
      " - 1s - loss: 319.2035 - mean_absolute_error: 13.7248 - accuracy: 0.1095\n",
      "Epoch 101/200\n",
      " - 1s - loss: 325.8344 - mean_absolute_error: 13.8955 - accuracy: 0.1105\n",
      "Epoch 102/200\n",
      " - 1s - loss: 325.5013 - mean_absolute_error: 13.8989 - accuracy: 0.1143\n",
      "Epoch 103/200\n",
      " - 1s - loss: 327.5383 - mean_absolute_error: 13.9410 - accuracy: 0.1167\n",
      "Epoch 104/200\n",
      " - 1s - loss: 319.7284 - mean_absolute_error: 13.7745 - accuracy: 0.1136\n",
      "Epoch 105/200\n",
      " - 1s - loss: 321.5209 - mean_absolute_error: 13.7708 - accuracy: 0.1150\n",
      "Epoch 106/200\n",
      " - 1s - loss: 326.4449 - mean_absolute_error: 13.9244 - accuracy: 0.1130\n",
      "Epoch 107/200\n",
      " - 1s - loss: 322.1809 - mean_absolute_error: 13.8093 - accuracy: 0.1227\n",
      "Epoch 108/200\n",
      " - 1s - loss: 322.3065 - mean_absolute_error: 13.8017 - accuracy: 0.1214\n",
      "Epoch 109/200\n",
      " - 1s - loss: 321.9438 - mean_absolute_error: 13.8233 - accuracy: 0.1101\n",
      "Epoch 110/200\n",
      " - 1s - loss: 323.2500 - mean_absolute_error: 13.8299 - accuracy: 0.1145\n",
      "Epoch 111/200\n",
      " - 1s - loss: 328.5259 - mean_absolute_error: 13.9678 - accuracy: 0.1108\n",
      "Epoch 112/200\n",
      " - 1s - loss: 323.3743 - mean_absolute_error: 13.8431 - accuracy: 0.1238\n",
      "Epoch 113/200\n",
      " - 1s - loss: 322.2458 - mean_absolute_error: 13.8303 - accuracy: 0.1188\n",
      "Epoch 114/200\n",
      " - 1s - loss: 329.0570 - mean_absolute_error: 13.9699 - accuracy: 0.1201\n",
      "Epoch 115/200\n",
      " - 1s - loss: 318.4219 - mean_absolute_error: 13.7156 - accuracy: 0.1132\n",
      "Epoch 116/200\n",
      " - 1s - loss: 320.4625 - mean_absolute_error: 13.7744 - accuracy: 0.1123\n",
      "Epoch 117/200\n",
      " - 1s - loss: 318.1423 - mean_absolute_error: 13.7261 - accuracy: 0.1203\n",
      "Epoch 118/200\n",
      " - 1s - loss: 321.8398 - mean_absolute_error: 13.7989 - accuracy: 0.1126\n",
      "Epoch 119/200\n",
      " - 1s - loss: 324.0343 - mean_absolute_error: 13.8709 - accuracy: 0.1101\n",
      "Epoch 120/200\n",
      " - 1s - loss: 324.0708 - mean_absolute_error: 13.8570 - accuracy: 0.1145\n",
      "Epoch 121/200\n",
      " - 1s - loss: 321.5101 - mean_absolute_error: 13.8092 - accuracy: 0.1107\n",
      "Epoch 122/200\n",
      " - 1s - loss: 322.6588 - mean_absolute_error: 13.8042 - accuracy: 0.1128\n",
      "Epoch 123/200\n",
      " - 1s - loss: 326.8219 - mean_absolute_error: 13.9317 - accuracy: 0.1147\n",
      "Epoch 124/200\n",
      " - 1s - loss: 322.2976 - mean_absolute_error: 13.8201 - accuracy: 0.1166\n",
      "Epoch 125/200\n",
      " - 1s - loss: 323.5460 - mean_absolute_error: 13.8362 - accuracy: 0.1154\n",
      "Epoch 126/200\n",
      " - 1s - loss: 319.8422 - mean_absolute_error: 13.7668 - accuracy: 0.1224\n",
      "Epoch 127/200\n",
      " - 1s - loss: 320.5040 - mean_absolute_error: 13.7722 - accuracy: 0.1163\n",
      "Epoch 128/200\n",
      " - 1s - loss: 319.0913 - mean_absolute_error: 13.7418 - accuracy: 0.1184\n",
      "Epoch 129/200\n",
      " - 1s - loss: 326.4046 - mean_absolute_error: 13.9281 - accuracy: 0.1224\n",
      "Epoch 130/200\n",
      " - 1s - loss: 321.2984 - mean_absolute_error: 13.8063 - accuracy: 0.1168\n",
      "Epoch 131/200\n",
      " - 1s - loss: 320.1367 - mean_absolute_error: 13.7580 - accuracy: 0.1138\n",
      "Epoch 132/200\n",
      " - 1s - loss: 326.4506 - mean_absolute_error: 13.9234 - accuracy: 0.1136\n",
      "Epoch 133/200\n",
      " - 1s - loss: 320.1997 - mean_absolute_error: 13.7489 - accuracy: 0.1134\n",
      "Epoch 134/200\n",
      " - 1s - loss: 318.8940 - mean_absolute_error: 13.7411 - accuracy: 0.1202\n",
      "Epoch 135/200\n",
      " - 1s - loss: 322.3701 - mean_absolute_error: 13.8097 - accuracy: 0.1156\n",
      "Epoch 136/200\n",
      " - 1s - loss: 318.9805 - mean_absolute_error: 13.7291 - accuracy: 0.1195\n",
      "Epoch 137/200\n",
      " - 1s - loss: 321.3378 - mean_absolute_error: 13.7811 - accuracy: 0.1223\n",
      "Epoch 138/200\n",
      " - 1s - loss: 321.8220 - mean_absolute_error: 13.8062 - accuracy: 0.1220\n",
      "Epoch 139/200\n",
      " - 1s - loss: 319.4336 - mean_absolute_error: 13.7391 - accuracy: 0.1210\n",
      "Epoch 140/200\n",
      " - 1s - loss: 318.9113 - mean_absolute_error: 13.7404 - accuracy: 0.1184\n",
      "Epoch 141/200\n",
      " - 1s - loss: 320.4917 - mean_absolute_error: 13.7641 - accuracy: 0.1208\n",
      "Epoch 142/200\n",
      " - 1s - loss: 325.7085 - mean_absolute_error: 13.8984 - accuracy: 0.1214\n",
      "Epoch 143/200\n",
      " - 1s - loss: 326.0115 - mean_absolute_error: 13.9086 - accuracy: 0.1168\n",
      "Epoch 144/200\n",
      " - 1s - loss: 317.5766 - mean_absolute_error: 13.7059 - accuracy: 0.1214\n",
      "Epoch 145/200\n",
      " - 1s - loss: 320.7615 - mean_absolute_error: 13.7773 - accuracy: 0.1161\n",
      "Epoch 146/200\n",
      " - 1s - loss: 319.5938 - mean_absolute_error: 13.7570 - accuracy: 0.1180\n",
      "Epoch 147/200\n",
      " - 1s - loss: 319.3370 - mean_absolute_error: 13.7366 - accuracy: 0.1204\n",
      "Epoch 148/200\n",
      " - 1s - loss: 319.8148 - mean_absolute_error: 13.7688 - accuracy: 0.1196\n",
      "Epoch 149/200\n",
      " - 1s - loss: 320.5241 - mean_absolute_error: 13.7909 - accuracy: 0.1193\n",
      "Epoch 150/200\n",
      " - 1s - loss: 321.8300 - mean_absolute_error: 13.7962 - accuracy: 0.1241\n",
      "Epoch 151/200\n",
      " - 1s - loss: 322.4025 - mean_absolute_error: 13.8067 - accuracy: 0.1201\n",
      "Epoch 152/200\n",
      " - 1s - loss: 322.2216 - mean_absolute_error: 13.7867 - accuracy: 0.1259\n",
      "Epoch 153/200\n",
      " - 1s - loss: 323.4640 - mean_absolute_error: 13.8550 - accuracy: 0.1220\n",
      "Epoch 154/200\n",
      " - 1s - loss: 321.2048 - mean_absolute_error: 13.8147 - accuracy: 0.1237\n",
      "Epoch 155/200\n",
      " - 1s - loss: 317.2915 - mean_absolute_error: 13.7010 - accuracy: 0.1197\n",
      "Epoch 156/200\n",
      " - 1s - loss: 319.1928 - mean_absolute_error: 13.7579 - accuracy: 0.1210\n",
      "Epoch 157/200\n",
      " - 1s - loss: 318.4245 - mean_absolute_error: 13.7364 - accuracy: 0.1194\n",
      "Epoch 158/200\n",
      " - 1s - loss: 319.0447 - mean_absolute_error: 13.7514 - accuracy: 0.1224\n",
      "Epoch 159/200\n",
      " - 1s - loss: 319.0562 - mean_absolute_error: 13.7461 - accuracy: 0.1182\n",
      "Epoch 160/200\n",
      " - 1s - loss: 318.5615 - mean_absolute_error: 13.7309 - accuracy: 0.1185\n",
      "Epoch 161/200\n",
      " - 1s - loss: 318.7210 - mean_absolute_error: 13.7416 - accuracy: 0.1132\n",
      "Epoch 162/200\n",
      " - 1s - loss: 317.9520 - mean_absolute_error: 13.7282 - accuracy: 0.1227\n",
      "Epoch 163/200\n",
      " - 1s - loss: 323.6029 - mean_absolute_error: 13.8532 - accuracy: 0.1278\n",
      "Epoch 164/200\n",
      " - 1s - loss: 314.5205 - mean_absolute_error: 13.6279 - accuracy: 0.1219\n",
      "Epoch 165/200\n",
      " - 1s - loss: 322.2583 - mean_absolute_error: 13.8313 - accuracy: 0.1202\n",
      "Epoch 166/200\n",
      " - 1s - loss: 324.1499 - mean_absolute_error: 13.8586 - accuracy: 0.1218\n",
      "Epoch 167/200\n",
      " - 1s - loss: 318.3071 - mean_absolute_error: 13.7280 - accuracy: 0.1240\n",
      "Epoch 168/200\n",
      " - 1s - loss: 316.6057 - mean_absolute_error: 13.6865 - accuracy: 0.1224\n",
      "Epoch 169/200\n",
      " - 1s - loss: 317.6387 - mean_absolute_error: 13.7161 - accuracy: 0.1186\n",
      "Epoch 170/200\n",
      " - 1s - loss: 319.7886 - mean_absolute_error: 13.7628 - accuracy: 0.1185\n",
      "Epoch 171/200\n",
      " - 1s - loss: 318.0078 - mean_absolute_error: 13.7233 - accuracy: 0.1198\n",
      "Epoch 172/200\n",
      " - 1s - loss: 316.6882 - mean_absolute_error: 13.6840 - accuracy: 0.1217\n",
      "Epoch 173/200\n",
      " - 1s - loss: 321.4644 - mean_absolute_error: 13.8106 - accuracy: 0.1234\n",
      "Epoch 174/200\n",
      " - 1s - loss: 317.6302 - mean_absolute_error: 13.7077 - accuracy: 0.1252\n",
      "Epoch 175/200\n",
      " - 1s - loss: 317.0989 - mean_absolute_error: 13.6968 - accuracy: 0.1255\n",
      "Epoch 176/200\n",
      " - 1s - loss: 319.3120 - mean_absolute_error: 13.7398 - accuracy: 0.1237\n",
      "Epoch 177/200\n",
      " - 1s - loss: 320.0803 - mean_absolute_error: 13.7880 - accuracy: 0.1176\n",
      "Epoch 178/200\n",
      " - 1s - loss: 320.0885 - mean_absolute_error: 13.7404 - accuracy: 0.1170\n",
      "Epoch 179/200\n",
      " - 1s - loss: 320.6966 - mean_absolute_error: 13.7906 - accuracy: 0.1212\n",
      "Epoch 180/200\n",
      " - 1s - loss: 318.6766 - mean_absolute_error: 13.7358 - accuracy: 0.1252\n",
      "Epoch 181/200\n",
      " - 1s - loss: 321.0887 - mean_absolute_error: 13.7929 - accuracy: 0.1263\n",
      "Epoch 182/200\n",
      " - 1s - loss: 318.0682 - mean_absolute_error: 13.7327 - accuracy: 0.1202\n",
      "Epoch 183/200\n",
      " - 1s - loss: 317.1577 - mean_absolute_error: 13.6851 - accuracy: 0.1268\n",
      "Epoch 184/200\n",
      " - 1s - loss: 321.6980 - mean_absolute_error: 13.8119 - accuracy: 0.1213\n",
      "Epoch 185/200\n",
      " - 1s - loss: 323.9002 - mean_absolute_error: 13.8499 - accuracy: 0.1184\n",
      "Epoch 186/200\n",
      " - 1s - loss: 318.5315 - mean_absolute_error: 13.7355 - accuracy: 0.1214\n",
      "Epoch 187/200\n",
      " - 1s - loss: 318.8264 - mean_absolute_error: 13.7146 - accuracy: 0.1191\n",
      "Epoch 188/200\n",
      " - 1s - loss: 321.9019 - mean_absolute_error: 13.8156 - accuracy: 0.1201\n",
      "Epoch 189/200\n",
      " - 1s - loss: 317.6298 - mean_absolute_error: 13.7160 - accuracy: 0.1233\n",
      "Epoch 190/200\n",
      " - 1s - loss: 315.6257 - mean_absolute_error: 13.6691 - accuracy: 0.1296\n",
      "Epoch 191/200\n",
      " - 1s - loss: 317.1242 - mean_absolute_error: 13.7079 - accuracy: 0.1225\n"
     ]
    },
    {
     "name": "stdout",
     "output_type": "stream",
     "text": [
      "Epoch 192/200\n",
      " - 1s - loss: 319.7181 - mean_absolute_error: 13.7833 - accuracy: 0.1263\n",
      "Epoch 193/200\n",
      " - 1s - loss: 318.1580 - mean_absolute_error: 13.7185 - accuracy: 0.1227\n",
      "Epoch 194/200\n",
      " - 1s - loss: 316.8860 - mean_absolute_error: 13.7006 - accuracy: 0.1184\n",
      "Epoch 195/200\n",
      " - 1s - loss: 320.3560 - mean_absolute_error: 13.7766 - accuracy: 0.1257\n",
      "Epoch 196/200\n",
      " - 1s - loss: 322.2024 - mean_absolute_error: 13.8216 - accuracy: 0.1238\n",
      "Epoch 197/200\n",
      " - 1s - loss: 319.1956 - mean_absolute_error: 13.7401 - accuracy: 0.1273\n",
      "Epoch 198/200\n",
      " - 1s - loss: 317.2821 - mean_absolute_error: 13.6894 - accuracy: 0.1268\n",
      "Epoch 199/200\n",
      " - 1s - loss: 317.4307 - mean_absolute_error: 13.7078 - accuracy: 0.1299\n",
      "Epoch 200/200\n",
      " - 1s - loss: 318.6136 - mean_absolute_error: 13.7436 - accuracy: 0.1241\n"
     ]
    },
    {
     "data": {
      "text/plain": [
       "<keras.callbacks.callbacks.History at 0x11ecedf10>"
      ]
     },
     "execution_count": 32,
     "metadata": {},
     "output_type": "execute_result"
    }
   ],
   "source": [
    "# define model\n",
    "model = Sequential()\n",
    "model.add(Conv1D(filters=64, kernel_size=2, activation='relu', input_shape=(n_steps_in, n_features)))\n",
    "model.add(MaxPooling1D(pool_size=2)) \n",
    "model.add(Flatten())\n",
    "model.add(Dense(50, activation='relu')) \n",
    "model.add(Dense(n_steps_out)) \n",
    "model.compile(optimizer='adam', loss='mse',  metrics=[metrics.mae, 'accuracy'])\n",
    "\n",
    "# fit model\n",
    "model.fit(X, y, epochs=200, verbose=2)"
   ]
  },
  {
   "cell_type": "markdown",
   "metadata": {},
   "source": [
    "### Demonstrate a first prediction - set number of elements in input array equal to steps_in variable"
   ]
  },
  {
   "cell_type": "code",
   "execution_count": 27,
   "metadata": {},
   "outputs": [],
   "source": [
    "# demonstrate prediction\n",
    "#x_input = np.array([25, 24, 23])\n",
    "#x_input = x_input.reshape((1, n_steps_in, n_features)) \n",
    "#yhat = model.predict(x_input, verbose=0)\n",
    "#print(yhat)"
   ]
  },
  {
   "cell_type": "markdown",
   "metadata": {},
   "source": [
    "### Compute forecasting error  MAE"
   ]
  },
  {
   "cell_type": "code",
   "execution_count": 37,
   "metadata": {},
   "outputs": [
    {
     "name": "stdout",
     "output_type": "stream",
     "text": [
      "(3769, 20)\n",
      "(75380,)\n"
     ]
    }
   ],
   "source": [
    "# predict and compute error\n",
    "predicted = np.array([])\n",
    "\n",
    "for i in range(len(test_X)):\n",
    "    x_input = test_X[i].reshape((1, n_steps_in, n_features))\n",
    "    yhat = model.predict(x_input, verbose=0)\n",
    "    predicted = np.append(predicted, yhat) \n",
    "\n",
    "#predicted = predicted.reshape(-1, 1)    \n",
    "expected = test_y  \n",
    "print(expected.shape)\n",
    "print(predicted.shape)"
   ]
  },
  {
   "cell_type": "code",
   "execution_count": 38,
   "metadata": {},
   "outputs": [
    {
     "name": "stdout",
     "output_type": "stream",
     "text": [
      "Mean Absolute Error =  14.353551463519082\n"
     ]
    }
   ],
   "source": [
    "#expected = np.reshape(expected, (expected.shape[0]*expected.shape[1]))\n",
    "pred = predicted.reshape(expected.shape[0], expected.shape[1])\n",
    "# abs difference\n",
    "difference = abs((expected - pred))\n",
    "print('Mean Absolute Error = ', np.mean(difference))"
   ]
  },
  {
   "cell_type": "markdown",
   "metadata": {},
   "source": [
    "### Distribution of MAE per forecasting step"
   ]
  },
  {
   "cell_type": "code",
   "execution_count": 39,
   "metadata": {},
   "outputs": [
    {
     "data": {
      "image/png": "[encoded data removed]",
      "text/plain": [
       "<Figure size 1008x504 with 1 Axes>"
      ]
     },
     "metadata": {
      "needs_background": "light"
     },
     "output_type": "display_data"
    }
   ],
   "source": [
    "\n",
    "# show boxplot\n",
    "plt.figure(figsize = (14,7))\n",
    "plt.boxplot(difference, vert= False);\n",
    "plt.show()"
   ]
  },
  {
   "cell_type": "markdown",
   "metadata": {},
   "source": [
    "### Distribution of cumulative MAE"
   ]
  },
  {
   "cell_type": "code",
   "execution_count": 40,
   "metadata": {},
   "outputs": [
    {
     "data": {
      "image/png": "[encoded data removed]",
      "text/plain": [
       "<Figure size 1008x144 with 1 Axes>"
      ]
     },
     "metadata": {
      "needs_background": "light"
     },
     "output_type": "display_data"
    }
   ],
   "source": [
    "cum_diff = difference.reshape((difference.shape[0]*difference.shape[1] ))\n",
    "# show boxplot\n",
    "plt.figure(figsize = (14,2))\n",
    "plt.boxplot(cum_diff, vert= False);\n",
    "plt.show()"
   ]
  },
  {
   "cell_type": "code",
   "execution_count": null,
   "metadata": {},
   "outputs": [],
   "source": []
  }
 ],
 "metadata": {
  "kernelspec": {
   "display_name": "Python 3",
   "language": "python",
   "name": "python3"
  },
  "language_info": {
   "codemirror_mode": {
    "name": "ipython",
    "version": 3
   },
   "file_extension": ".py",
   "mimetype": "text/x-python",
   "name": "python",
   "nbconvert_exporter": "python",
   "pygments_lexer": "ipython3",
   "version": "3.7.4"
  }
 },
 "nbformat": 4,
 "nbformat_minor": 2
}
