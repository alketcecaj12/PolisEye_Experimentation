{
 "cells": [
  {
   "cell_type": "markdown",
   "metadata": {},
   "source": [
    "### Univariate, multistep forecast using LSTM "
   ]
  },
  {
   "cell_type": "code",
   "execution_count": 61,
   "metadata": {},
   "outputs": [
    {
     "name": "stderr",
     "output_type": "stream",
     "text": [
      "/Users/alket/anaconda3/lib/python3.7/site-packages/numpy/lib/arraysetops.py:568: FutureWarning: elementwise comparison failed; returning scalar instead, but in the future will perform elementwise comparison\n",
      "  mask |= (ar1 == a)\n"
     ]
    },
    {
     "name": "stdout",
     "output_type": "stream",
     "text": [
      "<class 'numpy.ndarray'>\n"
     ]
    }
   ],
   "source": [
    "import pandas as pd\n",
    "import numpy as np\n",
    "import matplotlib.pyplot as plt\n",
    "import datetime\n",
    "import time\n",
    "from pandas.plotting import lag_plot\n",
    "from pandas.plotting import autocorrelation_plot\n",
    "from sklearn.metrics import mean_absolute_error\n",
    "from sklearn.metrics import mean_squared_error \n",
    "from math import sqrt\n",
    "from sklearn.model_selection import train_test_split\n",
    "from keras.models import Sequential\n",
    "from keras.layers import LSTM\n",
    "from keras.layers import Dense\n",
    "from keras.layers import Flatten\n",
    "from keras.layers.convolutional import Conv1D\n",
    "from keras.layers.convolutional import MaxPooling1D\n",
    "from keras.optimizers import SGD\n",
    "from sklearn.preprocessing import MinMaxScaler\n",
    "from keras import metrics\n",
    "\n",
    "data = pd.read_csv('/Users/alket/Desktop/dati/new_data_backfill_forwfill.csv',index_col = 0)\n",
    "\n",
    "agg_by_cell = data.groupby(by = ['cell_num'])\n",
    "one_cell = agg_by_cell.get_group('495-1266')\n",
    "series = one_cell['nr_people'].values\n",
    "print(type(series))"
   ]
  },
  {
   "cell_type": "markdown",
   "metadata": {},
   "source": [
    "### Prepare input data for LSTM model"
   ]
  },
  {
   "cell_type": "code",
   "execution_count": 62,
   "metadata": {},
   "outputs": [
    {
     "name": "stdout",
     "output_type": "stream",
     "text": [
      "[326. 330. 321. 320. 318. 318. 321. 317. 318. 318. 316. 312. 312. 312.\n",
      " 309. 306. 304. 306. 307. 308.] [309. 310. 315. 312. 312. 309. 306. 310. 305. 307. 308. 308. 308. 308.\n",
      " 308. 317. 319. 319. 319. 339.]\n",
      "[330. 321. 320. 318. 318. 321. 317. 318. 318. 316. 312. 312. 312. 309.\n",
      " 306. 304. 306. 307. 308. 309.] [310. 315. 312. 312. 309. 306. 310. 305. 307. 308. 308. 308. 308. 308.\n",
      " 317. 319. 319. 319. 339. 328.]\n"
     ]
    }
   ],
   "source": [
    "# split a univariate sequence into samples\n",
    "def split_sequence(sequence, n_steps_in, n_steps_out):\n",
    "    X, y = list(), list()\n",
    "    for i in range(len(sequence)):\n",
    "         # find the end of this pattern\n",
    "         end_ix = i + n_steps_in\n",
    "         out_end_ix = end_ix + n_steps_out\n",
    "         # check if we are beyond the sequence\n",
    "         if out_end_ix > len(sequence):\n",
    "             break\n",
    "         # gather input and output parts of the pattern\n",
    "         seq_x, seq_y = sequence[i:end_ix], sequence[end_ix:out_end_ix]\n",
    "         X.append(seq_x)\n",
    "         y.append(seq_y)\n",
    "    return np.array(X), np.array(y)\n",
    "\n",
    "# choose a number of time steps\n",
    "n_steps_in, n_steps_out = 20, 20\n",
    "\n",
    "# split into samples\n",
    "X, y = split_sequence(series, n_steps_in, n_steps_out)\n",
    "count = 0\n",
    "for i in range(len(X)):\n",
    "    print(X[i], y[i])\n",
    "    count +=1\n",
    "    if count>1: break"
   ]
  },
  {
   "cell_type": "code",
   "execution_count": 63,
   "metadata": {},
   "outputs": [],
   "source": [
    "# reshape from [samples, timesteps] into [samples, timesteps, features]\n",
    "n_features = 1\n",
    "X = X.reshape((X.shape[0], X.shape[1], n_features))"
   ]
  },
  {
   "cell_type": "markdown",
   "metadata": {},
   "source": [
    "### Prepare train - test set"
   ]
  },
  {
   "cell_type": "code",
   "execution_count": 66,
   "metadata": {},
   "outputs": [
    {
     "name": "stdout",
     "output_type": "stream",
     "text": [
      "(8000, 20, 1) (3769, 20, 1)\n"
     ]
    }
   ],
   "source": [
    "train_size = 8000\n",
    "\n",
    "train_X, test_X = X[:train_size], X[train_size:]\n",
    "train_y, test_y= y[:train_size], y[train_size:]\n",
    "print(train_X.shape, test_X.shape)"
   ]
  },
  {
   "cell_type": "markdown",
   "metadata": {},
   "source": [
    "### LSTM Model"
   ]
  },
  {
   "cell_type": "code",
   "execution_count": 65,
   "metadata": {
    "scrolled": true
   },
   "outputs": [
    {
     "name": "stdout",
     "output_type": "stream",
     "text": [
      "Epoch 1/50\n",
      " - 9s - loss: 17146.3889 - mean_absolute_error: 64.5240 - accuracy: 0.0559\n",
      "Epoch 2/50\n",
      " - 8s - loss: 501.5916 - mean_absolute_error: 17.5343 - accuracy: 0.0515\n",
      "Epoch 3/50\n",
      " - 9s - loss: 444.8554 - mean_absolute_error: 16.5262 - accuracy: 0.0566\n",
      "Epoch 4/50\n",
      " - 8s - loss: 403.0679 - mean_absolute_error: 15.6925 - accuracy: 0.0584\n",
      "Epoch 5/50\n",
      " - 8s - loss: 406.3564 - mean_absolute_error: 15.7385 - accuracy: 0.0709\n",
      "Epoch 6/50\n",
      " - 9s - loss: 380.4845 - mean_absolute_error: 15.2220 - accuracy: 0.0742\n",
      "Epoch 7/50\n",
      " - 9s - loss: 359.0600 - mean_absolute_error: 14.8057 - accuracy: 0.0763\n",
      "Epoch 8/50\n",
      " - 9s - loss: 350.4734 - mean_absolute_error: 14.5995 - accuracy: 0.0799\n",
      "Epoch 9/50\n",
      " - 9s - loss: 343.7890 - mean_absolute_error: 14.4341 - accuracy: 0.0793\n",
      "Epoch 10/50\n",
      " - 9s - loss: 374.0683 - mean_absolute_error: 15.1463 - accuracy: 0.0751\n",
      "Epoch 11/50\n",
      " - 9s - loss: 356.8091 - mean_absolute_error: 14.7468 - accuracy: 0.0719\n",
      "Epoch 12/50\n",
      " - 9s - loss: 338.5407 - mean_absolute_error: 14.3306 - accuracy: 0.0784\n",
      "Epoch 13/50\n",
      " - 10s - loss: 333.0059 - mean_absolute_error: 14.2352 - accuracy: 0.0779\n",
      "Epoch 14/50\n",
      " - 10s - loss: 318.5109 - mean_absolute_error: 13.8572 - accuracy: 0.0791\n",
      "Epoch 15/50\n",
      " - 11s - loss: 29751.8958 - mean_absolute_error: 63.5576 - accuracy: 0.0586\n",
      "Epoch 16/50\n",
      " - 11s - loss: 445.5083 - mean_absolute_error: 16.7647 - accuracy: 0.0680\n",
      "Epoch 17/50\n",
      " - 10s - loss: 425.2588 - mean_absolute_error: 16.3713 - accuracy: 0.0518\n",
      "Epoch 18/50\n",
      " - 9s - loss: 406.4079 - mean_absolute_error: 15.9812 - accuracy: 0.0569\n",
      "Epoch 19/50\n",
      " - 9s - loss: 399.2374 - mean_absolute_error: 15.8259 - accuracy: 0.0580\n",
      "Epoch 20/50\n",
      " - 10s - loss: 397.1353 - mean_absolute_error: 15.7480 - accuracy: 0.0547\n",
      "Epoch 21/50\n",
      " - 10s - loss: 393.9979 - mean_absolute_error: 15.6978 - accuracy: 0.0599\n",
      "Epoch 22/50\n",
      " - 10s - loss: 389.7783 - mean_absolute_error: 15.6107 - accuracy: 0.0507\n",
      "Epoch 23/50\n",
      " - 10s - loss: 383.4419 - mean_absolute_error: 15.4350 - accuracy: 0.0532\n",
      "Epoch 24/50\n",
      " - 9s - loss: 377.6884 - mean_absolute_error: 15.3052 - accuracy: 0.0593\n",
      "Epoch 25/50\n",
      " - 8s - loss: 375.5409 - mean_absolute_error: 15.2625 - accuracy: 0.0561\n",
      "Epoch 26/50\n",
      " - 8s - loss: 373.1983 - mean_absolute_error: 15.2113 - accuracy: 0.0621\n",
      "Epoch 27/50\n",
      " - 8s - loss: 370.5087 - mean_absolute_error: 15.1241 - accuracy: 0.0606\n",
      "Epoch 28/50\n",
      " - 8s - loss: 367.2293 - mean_absolute_error: 15.0535 - accuracy: 0.0707\n",
      "Epoch 29/50\n",
      " - 8s - loss: 382.5433 - mean_absolute_error: 15.3877 - accuracy: 0.0640\n",
      "Epoch 30/50\n",
      " - 8s - loss: 368.1125 - mean_absolute_error: 15.0650 - accuracy: 0.0686\n",
      "Epoch 31/50\n",
      " - 10s - loss: 366.5933 - mean_absolute_error: 15.0358 - accuracy: 0.0689\n",
      "Epoch 32/50\n",
      " - 10s - loss: 368.0446 - mean_absolute_error: 15.0706 - accuracy: 0.0714\n",
      "Epoch 33/50\n",
      " - 8s - loss: 363.6312 - mean_absolute_error: 14.9957 - accuracy: 0.0775\n",
      "Epoch 34/50\n",
      " - 8s - loss: 367.6374 - mean_absolute_error: 15.0771 - accuracy: 0.0794\n",
      "Epoch 35/50\n",
      " - 8s - loss: 374.1080 - mean_absolute_error: 15.2460 - accuracy: 0.0789\n",
      "Epoch 36/50\n",
      " - 8s - loss: 372.2172 - mean_absolute_error: 15.2070 - accuracy: 0.0908\n",
      "Epoch 37/50\n",
      " - 8s - loss: 367.5254 - mean_absolute_error: 15.0961 - accuracy: 0.0677\n",
      "Epoch 38/50\n",
      " - 8s - loss: 371.3107 - mean_absolute_error: 15.1796 - accuracy: 0.0709\n",
      "Epoch 39/50\n",
      " - 9s - loss: 364.9729 - mean_absolute_error: 15.0120 - accuracy: 0.0707\n",
      "Epoch 40/50\n",
      " - 9s - loss: 365.1879 - mean_absolute_error: 15.0176 - accuracy: 0.0751\n",
      "Epoch 41/50\n",
      " - 8s - loss: 369.8629 - mean_absolute_error: 15.1518 - accuracy: 0.0702\n",
      "Epoch 42/50\n",
      " - 8s - loss: 359.2761 - mean_absolute_error: 14.8921 - accuracy: 0.0700\n",
      "Epoch 43/50\n",
      " - 9s - loss: 359.5064 - mean_absolute_error: 14.8837 - accuracy: 0.0742\n",
      "Epoch 44/50\n",
      " - 9s - loss: 356.5807 - mean_absolute_error: 14.8181 - accuracy: 0.0720\n",
      "Epoch 45/50\n",
      " - 8s - loss: 360.6856 - mean_absolute_error: 14.8745 - accuracy: 0.0760\n",
      "Epoch 46/50\n",
      " - 8s - loss: 356.8220 - mean_absolute_error: 14.8127 - accuracy: 0.0800\n",
      "Epoch 47/50\n",
      " - 8s - loss: 351.4252 - mean_absolute_error: 14.7034 - accuracy: 0.0745\n",
      "Epoch 48/50\n",
      " - 8s - loss: 354.9072 - mean_absolute_error: 14.7799 - accuracy: 0.0794\n",
      "Epoch 49/50\n",
      " - 8s - loss: 358.0274 - mean_absolute_error: 14.8458 - accuracy: 0.0796\n",
      "Epoch 50/50\n",
      " - 9s - loss: 352.1729 - mean_absolute_error: 14.7081 - accuracy: 0.0761\n"
     ]
    },
    {
     "data": {
      "text/plain": [
       "<keras.callbacks.callbacks.History at 0x1a31c53dd0>"
      ]
     },
     "execution_count": 65,
     "metadata": {},
     "output_type": "execute_result"
    }
   ],
   "source": [
    "# define model\n",
    "model = Sequential()\n",
    "model.add(LSTM(100, activation='relu', return_sequences=True, input_shape=(n_steps_in,n_features)))\n",
    "model.add(LSTM(100, activation='relu')) \n",
    "model.add(Dense(n_steps_out)) \n",
    "model.compile(optimizer='adam', loss='mse', metrics=[metrics.mae, 'accuracy'])\n",
    "\n",
    "# fit model\n",
    "model.fit(train_X, train_y, epochs=50, verbose=2)"
   ]
  },
  {
   "cell_type": "markdown",
   "metadata": {},
   "source": [
    "### Computer forcasting error."
   ]
  },
  {
   "cell_type": "code",
   "execution_count": 45,
   "metadata": {},
   "outputs": [
    {
     "name": "stdout",
     "output_type": "stream",
     "text": [
      "Mean Absolute Error =  3.3505381996239625\n"
     ]
    },
    {
     "data": {
      "image/png": "[encoded data removed]",
      "text/plain": [
       "<Figure size 1008x432 with 1 Axes>"
      ]
     },
     "metadata": {
      "needs_background": "light"
     },
     "output_type": "display_data"
    }
   ],
   "source": [
    "# predict and compute error\n",
    "predicted = np.array([])\n",
    "\n",
    "for i in range(len(test_X)):\n",
    "    # x_input = X[i].reshape((1, n_steps))\n",
    "    x_input = test_X[i].reshape((1, n_steps_in, n_features))\n",
    "    yhat = model.predict(x_input, verbose=0)\n",
    "    #print(yhat)\n",
    "    predicted = np.append(predicted, yhat) \n",
    "\n",
    "\n",
    "expected = test_y\n",
    "# abs difference\n",
    "\n",
    "predicted2 = predicted.reshape(expected.shape[0], expected.shape[1])\n",
    "difference = abs((expected - predicted2))\n",
    "\n",
    "print('Mean Absolute Error = ', np.mean(difference))\n",
    "# show boxplot\n",
    "plt.figure(figsize = (14,6))\n",
    "plt.boxplot(difference, vert= False);\n",
    "plt.show()"
   ]
  },
  {
   "cell_type": "markdown",
   "metadata": {},
   "source": [
    "### Distribution of cumulative MAE "
   ]
  },
  {
   "cell_type": "code",
   "execution_count": 67,
   "metadata": {},
   "outputs": [
    {
     "name": "stdout",
     "output_type": "stream",
     "text": [
      "60432\n"
     ]
    },
    {
     "data": {
      "image/png": "[encoded data removed]",
      "text/plain": [
       "<Figure size 1008x144 with 1 Axes>"
      ]
     },
     "metadata": {
      "needs_background": "light"
     },
     "output_type": "display_data"
    }
   ],
   "source": [
    "new_s = int(difference.shape[1]) * int(difference.shape[0]) \n",
    "print(new_s)\n",
    "d = np.reshape(difference, new_s)\n",
    "# show boxplot\n",
    "plt.figure(figsize = (14,2))\n",
    "plt.boxplot(d, vert= False);\n",
    "plt.show()"
   ]
  },
  {
   "cell_type": "code",
   "execution_count": null,
   "metadata": {},
   "outputs": [],
   "source": []
  },
  {
   "cell_type": "code",
   "execution_count": null,
   "metadata": {},
   "outputs": [],
   "source": []
  }
 ],
 "metadata": {
  "kernelspec": {
   "display_name": "Python 3",
   "language": "python",
   "name": "python3"
  },
  "language_info": {
   "codemirror_mode": {
    "name": "ipython",
    "version": 3
   },
   "file_extension": ".py",
   "mimetype": "text/x-python",
   "name": "python",
   "nbconvert_exporter": "python",
   "pygments_lexer": "ipython3",
   "version": "3.7.4"
  }
 },
 "nbformat": 4,
 "nbformat_minor": 2
}
